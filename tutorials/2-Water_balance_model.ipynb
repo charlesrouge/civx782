{
 "cells": [
  {
   "cell_type": "code",
   "execution_count": null,
   "metadata": {
    "id": "hoEWhFzkXIIb"
   },
   "outputs": [],
   "source": [
    "import math\n",
    "import pandas as pd\n",
    "import numpy as np\n",
    "from matplotlib import pyplot as plt\n",
    "import datetime"
   ]
  },
  {
   "cell_type": "markdown",
   "metadata": {
    "id": "vxnCWSSnVQ--"
   },
   "source": [
    "# Reservoir characteristics.\n",
    "\n",
    "\n",
    "\n",
    "First we download the relevant data from the spreadsheet."
   ]
  },
  {
   "cell_type": "code",
   "execution_count": null,
   "metadata": {
    "id": "La0tbh_r410W"
   },
   "outputs": [],
   "source": [
    "# First we download the key data\n",
    "key_parameters = pd.read_excel('data/Conowingo_data.xlsx', sheet_name='Reservoir characteristics')\n",
    "\n",
    "# Access the DataFrame\n",
    "print(key_parameters)"
   ]
  },
  {
   "cell_type": "markdown",
   "metadata": {
    "id": "OC0uR4VZ5dKf"
   },
   "source": [
    "Now we can have the key lake stats when it is full, and **convert them in the same units immediately** (m, m2, m3)."
   ]
  },
  {
   "cell_type": "code",
   "execution_count": null,
   "metadata": {
    "id": "no2ZKilIViX8"
   },
   "outputs": [],
   "source": [
    "full_lake_area =  key_parameters.iloc[2, key_parameters.columns.get_loc('Value')] * 100**2\n",
    "full_lake_volume = key_parameters.iloc[1, key_parameters.columns.get_loc('Value')] * 100**3"
   ]
  },
  {
   "cell_type": "markdown",
   "metadata": {
    "id": "LX0x27w9-Kbj"
   },
   "source": [
    "\n",
    "# Defining a reservoir\n"
   ]
  },
  {
   "cell_type": "markdown",
   "metadata": {
    "id": "s1s9HVRy-TgR"
   },
   "source": [
    "A reservoir has many characteristics that need to be represented:\n",
    "*   How storage volume, surface area and height of water in the reservoir are related. This is important for hydropower, recreation, but also for withdrawing water from the reservoir: water is withdrawn from a physical pipe situated at a certain depth (depth being calculated from the water level when the reservoir lake is full).\n",
    "*   We need to know what water uses depend on the reservoir.\n",
    "\n",
    "\n",
    "For this, we will construct them as an object in Python. First we declare the class, then associated functions. **Our key assumption here is that lake area increases linearly with the height of water in the lake**.\n",
    "\n",
    "To note:\n",
    "\n",
    "\n",
    "*   All units converted to basic metric units\n",
    "*   Water balance will track storage volume so basic function convert that into area and height.\n",
    "\n"
   ]
  },
  {
   "cell_type": "code",
   "execution_count": null,
   "metadata": {
    "id": "3sUFFv6n-o3i"
   },
   "outputs": [],
   "source": [
    "class Reservoir:\n",
    "\n",
    "  # Define attributes specific to each Reservoir object\n",
    "  def __init__(self, name, full_lake_area, full_lake_volume, dead_storage=0):\n",
    "    self.name = name\n",
    "    self.full_lake_area = full_lake_area # Surface area of the lake at full capacity in square metres (m2)\n",
    "    self.full_lake_volume = full_lake_volume # Volume of water at full capacity in cubic metres (m3)\n",
    "\n",
    "    # Attributes deduced from others\n",
    "    # Assuming a simplified linear relationship between water level and surface area\n",
    "    self.total_lake_depth = self.full_lake_volume / (self.full_lake_area / 2)\n",
    "    self.initial_storage = 0.9 * self.full_lake_volume  # Initialize storage at 90% full\n",
    "\n",
    "    # Optional attribute with default value of 0: dead storage volume, the volume below which release is impossible\n",
    "    # By default dead storage is empty storage\n",
    "    self.dead_storage = dead_storage\n",
    "\n",
    "    # Initialise demands\n",
    "    self.demand_on_site = []\n",
    "    self.demand_downstream = []\n",
    "\n",
    "  # Method to calculate the current surface area based on current volume (in m3)\n",
    "  def get_surface_area(self,  volume):\n",
    "    # Make sure volume is bounded\n",
    "    current_volume = min(self.full_lake_volume, max(0, volume))\n",
    "    return math.sqrt(2*current_volume*self.full_lake_area/(self.total_lake_depth))\n",
    "\n",
    "  # Method to calculate the current water height based on the current volume (in m3)\n",
    "  def get_height(self, volume):\n",
    "    # Make sure volume is bounded\n",
    "    return 2* min(self.full_lake_volume, max(0, volume))  / self.get_surface_area(volume)\n",
    "\n",
    "  # Method to add an on-site demand\n",
    "  def add_on_site_demand(self, demand):\n",
    "    self.demand_on_site.append(demand)\n",
    "    return None\n",
    "\n",
    "  # Method to add a demand dowsntream of the reservoir\n",
    "  def add_downstream_demand(self, demand):\n",
    "    self.demand_downstream.append(demand)\n",
    "    return None"
   ]
  },
  {
   "cell_type": "markdown",
   "metadata": {
    "id": "j1kjh5sGlzEe"
   },
   "source": [
    "Let us create a reservoir object with specified values, see slide 2 in the accompanying slides for this tutorial."
   ]
  },
  {
   "cell_type": "code",
   "execution_count": null,
   "metadata": {
    "id": "Cc-SRo4imSe-"
   },
   "outputs": [],
   "source": [
    "# Create a reservoir object with the specified values\n",
    "res = Reservoir(\"Conowingo\", full_lake_area, full_lake_volume)\n",
    "\n",
    "# Print characteristics of reservoir object\n",
    "print(res.__dict__)"
   ]
  },
  {
   "cell_type": "code",
   "execution_count": null,
   "metadata": {
    "id": "wR1YA4Au3I0R"
   },
   "outputs": [],
   "source": [
    "# Let us modify the reservoir to reflect actual dead storage\n",
    "res.dead_storage = key_parameters.iloc[0, key_parameters.columns.get_loc('Value')] * 100**3\n",
    "print('Dead storage is now ' + str(int(res.dead_storage  / 100**3)) + 'hm3.')"
   ]
  },
  {
   "cell_type": "markdown",
   "metadata": {},
   "source": [
    "# Water balance over a single time step\n",
    "\n",
    "Let us model inflows and releases (see still slide 2 from tutorial slides). In practice, here we assume that:\n",
    "\n",
    "1.   The ecological demand is served first (if possible).\n",
    "2.   Other demands take water directly from the reservoir in the limit of what remains.\n",
    "3.   Then excess water is spilled and added to the releases."
   ]
  },
  {
   "cell_type": "code",
   "execution_count": null,
   "metadata": {},
   "outputs": [],
   "source": [
    "def single_step(reservoir, storage_beg, inflows, site_demand, downstream_demand):\n",
    "\n",
    "    '''\n",
    "    Note all in m3.\n",
    "    :param reservoir: Object of the Reservoir class\n",
    "    :param storage_beg: Initial storage at the beginning of the time step (m3)\n",
    "    :param inflows: Inflows over the time step (m3)\n",
    "    :param site_demand: Demand for withdrawal from reservoir over the time step (m3)\n",
    "    :param downstream_demand: Demand for release for downstream use over the time step (m3)\n",
    "    :return: storage_end (end of time step storage, m3)\n",
    "    :return: release (amount of water released over time step, m3)\n",
    "    :return: withdrawals (to meet demand over time step at reservoir, m3)\n",
    "    '''\n",
    "\n",
    "    # Compute water availability, accounting for dead storage (volume units)\n",
    "    water_available = storage_beg - reservoir.dead_storage + inflows\n",
    "\n",
    "    # Release for downstream demand (volumetric rate)\n",
    "    release = np.min([water_available, downstream_demand])\n",
    "\n",
    "    # Update water availability\n",
    "    water_available = water_available - release\n",
    "\n",
    "    # Withdrawals from the reservoir\n",
    "    withdrawals = np.min([water_available, site_demand])\n",
    "\n",
    "   # Update water availability\n",
    "    water_available = water_available - withdrawals\n",
    "\n",
    "    # Check if reservoir is over full\n",
    "    if water_available + reservoir.dead_storage > reservoir.full_lake_volume:\n",
    "        # Lake is full\n",
    "        storage_end = reservoir.full_lake_volume\n",
    "        # Excess storage is spilled\n",
    "        release = release + (water_available + reservoir.dead_storage - reservoir.full_lake_volume)\n",
    "    else:\n",
    "        # Lake is not full so water availability determines new storage\n",
    "        storage_end = water_available + reservoir.dead_storage\n",
    "\n",
    "    return storage_end, release, withdrawals"
   ]
  },
  {
   "cell_type": "markdown",
   "metadata": {},
   "source": [
    "**We can test this function in three cases, (1) not enough water, (2) enough water, (3) too much water.**\n",
    "\n",
    "Note the time step is not specified, so we can test with arbitray amounts of water and numbers!\n",
    "\n",
    "So we call the function and check the answer is what we would expect! Below is a test for case 2 (the easiest), can you do the same for cases 1 and 3?"
   ]
  },
  {
   "cell_type": "code",
   "execution_count": null,
   "metadata": {},
   "outputs": [],
   "source": [
    "# Inputs\n",
    "storage_beg=0.8*res.full_lake_volume\n",
    "inflows=0.2*res.full_lake_volume\n",
    "site_demand=0.1*res.full_lake_volume\n",
    "downstream_demand=0.2*res.full_lake_volume\n",
    "\n",
    "# Call the function\n",
    "x = single_step(res, storage_beg, inflows, site_demand, downstream_demand)\n",
    "\n",
    "# Examine results\n",
    "print('At the end of the time step, reservoir is ' + str(int(x[0] / res.full_lake_volume*100)) + '% full.')\n",
    "print('At the end of the time step, releases meet ' + str(int(x[1] / downstream_demand * 100)) + '% of downstream demand.')\n",
    "print('These releases correspond to '+ str(int(x[1] / res.full_lake_volume*100)) + '% of total storage volume.')\n",
    "print('At the end of the time step, withdrawals directly from the reservoir meet ' + str(int(x[2] / site_demand * 100)) + '% of demand.')\n",
    "print('These withdrawals correspond to '+ str(int(x[2] / res.full_lake_volume*100)) + '% of total storage volume.')"
   ]
  },
  {
   "cell_type": "markdown",
   "metadata": {
    "id": "8CjlfcTOluaD"
   },
   "source": [
    "# Water balance over time\n",
    "\n",
    "Now we start the water balance. First we need to extract the inflows.\n",
    "\n",
    "## Inflow data\n",
    "\n",
    "Let us first download the data. Note that we make the first column the index."
   ]
  },
  {
   "cell_type": "code",
   "execution_count": null,
   "metadata": {
    "id": "hoWIqyVc8b5A"
   },
   "outputs": [],
   "source": [
    "inflow_data = pd.read_excel('data/Conowingo_data.xlsx', sheet_name='Flow data', index_col=0)\n",
    "print(inflow_data.head(5))"
   ]
  },
  {
   "cell_type": "markdown",
   "metadata": {
    "id": "u3_5pnFa-9iZ"
   },
   "source": [
    "Here's how we can create a time series of the total inflows, similar to tutorial 1. Note how the summation is made."
   ]
  },
  {
   "cell_type": "code",
   "execution_count": null,
   "metadata": {
    "id": "aLlW8-rY_EER"
   },
   "outputs": [],
   "source": [
    "print(inflow_data.sum(axis=1))"
   ]
  },
  {
   "cell_type": "markdown",
   "metadata": {
    "id": "o3IST_pW9XuJ"
   },
   "source": [
    "But the unit is in cubic feet per second (cfs), and it would be much better to work with metric units only... The conversion factor is 1ft = 0.3048m.\n",
    "\n",
    "Let us now create a new Pandas DataFrame where each column is an element of the water balance. Our first column will be the total inflows.\n"
   ]
  },
  {
   "cell_type": "code",
   "execution_count": null,
   "metadata": {
    "id": "KsdOJtys9mEB"
   },
   "outputs": [],
   "source": [
    "water_balance = pd.DataFrame(inflow_data.sum(axis=1) * 0.3048**3, columns = ['Total inflows (m3/s)'])\n",
    "print(water_balance)"
   ]
  },
  {
   "cell_type": "markdown",
   "metadata": {
    "id": "RO2s9k9pADEr"
   },
   "source": [
    "## Demand data\n",
    "\n",
    "Now we can upload the demand data."
   ]
  },
  {
   "cell_type": "code",
   "execution_count": null,
   "metadata": {
    "id": "BVxYPZdqAKVc"
   },
   "outputs": [],
   "source": [
    "demand_data = pd.read_excel('data/Conowingo_data.xlsx', sheet_name='Demands')\n",
    "print(demand_data)"
   ]
  },
  {
   "cell_type": "markdown",
   "metadata": {
    "id": "YasJqe05INN5"
   },
   "source": [
    "We need to first add these demands to the reservoir, by declaring them using the methods introduced with the Reservoir class.\n",
    "\n",
    "Note the Chester, Baltimore and nuclear plant demands are extractions from the reservoir, whereas environmental flows are releases."
   ]
  },
  {
   "cell_type": "code",
   "execution_count": null,
   "metadata": {
    "id": "xRu3mRmkIlKS"
   },
   "outputs": [],
   "source": [
    "res.add_downstream_demand('Environmental')\n",
    "res.add_on_site_demand('Baltimore')\n",
    "res.add_on_site_demand('Chester')\n",
    "res.add_on_site_demand('Nuclear plant')\n",
    "\n",
    "# Check result\n",
    "print(res.demand_on_site)\n",
    "print(res.demand_downstream)"
   ]
  },
  {
   "cell_type": "markdown",
   "metadata": {
    "id": "MNMPw3YhBD-q"
   },
   "source": [
    "Now we need to add these demands to the water balance. **Two key things to consider here, (1) demands need to be expressed for each day over 70 years, and (2) we must use SI units!**"
   ]
  },
  {
   "cell_type": "code",
   "execution_count": null,
   "metadata": {
    "id": "DFFvgT1sDuXf"
   },
   "outputs": [],
   "source": [
    "# First, initialise demand data into water balance: start with environmental demand\n",
    "water_balance['Environmental demand (m3/s)'] = np.zeros(len(water_balance))\n",
    "print(water_balance)"
   ]
  },
  {
   "cell_type": "code",
   "execution_count": null,
   "metadata": {
    "id": "27ZVENaPE4g9"
   },
   "outputs": [],
   "source": [
    "# Now add the others\n",
    "water_balance['Baltimore demand (m3/s)'] = np.zeros(len(water_balance))\n",
    "water_balance['Chester demand (m3/s)'] = np.zeros(len(water_balance))\n",
    "water_balance['Nuclear plant demand (m3/s)'] = np.zeros(len(water_balance))"
   ]
  },
  {
   "cell_type": "code",
   "execution_count": null,
   "metadata": {
    "id": "JywBDNU7T9rv"
   },
   "outputs": [],
   "source": [
    "print(water_balance)"
   ]
  },
  {
   "cell_type": "code",
   "execution_count": null,
   "metadata": {
    "id": "P8Wj3427Ao8T"
   },
   "outputs": [],
   "source": [
    "# Then let's make a list of months to loop on them\n",
    "months = np.arange(1,13,1)\n",
    "print(months)"
   ]
  },
  {
   "cell_type": "code",
   "execution_count": null,
   "metadata": {
    "id": "-nsJcZhkDhdM"
   },
   "outputs": [],
   "source": [
    "# Loop on months\n",
    "for month in months:\n",
    "\n",
    "  # Make a mask to only keep the days that correspond to the current month.\n",
    "  monthly_mask = water_balance.index.month == month\n",
    "\n",
    "  # For all days of that month, get the correct data\n",
    "  water_balance.loc[monthly_mask, 'Environmental demand (m3/s)'] = demand_data.iloc[month-1, 4] * 0.3048**3\n",
    "  water_balance.loc[monthly_mask, 'Baltimore demand (m3/s)'] = demand_data.iloc[month-1, 1] * 0.3048**3\n",
    "  water_balance.loc[monthly_mask, 'Chester demand (m3/s)'] = demand_data.iloc[month-1, 2] * 0.3048**3\n",
    "  water_balance.loc[monthly_mask, 'Nuclear plant demand (m3/s)'] = demand_data.iloc[month-1, 3] * 0.3048**3\n",
    "\n",
    "print(water_balance)"
   ]
  },
  {
   "cell_type": "markdown",
   "metadata": {
    "id": "KS5WbSoUH6KX"
   },
   "source": [
    "## Let's perform the water balance\n",
    "\n",
    "This is a loop on days during the time frame of the simulation. At the heart is the one-step water balance.\n",
    "**Mind the units: everything needs to be expressed in the same units (volume is easiest).**\n",
    "\n",
    "**Question: what happens to the \"available water\" variable through this function? What is the role of minimum (or dead) storage? **\n",
    "\n"
   ]
  },
  {
   "cell_type": "code",
   "execution_count": null,
   "metadata": {
    "id": "Q19pdvdDx6zw"
   },
   "outputs": [],
   "source": [
    "def basic_water_balance(reservoir, water_flows):\n",
    "\n",
    "  '''\n",
    "  This function performs the water balance. Arguments are:\n",
    "        reservoir: an instance of the Reservoir class\n",
    "        water_flows: a pandas DataFrame that must contain inflows and demands.\n",
    "  The function returns an updated water_flows DataFrame.\n",
    "  '''\n",
    "\n",
    "\n",
    "  # Local variable: number of time steps\n",
    "  t_total = len(water_flows)\n",
    "\n",
    "  # Local variable: number of seconds in a day\n",
    "  n_sec = 86400\n",
    "\n",
    "  # For computing efficiency: convert flows to numpy arrays outside of time loop\n",
    "\n",
    "  # Inflows (in m3)\n",
    "  inflows = water_flows['Total inflows (m3/s)'].to_numpy() * n_sec\n",
    "\n",
    "  # Total downstream demand (in m3)\n",
    "  downstream_demands = np.zeros(len(water_flows))\n",
    "  for i in range(len(reservoir.demand_downstream)):\n",
    "      # Get column with that demand\n",
    "      demand_col = ([col for col in water_flows.columns if reservoir.demand_downstream[i] in col])\n",
    "      # Add this demand to total demand\n",
    "      downstream_demands = downstream_demands + water_flows.loc[:, demand_col[0]].to_numpy()\n",
    "  downstream_demands = downstream_demands * n_sec  # conversion to m3\n",
    "\n",
    "  # Total at-site demands (in m3)\n",
    "  at_site_demands = np.zeros(len(water_flows))\n",
    "  for i in range(len(reservoir.demand_on_site)):\n",
    "     # Get column with that demand\n",
    "     demand_col = ([col for col in water_flows.columns if reservoir.demand_on_site[i] in col])\n",
    "     at_site_demands = at_site_demands + water_flows.loc[water_flows.index, demand_col[0]].to_numpy()\n",
    "  at_site_demands = at_site_demands * n_sec  # conversion to m3\n",
    "\n",
    "  # Initialise outputs\n",
    "  # Storage needs to account for initial storage\n",
    "  storage = np.zeros(t_total + 1)\n",
    "  storage[0] = reservoir.initial_storage\n",
    "  # Initialise at-site withdrawals and release as water balance components\n",
    "  withdrawals = np.zeros(t_total)\n",
    "  release = np.zeros(t_total)\n",
    "\n",
    "  # Main loop\n",
    "  for t in range(t_total):\n",
    "\n",
    "    wb_out = single_step(reservoir, storage[t], inflows[t], at_site_demands[t], downstream_demands[t])\n",
    "    storage[t+1] = wb_out[0]\n",
    "    release[t] = wb_out[1]\n",
    "    withdrawals[t] = wb_out[2]\n",
    "\n",
    "  # Insert data into water balance (mind the flow rates conversions back into m3/s)\n",
    "  water_flows['Withdrawals (m3/s)'] = withdrawals / n_sec\n",
    "  water_flows['Release (m3/s)'] = release / n_sec\n",
    "  water_flows['Storage (m3)'] = storage[1:]\n",
    "\n",
    "  return water_flows\n"
   ]
  },
  {
   "cell_type": "markdown",
   "metadata": {
    "id": "wkp2AVaMTYbe"
   },
   "source": [
    "Now we call this water balance function for our case-study!"
   ]
  },
  {
   "cell_type": "code",
   "execution_count": null,
   "metadata": {
    "id": "pWhduPJbTda5"
   },
   "outputs": [],
   "source": [
    "basic_water_balance(res, water_balance)"
   ]
  },
  {
   "cell_type": "markdown",
   "metadata": {
    "id": "sIMwtZd0T3Hf"
   },
   "source": [
    "We can plot results. We can also zoom in on any period of interest!\n",
    "**Can you zoom in on that dry period in the 1960s?**"
   ]
  },
  {
   "cell_type": "code",
   "execution_count": null,
   "metadata": {
    "id": "XeWZtfXXT453"
   },
   "outputs": [],
   "source": [
    "# Storage over time\n",
    "fig = plt.figure()\n",
    "ax = fig.add_subplot(1, 1, 1)\n",
    "s, = ax.plot(water_balance.index, water_balance['Storage (m3)'], c='b', linewidth=2, label='Storage')\n",
    "smin, = ax.plot(water_balance.index, res.dead_storage*np.ones(len(water_balance)), c='black', linestyle='--', linewidth=2, label='Dead storage')\n",
    "legend = ax.legend(handles=[s, smin], loc=4)\n",
    "ax.set_xlabel('Date', size=14)\n",
    "ax.set_ylabel('Storage (m3)', size=14)\n",
    "\n",
    "# We set the boundaries of the x-axis\n",
    "# We can get the full period\n",
    "ax.set_xlim(water_balance.index[0], water_balance.index[-1])"
   ]
  },
  {
   "cell_type": "code",
   "execution_count": null,
   "metadata": {
    "id": "KmO2iSQXnaJV"
   },
   "outputs": [],
   "source": [
    "# Or part of it!\n",
    "ax.set_xlim(datetime.date(1962,1,1), datetime.date(1968,1,1))\n",
    "fig"
   ]
  },
  {
   "cell_type": "code",
   "execution_count": null,
   "metadata": {
    "id": "vi8RT4knXQ0x"
   },
   "outputs": [],
   "source": [
    "# What happens to inflows and release during that period?\n",
    "fig = plt.figure()\n",
    "ax = fig.add_subplot(1, 1, 1)\n",
    "ins, = ax.plot(water_balance.index, water_balance['Total inflows (m3/s)'], c='b', linewidth=2, label='Inflows')\n",
    "outs, = ax.plot(water_balance.index, water_balance['Release (m3/s)'], c='r', linewidth=2, label='Release')\n",
    "legend = ax.legend(handles=[ins, outs], loc=1)\n",
    "ax.set_xlabel('Date', size=14)\n",
    "ax.set_ylabel('Flow (m3/s)', size=14)\n",
    "\n",
    "# We set the boundaries of the x-axis\n",
    "ax.set_xlim(datetime.date(1962,1,1), datetime.date(1968,1,1))\n",
    "\n",
    "# And adjust the y-axis (UNCOMMENT)\n",
    "ax.set_ylim(0, 15000)"
   ]
  },
  {
   "cell_type": "code",
   "execution_count": null,
   "metadata": {
    "id": "PdAiWgdqdR_M"
   },
   "outputs": [],
   "source": [
    "# And what about the withdrawals from the reservoir?\n",
    "fig = plt.figure()\n",
    "ax = fig.add_subplot(1, 1, 1)\n",
    "ax.plot(water_balance.index, water_balance['Withdrawals (m3/s)'], c='b', linewidth=2)\n",
    "ax.set_xlabel('Date', size=14)\n",
    "ax.set_ylabel('Withdrawals (m3/s)', size=14)\n",
    "\n",
    "# We set the boundaries of the x-axis\n",
    "ax.set_xlim(datetime.date(1962,1,1), datetime.date(1968,1,1))\n",
    "ax.set_ylim(0, 16)"
   ]
  },
  {
   "cell_type": "markdown",
   "metadata": {
    "id": "MZDEvRcBr5oU"
   },
   "source": [
    "**Questions:**\n",
    "\n",
    "\n",
    "*   From the above figures and the water balance, when are withdrawals less than the demand?\n",
    "*   Are the withdrawals large compared with the average inflows?\n",
    "*   Can this reservoir store water from the wet season for the dry season? (hint: how long does it take to fill in the reservoir with 1000 m3/s inflows)\n",
    "\n"
   ]
  },
  {
   "cell_type": "code",
   "execution_count": null,
   "metadata": {
    "id": "bsnhBOGdnurg"
   },
   "outputs": [],
   "source": [
    "# Let's save these withdrawals for future reference\n",
    "basic_withdrawals = pd.Series(water_balance['Withdrawals (m3/s)'])"
   ]
  },
  {
   "cell_type": "markdown",
   "metadata": {
    "id": "DlZZXk1Zd2gr"
   },
   "source": [
    "# Refinements of the water balance\n",
    "\n",
    "Now we assume each withdrawal from the reservoir is at a given intake height (see the reservoir's key characteristics, as well as tutorial slide 3).\n",
    "\n",
    "We will create a demand class to reflect the fact that demands have different characteristics."
   ]
  },
  {
   "cell_type": "code",
   "execution_count": null,
   "metadata": {
    "id": "GztRzdVbd1as"
   },
   "outputs": [],
   "source": [
    "class Demand:\n",
    "\n",
    "  # Define attributes specific to each Demand object\n",
    "  def __init__(self, name, intake_depth=np.inf):\n",
    "    self.name = name\n",
    "    # intake depth from full lake level\n",
    "    self.intake_depth = intake_depth"
   ]
  },
  {
   "cell_type": "markdown",
   "metadata": {
    "id": "UHNKHPj_fexE"
   },
   "source": [
    "Now we need to re-initiatlise the demands from the reservoirs to add the intake heights to the demands."
   ]
  },
  {
   "cell_type": "code",
   "execution_count": null,
   "metadata": {
    "id": "Cjy3MF6lfrwm"
   },
   "outputs": [],
   "source": [
    "# Re-initialise\n",
    "res.demand_downstream = []\n",
    "res.demand_on_site = []\n",
    "\n",
    "# Add demands using Demand objects\n",
    "res.add_downstream_demand(Demand('Environmental'))\n",
    "res.add_on_site_demand(Demand('Baltimore', key_parameters.iloc[6, 1]))\n",
    "res.add_on_site_demand(Demand('Chester', key_parameters.iloc[7, 1]))\n",
    "res.add_on_site_demand(Demand('Nuclear plant', key_parameters.iloc[6, 1]))"
   ]
  },
  {
   "cell_type": "markdown",
   "metadata": {
    "id": "vqwDZQ1phQYc"
   },
   "source": [
    "We also need to remove columns for withdrawals, release, storage, from the water balance DataFrame."
   ]
  },
  {
   "cell_type": "code",
   "execution_count": null,
   "metadata": {
    "id": "FnXCh5eohxJN"
   },
   "outputs": [],
   "source": [
    "water_balance.drop(['Release (m3/s)', 'Withdrawals (m3/s)', 'Storage (m3)'], axis=1, inplace=True)\n",
    "\n",
    "# list the remaining columns\n",
    "print(water_balance.columns)"
   ]
  },
  {
   "cell_type": "markdown",
   "metadata": {
    "id": "bLsB8ZdPg_hl"
   },
   "source": [
    "**And that is going to change how we conduct the water balance! First, because we now need to differenciate between the different intakes.**\n",
    "\n",
    "Let us update the one-step balance:"
   ]
  },
  {
   "cell_type": "code",
   "execution_count": null,
   "metadata": {},
   "outputs": [],
   "source": [
    "def single_step_refined(reservoir, storage_beg, inflows, site_demand, downstream_demand):\n",
    "\n",
    "    '''\n",
    "    Note all in m3.\n",
    "    :param reservoir: Object of the Reservoir class\n",
    "    :param storage_beg: Initial storage at the beginning of the time step (m3)\n",
    "    :param inflows: Inflows over the time step (m3)\n",
    "    :param site_demand: Demand for withdrawal from reservoir over the time step (m3). Vector with length the number of demands\n",
    "    :param downstream_demand: Demand for release for downstream use over the time step (m3)\n",
    "    :return: storage_end (end of time step storage, m3)\n",
    "    :return: release (amount of water released over time step, m3)\n",
    "    :return: withdrawals (to meet demand over time step at reservoir, m3)\n",
    "    '''\n",
    "\n",
    "    # Compute water availability, accounting for dead storage (volume units)\n",
    "    water_available = storage_beg - reservoir.dead_storage + inflows\n",
    "\n",
    "    # Release for downstream demand (volumetric rate)\n",
    "    release = np.min([water_available, downstream_demand])\n",
    "\n",
    "    # Update water availability\n",
    "    water_available = water_available - release\n",
    "\n",
    "    # Height of water available in the reservoir, computed with height=0 when reservoir is empty\n",
    "    height = reservoir.get_height(water_available + reservoir.dead_storage)\n",
    "\n",
    "    # Initialise withdrawals FOR EACH DEMAND SOURCE\n",
    "    withdrawals = np.zeros(len(reservoir.demand_on_site))\n",
    "\n",
    "    # Compute on-site withdrawals FOR EACH DEMAND SOURCE\n",
    "    for i in range(len(reservoir.demand_on_site)):\n",
    "\n",
    "        # Check abstraction is possible\n",
    "        if height + reservoir.demand_on_site[i].intake_depth > reservoir.total_lake_depth:\n",
    "            # Withdrawals for downstream demand (volumetric rate)\n",
    "            withdrawals[i] = np.min([water_available, site_demand[i]])\n",
    "            # Update water availability\n",
    "            water_available = water_available - withdrawals[i]\n",
    "\n",
    "    # Check if reservoir is over full\n",
    "    if water_available + reservoir.dead_storage > reservoir.full_lake_volume:\n",
    "        # Lake is full\n",
    "        storage_end = reservoir.full_lake_volume\n",
    "        # Excess storage is spilled\n",
    "        release = release + (water_available + reservoir.dead_storage - reservoir.full_lake_volume)\n",
    "    else:\n",
    "        # Lake is not full so water availability determines new storage\n",
    "        storage_end = water_available + reservoir.dead_storage\n",
    "\n",
    "    return storage_end, release, withdrawals"
   ]
  },
  {
   "cell_type": "code",
   "execution_count": null,
   "metadata": {},
   "outputs": [],
   "source": [
    "def final_water_balance(reservoir, water_flows):\n",
    "\n",
    "    \"\"\"\n",
    "    This function performs the water balance. Arguments are:\n",
    "        reservoir: an instance of the Reservoir class\n",
    "        water_flows: a pandas DataFrame that must contain inflows and demands.\n",
    "    The function returns an updated water_flows DataFrame.\n",
    "    \"\"\"\n",
    "\n",
    "    # Local variable: number of time steps\n",
    "    t_total = len(water_flows)\n",
    "\n",
    "    # Local variable: number of seconds in a day\n",
    "    n_sec = 86400\n",
    "\n",
    "    # For computing efficiency: convert flows to numpy arrays outside of time loop\n",
    "\n",
    "    # Inflows (in m3)\n",
    "    inflows = water_flows['Total inflows (m3/s)'].to_numpy() * n_sec\n",
    "\n",
    "    # Total downstream demand (in m3)\n",
    "    downstream_demands = np.zeros(len(water_flows))\n",
    "    for i in range(len(reservoir.demand_downstream)):\n",
    "        # Get column with that demand\n",
    "        demand_col = ([col for col in water_flows.columns if reservoir.demand_downstream[i].name in col])\n",
    "        # Add this demand to total demand\n",
    "        downstream_demands = downstream_demands + water_flows.loc[:, demand_col[0]].to_numpy()\n",
    "    downstream_demands = downstream_demands * n_sec  # conversion to m3\n",
    "\n",
    "    # Total at-site demands (in m3)\n",
    "    at_site_demands = np.zeros((len(water_flows), len(reservoir.demand_on_site)))\n",
    "    for i in range(len(reservoir.demand_on_site)):\n",
    "        # Get column with that demand\n",
    "        demand_col = ([col for col in water_flows.columns if reservoir.demand_on_site[i].name in col])\n",
    "        at_site_demands[:, i] = water_flows.loc[water_flows.index, demand_col[0]]\n",
    "    at_site_demands = at_site_demands * n_sec  # conversion to m3\n",
    "\n",
    "    # Initialise outputs\n",
    "    # Storage needs to account for initial storage\n",
    "    storage = np.zeros(t_total + 1)\n",
    "    storage[0] = reservoir.initial_storage\n",
    "    # Initialise at-site withdrawals and release as water balance components\n",
    "    withdrawals = np.zeros((t_total, len(reservoir.demand_on_site)))\n",
    "    release = np.zeros(t_total)\n",
    "\n",
    "    # Main loop\n",
    "    for t in range(t_total):\n",
    "\n",
    "        wb_out = single_step_refined(reservoir, storage[t], inflows[t], at_site_demands[t, :], downstream_demands[t])\n",
    "        storage[t+1] = wb_out[0]\n",
    "        release[t] = wb_out[1]\n",
    "        withdrawals[t, :] = wb_out[2]\n",
    "\n",
    "    # Insert data into water balance (mind the flow rates conversions back into m3/s)\n",
    "    for i in range(withdrawals.shape[1]):\n",
    "        water_flows['Withdrawals ' + reservoir.demand_on_site[i].name + ' (m3/s)'] = withdrawals[:, i] / n_sec\n",
    "    water_flows['Release (m3/s)'] = release / n_sec\n",
    "    water_flows['Storage (m3)'] = storage[1:]\n",
    "\n",
    "    return water_flows"
   ]
  },
  {
   "cell_type": "code",
   "execution_count": null,
   "metadata": {
    "id": "rcreLa1fl3e3"
   },
   "outputs": [],
   "source": [
    "# Run this\n",
    "final_water_balance(res, water_balance)"
   ]
  },
  {
   "cell_type": "code",
   "execution_count": null,
   "metadata": {
    "id": "dpIaAj7HnjXU"
   },
   "outputs": [],
   "source": [
    "# And what about the withdrawals from the reservoir?\n",
    "fig = plt.figure()\n",
    "ax = fig.add_subplot(1, 1, 1)\n",
    "ol, = ax.plot(water_balance.index, basic_withdrawals, c='b', label='No intake')\n",
    "ne, = ax.plot(water_balance.index, water_balance['Withdrawals Baltimore (m3/s)'] + water_balance['Withdrawals Chester (m3/s)'] + water_balance['Withdrawals Nuclear plant (m3/s)'], c='black', label='With intakes')\n",
    "ax.set_xlabel('Date', size=14)\n",
    "ax.set_ylabel('Withdrawals (m3/s)', size=14)\n",
    "legend = ax.legend(handles=[ol, ne], loc=4)\n",
    "\n",
    "# We set the boundaries of the x-axis\n",
    "ax.set_xlim(datetime.date(1962,1,1), datetime.date(1968,1,1))\n",
    "ax.set_ylim(0, 16)"
   ]
  },
  {
   "cell_type": "markdown",
   "metadata": {
    "id": "vmw2BYk8rX0B"
   },
   "source": [
    "**Question: did withdrawals increase or decrease compared with the previous water balance, and why?**\n",
    "\n"
   ]
  }
 ],
 "metadata": {
  "colab": {
   "provenance": []
  },
  "kernelspec": {
   "display_name": "Python 3 (ipykernel)",
   "language": "python",
   "name": "python3"
  },
  "language_info": {
   "codemirror_mode": {
    "name": "ipython",
    "version": 3
   },
   "file_extension": ".py",
   "mimetype": "text/x-python",
   "name": "python",
   "nbconvert_exporter": "python",
   "pygments_lexer": "ipython3",
   "version": "3.11.7"
  }
 },
 "nbformat": 4,
 "nbformat_minor": 4
}
