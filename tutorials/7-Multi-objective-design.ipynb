{
 "cells": [
  {
   "cell_type": "code",
   "execution_count": null,
   "id": "c4d0b64b-8aa7-4fb8-8b35-78731154ab53",
   "metadata": {},
   "outputs": [],
   "source": [
    "import rhodium\n",
    "import copy\n",
    "import model\n",
    "import visuals\n",
    "import pandas as pd\n",
    "import numpy as np\n",
    "import datetime\n",
    "from matplotlib import pyplot as plt"
   ]
  },
  {
   "cell_type": "markdown",
   "id": "f3ca76d4-fe19-4d3f-be58-901906ac05d8",
   "metadata": {},
   "source": [
    "# Tutorial 5\n",
    "\n",
    "In this tutorial we will carry out the three key technical steps of multi-objective robust decision-making (MORDM):\n",
    "\n",
    "**Step 1:** Problem framing (here, after a preliminary assessment)\n",
    "\n",
    "**Step 2:** Generation of design alternatives using an MOEA (NSGAII) to solve a simple but multi-objective planning problem.\n",
    "\n",
    "**Step 3:** Selection of a design alternative.\n",
    "\n",
    "**Step 4:** Scenario discovery (Vulnerability analysis) on the selected solution, to identify key parameter sets and values our system is vulnerable to.\n"
   ]
  },
  {
   "cell_type": "markdown",
   "id": "2c6b02fb-957b-475f-9630-c8d581616b05",
   "metadata": {},
   "source": [
    "## Preparation\n",
    "\n",
    "Read and organise the data."
   ]
  },
  {
   "cell_type": "code",
   "execution_count": null,
   "id": "5af681be-fd62-4639-a1b9-c004c17891ea",
   "metadata": {},
   "outputs": [],
   "source": [
    "# Preparing the model\n",
    "reservoir_name = 'Conowingo'\n",
    "downstream_demand_names = ['Environmental']\n",
    "direct_demand_names = ['Baltimore', 'Chester', 'Nuclear plant']\n",
    "\n",
    "# Loading the model!\n",
    "conowingo_default = model.define_reservoir(reservoir_name, downstream_demand_names, direct_demand_names)\n",
    "\n",
    "# Read flow and demand data\n",
    "flows_default = model.extract_flows(reservoir=conowingo_default)"
   ]
  },
  {
   "cell_type": "markdown",
   "id": "8d429e8f-9392-4a52-98e1-4dcabb827e51",
   "metadata": {},
   "source": [
    "# Step 0: preliminary analysis\n",
    "\n",
    "Climate change analysts have come up with a \"middle of the road\" scenario for what a drier and more variable future might look like for the reservoir inflows. The goal of this is two-fold:\n",
    "1. Assess the need for further analysis.\n",
    "2. Evaluate whether plans from the nuclear plant operators to have an intake at the same depth as Baltimore could be detrimental to other stakeholders."
   ]
  },
  {
   "cell_type": "code",
   "execution_count": null,
   "id": "ca3c5772-ce25-4456-b857-28784fab7d75",
   "metadata": {},
   "outputs": [],
   "source": [
    "# We will look into future alternatives with a fairly low flow future that is also more variable\n",
    "multiplier_mean = 0.8\n",
    "multiplier_std = 1.25\n",
    "multiplier_lowflow = 0.65\n",
    "low_percentile = 1  # Multiplier applies to the first percentile of flows\n",
    "\n",
    "# We included in the model a function to modify inflows as in Tutorial 4\n",
    "new_flows = model.perturbed_flows(flows_original=flows_default,\n",
    "                                  perturbed_multipliers=[multiplier_mean, multiplier_std, multiplier_lowflow],\n",
    "                                  low_quantile=low_percentile)"
   ]
  },
  {
   "cell_type": "code",
   "execution_count": null,
   "id": "ad52bf38-51c4-47a5-aaaa-a3760d88a681",
   "metadata": {},
   "outputs": [],
   "source": [
    "# We can see how inflows are modified\n",
    "fig = visuals.compare_flows(pd.Series(flows_default['Total inflows (m3/s)']),\n",
    "                            pd.Series(new_flows['Total inflows (m3/s)']),\n",
    "                            ['Historical', 'Drier future'], y_max=12000,\n",
    "                            first_date=datetime.date(1964, 1, 1), last_date=datetime.date(1965, 1, 1))"
   ]
  },
  {
   "cell_type": "code",
   "execution_count": null,
   "id": "6f3d4193-54ef-46c1-8d90-1204a785cdc9",
   "metadata": {},
   "outputs": [],
   "source": [
    "fig = visuals.compare_monthly_averages(flows_default, new_flows, ['Historical', 'Drier future'])"
   ]
  },
  {
   "cell_type": "code",
   "execution_count": null,
   "id": "78db509b-f59b-40d8-a483-eae2c71b19cd",
   "metadata": {},
   "outputs": [],
   "source": [
    "# A first proposal involves lowering the intake at the nuclear plant. Let's examine its impact on performance.\n",
    "\n",
    "# Case 1: historical inflows, current intake\n",
    "water_balance_1 = flows_default.copy()\n",
    "water_balance_1 = model.water_balance_sop(conowingo_default, water_balance_1)\n",
    "metrics_1 = model.all_performance_metrics(conowingo_default, water_balance_1)\n",
    "print(metrics_1)"
   ]
  },
  {
   "cell_type": "code",
   "execution_count": null,
   "id": "4c0e48d9-0edb-4d03-89e6-5510e2b43bad",
   "metadata": {},
   "outputs": [],
   "source": [
    "# Case 2: future inflows, current intake\n",
    "water_balance_2 = new_flows.copy()\n",
    "water_balance_2 = model.water_balance_sop(conowingo_default, water_balance_2)\n",
    "metrics_2 = model.all_performance_metrics(conowingo_default, water_balance_2)\n",
    "print(metrics_2)"
   ]
  },
  {
   "cell_type": "code",
   "execution_count": null,
   "id": "a49718bb-e951-4096-9a3d-9a456dfd51fa",
   "metadata": {},
   "outputs": [],
   "source": [
    "# Now we lower the intake for Cases 3 and 4\n",
    "conowingo_safer_nuclear = copy.deepcopy(conowingo_default)\n",
    "conowingo_safer_nuclear.demand_on_site[2].intake_depth = conowingo_safer_nuclear.demand_on_site[0].intake_depth\n",
    "for i in range(len(conowingo_default.demand_on_site)):\n",
    "    print('Intake depth for ' + conowingo_safer_nuclear.demand_on_site[i].name + ' is now set at ' +\n",
    "          \"{:.2f}\".format(conowingo_safer_nuclear.demand_on_site[i].intake_depth) + 'm.')"
   ]
  },
  {
   "cell_type": "code",
   "execution_count": null,
   "id": "822283b3-99f5-4d9d-8862-814944d58f61",
   "metadata": {},
   "outputs": [],
   "source": [
    "# Case 3: historical inflows, lower intake\n",
    "water_balance_3 = flows_default.copy()\n",
    "water_balance_3 = model.water_balance_sop(conowingo_safer_nuclear, water_balance_3)\n",
    "metrics_3 = model.all_performance_metrics(conowingo_safer_nuclear, water_balance_3)\n",
    "print(metrics_3)"
   ]
  },
  {
   "cell_type": "code",
   "execution_count": null,
   "id": "4b570262-5567-4de7-aace-0e53dd51587f",
   "metadata": {},
   "outputs": [],
   "source": [
    "# Case 4: future inflows, lower intake\n",
    "water_balance_4 = new_flows.copy()\n",
    "water_balance_4 = model.water_balance_sop(conowingo_safer_nuclear, water_balance_4)\n",
    "metrics_4 = model.all_performance_metrics(conowingo_safer_nuclear, water_balance_4)\n",
    "print(metrics_4)"
   ]
  },
  {
   "cell_type": "code",
   "execution_count": null,
   "id": "b7c63b56-7ad2-47e9-a313-ea598346de57",
   "metadata": {},
   "outputs": [],
   "source": [
    "# Let is recapitulate what this means for all reliabilities\n",
    "\n",
    "reliabilities = pd.DataFrame(index=metrics_1.loc[:, 'Name'],\n",
    "                             data={'HF, CI': metrics_1['Reliability (0-1)'].to_numpy(),\n",
    "                                   'FF, CI': metrics_2['Reliability (0-1)'].to_numpy(),\n",
    "                                   'HF, LI': metrics_3['Reliability (0-1)'].to_numpy(),\n",
    "                                   'FF, LI': metrics_4['Reliability (0-1)'].to_numpy()})\n",
    "\n",
    "print('HF: historical flows')\n",
    "print('FF: future flows')\n",
    "print('CI: current intake')\n",
    "print('LI: lower intake\\n')\n",
    "print(reliabilities)"
   ]
  },
  {
   "cell_type": "markdown",
   "id": "26066ec5-4969-4204-96d2-57c47c938887",
   "metadata": {},
   "source": [
    "**Question: how does the lower intake affect other actors?**\n",
    "\n",
    "Answer: the worst impact on reliability, for Chester under the climate change scenario, is still smaller than 0.1%.\n",
    "\n",
    "**Question: how does climate change affect reliabilities?**\n",
    "\n",
    "Answer: for all in-reservoir uses, this \"middle of the road\" scenario is enough to tip reliability below 95%."
   ]
  },
  {
   "cell_type": "markdown",
   "id": "f9a763f0-6d38-4579-8149-b6fbf1b7d8d5",
   "metadata": {},
   "source": [
    "# Step 1: Problem framing\n",
    "\n",
    "Our XLRM is as follows:\n",
    "\n",
    "**X**\n",
    "* Flow variability is represented by the historical inflows time series.\n",
    "* Uncertainties generated by climate change. This includes a reduction in inflows (but with increased variability), and a need to sustain higher ecological flows into Chesapeake Bay (to sustain the brackish ecosystem under moderate sea-level rise).\n",
    "* Uncertainties around urban growth and the associated demand increase.\n",
    "  \n",
    "**L**\n",
    "* We assume a standard operating policy (SOP), as in previous tutorials.\n",
    "* We also assume that a new intake is built for the Peach Bottom nuclear plant, and set up at the same height as the Baltimore intake.\n",
    "* We also learned from the preliminary analysis above that climate change is a risk to water supply. For this reason, Baltimore are revisiting the idea of building an alternative supply source, to which they would switch when Lake Conowingo levels start going down. Levers there are *the amount of alternative supply*, and *the reservoir level at which this is activated*.\n",
    "\n",
    "**R**\n",
    "\n",
    "We built a water balance model of the system in previous tutorials, and are going to use it here.\n",
    "\n",
    "**M**\n",
    "\n",
    "We prioritise water supply reliability here, and we use the following metrics:\n",
    "* Baltimore volumetric reliability, from *all sources* (reservoir and alternative);\n",
    "* Fraction of Baltimore water that comes from the reservoir;\n",
    "* Chester reliability (which is the same as volumetric reliability);\n",
    "* Nuclear plant reliability (which is the same as volumetric reliability);\n",
    "* Environmental reliability."
   ]
  },
  {
   "cell_type": "markdown",
   "id": "746e9c15-315d-4cfc-88ab-2006ff28da03",
   "metadata": {},
   "source": [
    "# Step 2: Alternative generation\n",
    "\n",
    "Once the problem is framed, MORDM involves finding solutions thanks to multi-objective optimisation, in order to select them. \n",
    "\n",
    "For this we need a model of the system to use for the optimisation. The model below uses the flows from the 1960s, a sequence of years drier than the \"middle of the road\" dry future would be on average. \n",
    "\n",
    "The decision variables are: \n",
    "1. the size of the plant (on a 0-1 scale, 0 being no plant at all and 1 a plant that serves 100% of baseline Baltimore demand).\n",
    "2. the lake level below which the plant starts working, ranging between the level of the Baltimore intake (then it replaces the lake as a water source only when absolutely necessary), and the full lake level.\n",
    "\n",
    "The objectives in the optimisation are:\n",
    "1. Baltimore volumetric reliability (to maximise): that’s the fraction of demand satisfied by Lake Conowingo + desal\n",
    "2. The fraction of Baltimore's demand met by the reservoir alone (to maximise: that's cheaper)\n",
    "3. Chester reliability (to maximise): account for benefits to other users."
   ]
  },
  {
   "cell_type": "code",
   "execution_count": null,
   "id": "b7e07c99-f34b-422a-9e28-32a0dd86de06",
   "metadata": {},
   "outputs": [],
   "source": [
    "# Now we define our optimization model\n",
    "def optimization_problem(reduction, reduction_depth):\n",
    "    \"\"\"\n",
    "    This function computes desired performance metrics for the decisions given in arguments.\n",
    "\n",
    "    Arguments:\n",
    "    reduction: float on [0, 1] range, the fraction of Baltimore water that has to come from desalination instead\n",
    "    reduction_depth: float (in m) the amount of water the reservoir can get lower before the restriction kicks in.\n",
    "                This is a regulation.\n",
    "\n",
    "    Note that the Reservoir class object and flows pandas DataFrame that are copied are implicit arguments here.\n",
    "\n",
    "    Outputs are:\n",
    "        1) the Baltimore volumetric reliability, covered by BOTH SOURCES (reservoir and desalination)\n",
    "        2) fraction of Baltimore demand served by the reservoir alone\n",
    "        3) Chester reliability\n",
    "\n",
    "    Note: we are focusing on the few dry years in the 1960s as they are drier and were therefore deemed as a good\n",
    "    baseline for optimization.\n",
    "    \"\"\"\n",
    "\n",
    "    # Get copies of the data so that there is an untouched original copy\n",
    "    time_mask = (flows_default.index.year > 1961) & (flows_default.index.year < 1968)\n",
    "    water_balance = flows_default.iloc[time_mask, :].copy()\n",
    "    reservoir = copy.deepcopy(conowingo_safer_nuclear)  # Note we are assuming lowered intake.\n",
    "\n",
    "    # Define the reduction that kicks in like a new demand\n",
    "    reservoir.add_on_site_demand(model.Demand('Baltimore 2', reduction_depth))\n",
    "\n",
    "    # Split Baltimore demand into two: the fraction immune to reductions and the one hit by it.\n",
    "    total_baltimore_demand = water_balance.sum(axis=0)['Baltimore demand (m3/s)']\n",
    "    water_balance['Baltimore 2 demand (m3/s)'] = water_balance['Baltimore demand (m3/s)'] * reduction\n",
    "    water_balance['Baltimore demand (m3/s)'] = water_balance['Baltimore demand (m3/s)'] * (1-reduction)\n",
    "\n",
    "    # Computing the water balance for our standard operating policy (SOP)\n",
    "    model.water_balance_sop(reservoir=reservoir, water_flows=water_balance)\n",
    "\n",
    "    # We compute performance indicators\n",
    "    # 1) Baltimore volumetric reliability, from reservoir and desalination combined\n",
    "    total_baltimore_suppy = water_balance.sum(axis=0)['Withdrawals Baltimore (m3/s)'] + \\\n",
    "                            water_balance.sum(axis=0)['Baltimore 2 demand (m3/s)']  # Since the fraction supplied by desal is always met by either source\n",
    "    baltimore_vol_rel = total_baltimore_suppy / total_baltimore_demand\n",
    "    # 2) Baltimore fraction from reservoir\n",
    "    total_baltimore_withdrawals = water_balance.sum(axis=0)['Withdrawals Baltimore (m3/s)'] + \\\n",
    "                                  water_balance.sum(axis=0)['Withdrawals Baltimore 2 (m3/s)']\n",
    "    baltimore_reservoir_fraction = total_baltimore_withdrawals / total_baltimore_demand\n",
    "    # 3) Chester reliability\n",
    "    chester_rel = model.reliability(water_balance['Withdrawals Chester (m3/s)'].to_numpy(),\n",
    "                                    water_balance['Chester demand (m3/s)'].to_numpy(), True)\n",
    "\n",
    "    return baltimore_vol_rel, baltimore_reservoir_fraction, chester_rel"
   ]
  },
  {
   "cell_type": "code",
   "execution_count": null,
   "id": "b133eab6-fe10-4401-84f9-308e3b51fb3b",
   "metadata": {},
   "outputs": [],
   "source": [
    "# Note what happens when we call the function. Look at the numbers, are they in line with a drier future?\n",
    "performance = optimization_problem(0, 0)\n",
    "print('Without intervention, in 1962-1967 Baltimore volumetric reliability is ' + \"{:.2f}\".format(performance[0]) + ',')\n",
    "print('the fraction of Baltimore supply coming from the reservoir is ' + \"{:.2f}\".format(performance[1]) + ',')\n",
    "print('and the Chester reliability is ' + \"{:.2f}\".format(performance[2]))"
   ]
  },
  {
   "cell_type": "code",
   "execution_count": null,
   "id": "e04c01ba-c1e7-4cc7-95c6-60ce93615bb2",
   "metadata": {},
   "outputs": [],
   "source": [
    "# Let us now define the model for the Rhodium library\n",
    "conowingo_model = rhodium.Model(optimization_problem)\n",
    "\n",
    "# Parameters \n",
    "conowingo_model.parameters = [rhodium.Parameter('reduction'),\n",
    "                              rhodium.Parameter('reduction_depth')]\n",
    "\n",
    "# Parameters are levers\n",
    "conowingo_model.levers = [rhodium.RealLever('reduction', 0.0, 1.0),\n",
    "                          rhodium.RealLever('reduction_depth', 0.0, conowingo_default.demand_on_site[0].intake_depth)]\n",
    "\n",
    "# Objectives\n",
    "conowingo_model.responses = [rhodium.Response('baltimore_vol_rel', rhodium.Response.MAXIMIZE),\n",
    "                             rhodium.Response('baltimore_reservoir_fraction', rhodium.Response.MAXIMIZE),\n",
    "                             rhodium.Response('chester_rel', rhodium.Response.MAXIMIZE)]"
   ]
  },
  {
   "cell_type": "code",
   "execution_count": null,
   "id": "1bda2b38-2751-487e-b5ab-e59bbee09f5d",
   "metadata": {},
   "outputs": [],
   "source": [
    "# Optimization\n",
    "carryout_optimize = 0  # Set to 0 to not run optimization every time you run the Notebook!\n",
    "\n",
    "if carryout_optimize == 1:\n",
    "    # Run optimization\n",
    "    output = rhodium.optimize(conowingo_model, 'NSGAII', 2000)\n",
    "    print(\"Found\", len(output), \"optimal policies!\")\n",
    "    # Optional: save output as pandas DataFrame for further manipulation\n",
    "    output_df = output.as_dataframe()\n",
    "    output_df.to_csv('optimization_results.csv', index_label='Solution number')"
   ]
  },
  {
   "cell_type": "code",
   "execution_count": null,
   "id": "d0c4ec82-0e49-44a9-8e5f-b77f1a435036",
   "metadata": {},
   "outputs": [],
   "source": [
    "# Plotting: scatter 2D plot\n",
    "if carryout_optimize == 1:\n",
    "    fig = rhodium.scatter2d(conowingo_model, output, c='chester_rel')"
   ]
  },
  {
   "cell_type": "code",
   "execution_count": null,
   "id": "2816f9c7-7900-4704-991a-5b56b492da5f",
   "metadata": {},
   "outputs": [],
   "source": [
    "# Plotting: parallel plot\n",
    "if carryout_optimize == 1:\n",
    "    fig = rhodium. parallel_coordinates(conowingo_model, output, colormap='RdBu', target='top',\n",
    "                                        brush=[rhodium.Brush(\"baltimore_vol_rel > 0.99 and chester_rel > 0.86\"),\n",
    "                                               rhodium.Brush(\"baltimore_vol_rel > 0.99 and chester_rel <=0.86\")])"
   ]
  },
  {
   "cell_type": "markdown",
   "id": "b66052b7-cf77-487c-b9fc-9711e30c5779",
   "metadata": {},
   "source": [
    "**Question 1:** (A) Why no other objectives? (B) Why mix reliability with volumetric reliability? (C) Does there seem to be trade-offs as far as Baltimore alone is considered?"
   ]
  },
  {
   "cell_type": "markdown",
   "id": "5624fbd5-e421-47e9-8935-f9a03baec208",
   "metadata": {},
   "source": [
    "### Step 3: Alternative selection"
   ]
  },
  {
   "cell_type": "markdown",
   "id": "c3718cbf-5635-4376-a781-7adbce5b1512",
   "metadata": {},
   "source": [
    "We want to select solutions that:\n",
    "\n",
    "* Keep Baltimore volumetric reliability over 0.99 even in the dry period chosen.\n",
    "* Appreciably improve Chester's reliability (well over 0.84; here 0.86 is chosen)\n",
    "* Is the cheapest in terms of capital costs to meet these constraints"
   ]
  },
  {
   "cell_type": "code",
   "execution_count": null,
   "id": "c8a7e7c2-c14c-4006-a7bd-975f39894307",
   "metadata": {},
   "outputs": [],
   "source": [
    "# Select cheapest (capital costs) solution for Baltimore volumetric reliability > 0.99 and Chester reliability > 0.86\n",
    "output_df = pd.read_csv('optimization_results.csv', index_col='Solution number')\n",
    "solution_mask = (output_df['baltimore_vol_rel'] > 0.99) & (output_df['chester_rel'] > 0.86)\n",
    "selected_solution = output_df[solution_mask].idxmin(axis=0)['reduction']\n",
    "print('\\nWe selected solution number ' + str(selected_solution) + ' with the following characteristics:')\n",
    "print(output_df.iloc[selected_solution, :])"
   ]
  },
  {
   "cell_type": "markdown",
   "id": "06f1300d-d3ae-4ae1-af4f-15db3acd907f",
   "metadata": {},
   "source": [
    "**Now we can resimulate this solution under (1) the historical record, and (2) the \"middle of the road\" dry future, to check performance before selecting it.**\n",
    "We need a simulator for that, it is defined now."
   ]
  },
  {
   "cell_type": "code",
   "execution_count": null,
   "id": "20811896-73e2-4b3e-9ca1-ff36ce2b96b1",
   "metadata": {},
   "outputs": [],
   "source": [
    "def simulation_problem(reduction,\n",
    "                       reduction_depth,\n",
    "                       mean_multiplier,\n",
    "                       std_multiplier,\n",
    "                       first_p_multiplier,\n",
    "                       environmental_multiplier,\n",
    "                       domestic_multiplier):\n",
    "    \"\"\"\n",
    "    This function computes desired performance metrics for the decisions given in arguments.\n",
    "\n",
    "    Arguments are the two levers and a list of five uncertain factors that correspond to the X of our XLRM\n",
    "\n",
    "        The levers (L):\n",
    "        reduction: float on [0, 1] range, the fraction of Baltimore water that has to come from desalination instead\n",
    "        reduction_depth: float (in m) the amount of water the reservoir can get lower before the restriction kicks in.\n",
    "                This is a regulation.\n",
    "\n",
    "        The uncertain factors (X):\n",
    "        mean_multiplier: float, the change in the streamflow average\n",
    "        std_multiplier: float, the change in the standard deviation of streamflows\n",
    "        first_p_multiplier: float, the change in the first percentile of flow\n",
    "        environmental_multiplier: float, the change in environmental demand\n",
    "        domestic_demand: float, the change in domestic demand (from both Chester and Baltimore\n",
    "\n",
    "    Note that the Reservoir class object and flows pandas DataFrame that are copied are implicit arguments here.\n",
    "\n",
    "    Outputs are:\n",
    "        1) the Baltimore volumetric reliability, covered by BOTH SOURCES (reservoir and desalination)\n",
    "        2) Chester reliability\n",
    "        3) Nuclear plant reliability\n",
    "        4) Environmental reliability\n",
    "    \"\"\"\n",
    "\n",
    "    # Get a copy of the reservoir data so that there is an untouched original copy\n",
    "    reservoir = copy.deepcopy(conowingo_safer_nuclear)  # Note we are assuming lowered nuclear plant intake.\n",
    "\n",
    "    # Get a copy of the flow data that leaves the original untouched and incorporates flow multipliers at the same time!\n",
    "    water_balance = model.perturbed_flows(flows_original=flows_default,\n",
    "                                          perturbed_multipliers=[mean_multiplier, std_multiplier, first_p_multiplier],\n",
    "                                          low_quantile=1)\n",
    "\n",
    "    # Now we account for our demand multipliers\n",
    "    # Environmental\n",
    "    water_balance['Environmental demand (m3/s)'] = water_balance[\n",
    "                                                       'Environmental demand (m3/s)'] * environmental_multiplier\n",
    "    # Chester\n",
    "    water_balance['Chester demand (m3/s)'] = water_balance['Chester demand (m3/s)'] * domestic_multiplier\n",
    "    # Baltimore\n",
    "    water_balance['Baltimore demand (m3/s)'] = water_balance['Baltimore demand (m3/s)'] * domestic_multiplier\n",
    "\n",
    "    # Define the reduction that kicks in like a new demand\n",
    "    reservoir.add_on_site_demand(model.Demand('Baltimore 2', reduction_depth))\n",
    "\n",
    "    # Split Baltimore demand into two: the fraction immune to reductions and the one hit by it.\n",
    "    # Note the desalination plant does not change size when Baltimore demand increases\n",
    "    actual_reduction = max(1, reduction / domestic_multiplier)\n",
    "    total_baltimore_demand = water_balance.sum(axis=0)['Baltimore demand (m3/s)']\n",
    "    water_balance['Baltimore 2 demand (m3/s)'] = water_balance['Baltimore demand (m3/s)'] * actual_reduction\n",
    "    water_balance['Baltimore demand (m3/s)'] = water_balance['Baltimore demand (m3/s)'] * (1-actual_reduction)\n",
    "\n",
    "    # Computing the water balance for our standard operating policy (SOP)\n",
    "    model.water_balance_sop(reservoir=reservoir, water_flows=water_balance)\n",
    "\n",
    "    # We compute performance indicators\n",
    "    # 1) Baltimore volumetric reliability, from reservoir and desalination combined\n",
    "    total_baltimore_suppy = water_balance.sum(axis=0)['Withdrawals Baltimore (m3/s)'] + \\\n",
    "                            water_balance.sum(axis=0)['Baltimore 2 demand (m3/s)']  # Since the fraction supplied by desal is always met by either source\n",
    "    baltimore_vol_rel = total_baltimore_suppy / total_baltimore_demand\n",
    "    # 2) Chester reliability\n",
    "    chester_rel = model.reliability(water_balance['Withdrawals Chester (m3/s)'].to_numpy(),\n",
    "                                    water_balance['Chester demand (m3/s)'].to_numpy(), True)\n",
    "    # 3) Nuclear plant reliability\n",
    "    nuclear_rel = model.reliability(water_balance['Withdrawals Nuclear plant (m3/s)'].to_numpy(),\n",
    "                                    water_balance['Nuclear plant demand (m3/s)'].to_numpy(), True)\n",
    "    # 4) Environmental reliability\n",
    "    env_rel = model.reliability(water_balance['Outflows (m3/s)'].to_numpy(),\n",
    "                                water_balance['Environmental demand (m3/s)'].to_numpy(), True)\n",
    "\n",
    "    return baltimore_vol_rel,  chester_rel, nuclear_rel, env_rel"
   ]
  },
  {
   "cell_type": "code",
   "execution_count": null,
   "id": "d00a8ad6-0a9a-49e3-ac5f-6c82cf17f312",
   "metadata": {},
   "outputs": [],
   "source": [
    "# Simulate selected solution and compare performance to the no-action solution\n",
    "# Under historical flows\n",
    "performance_current = simulation_problem(output_df.loc[selected_solution, 'reduction'],\n",
    "                                         output_df.loc[selected_solution, 'reduction_depth'],\n",
    "                                         1, 1, 1, 1, 1)\n",
    "print('\\nUnder historical flows:')\n",
    "print('After infrastructure development Baltimore volumetric reliability would be ' + \"{:.3f}\".format(performance_current[0]) + ' vs. ' + \"{:.3f}\".format(metrics_1.iloc[0, 5]) + ' before.')\n",
    "print('After infrastructure development the nuclear plant reliability would be ' + \"{:.3f}\".format(performance_current[2]) + ' vs. ' + \"{:.3f}\".format(metrics_1.iloc[2, 1]) + ' before.')\n",
    "print('After infrastructure development Chester reliability would be ' + \"{:.3f}\".format(performance_current[1]) + ' vs. ' + \"{:.3f}\".format(metrics_1.iloc[1, 1]) + ' before.')\n",
    "print('After infrastructure development environmental reliability would be ' + \"{:.3f}\".format(performance_current[3]) + ' vs. ' + \"{:.3f}\".format(metrics_1.iloc[3, 1]) + ' before.')"
   ]
  },
  {
   "cell_type": "code",
   "execution_count": null,
   "id": "9f279720-f289-4710-8b6f-9f97d7e890b0",
   "metadata": {},
   "outputs": [],
   "source": [
    "# Under the selected drier future\n",
    "performance_future = simulation_problem(output_df.loc[selected_solution, 'reduction'],\n",
    "                                        output_df.loc[selected_solution, 'reduction_depth'],\n",
    "                                        multiplier_mean, multiplier_std, multiplier_lowflow, 1, 1)\n",
    "print('\\nUnder the selected drier future:')\n",
    "print('After infrastructure development Baltimore volumetric reliability would be ' + \"{:.3f}\".format(performance_future[0]) + ' vs. ' + \"{:.3f}\".format(metrics_2.iloc[0, 5]) + ' before.')\n",
    "print('After infrastructure development the nuclear plant reliability would be ' + \"{:.3f}\".format(performance_future[2]) + ' vs. ' + \"{:.3f}\".format(metrics_2.iloc[2, 1]) + ' before.')\n",
    "print('After infrastructure development Chester reliability would be ' + \"{:.3f}\".format(performance_future[1]) + ' vs. ' + \"{:.3f}\".format(metrics_2.iloc[1, 1]) + ' before.')\n",
    "print('After infrastructure development environmental reliability would be ' + \"{:.3f}\".format(performance_future[3]) + ' vs. ' + \"{:.3f}\".format(metrics_2.iloc[3, 1]) + ' before.')"
   ]
  },
  {
   "cell_type": "markdown",
   "id": "35bd3e03-d89c-43ad-b14f-c11915ee083d",
   "metadata": {},
   "source": [
    "# Step 4: Vulnerability analysis (Scenario discovery)\n",
    "\n",
    "Having checked that the selected solution improves performance across objectives for the selected flow scenarios, we want to conduct a more in-depth analysis to understand how performance evolves in the future.\n",
    "\n",
    "Let's use Rhodium for that. First, let's redefine the model based on the simulation problem (note the difference with the optimization setup)."
   ]
  },
  {
   "cell_type": "code",
   "execution_count": null,
   "id": "233a27a8-bb61-4583-8f53-424542f26de3",
   "metadata": {},
   "outputs": [],
   "source": [
    "# Model definition (R)\n",
    "simulation_model = rhodium.Model(simulation_problem)\n",
    "\n",
    "# All parameters: uncertainty (X) and levers (L)\n",
    "simulation_model.parameters = [rhodium.Parameter('reduction'),\n",
    "                               rhodium.Parameter('reduction_depth'),\n",
    "                               rhodium.Parameter('mean_multiplier'),\n",
    "                               rhodium.Parameter('std_multiplier'),\n",
    "                               rhodium.Parameter('first_p_multiplier'),\n",
    "                               rhodium.Parameter('environmental_multiplier'),\n",
    "                               rhodium.Parameter('domestic_multiplier')]\n",
    "\n",
    "# Performance metrics (M)\n",
    "simulation_model.responses = [rhodium.Response('baltimore_vol_rel', rhodium.Response.MAXIMIZE),\n",
    "                              rhodium.Response('chester_rel', rhodium.Response.MAXIMIZE),\n",
    "                              rhodium.Response('nuclear_rel', rhodium.Response.MAXIMIZE),\n",
    "                              rhodium.Response('env_rel', rhodium.Response.MAXIMIZE)]"
   ]
  },
  {
   "cell_type": "code",
   "execution_count": null,
   "id": "8a15d5fc-202e-4562-80ec-3aa66ad63571",
   "metadata": {},
   "outputs": [],
   "source": [
    "# Let's incorporate the chosen infrastructure policy\n",
    "policy = {'reduction': output_df.loc[selected_solution, 'reduction'],\n",
    "          'reduction_depth': output_df.loc[selected_solution, 'reduction_depth']}\n",
    "print('The chosen infrastructure design is:')\n",
    "print(policy)"
   ]
  },
  {
   "cell_type": "code",
   "execution_count": null,
   "id": "b21d058d-447c-403a-95e6-2b2ecefbadd7",
   "metadata": {},
   "outputs": [],
   "source": [
    "# Defining the uncertainty ranges\n",
    "simulation_model.uncertainties = [rhodium.UniformUncertainty('mean_multiplier', 0.6, 1),\n",
    "                                  rhodium.UniformUncertainty('std_multiplier', 1, 1.5),\n",
    "                                  rhodium.UniformUncertainty('first_p_multiplier', 0.3, 1),\n",
    "                                  rhodium.UniformUncertainty('environmental_multiplier', 1, 1.4),\n",
    "                                  rhodium.UniformUncertainty('domestic_multiplier', 1, 1.4)]"
   ]
  },
  {
   "cell_type": "markdown",
   "id": "023c7d82-dbd8-4521-bf4f-2024aee5977e",
   "metadata": {},
   "source": [
    "Now we define a **sampling strategy**, here, based on latin hypercube sampling."
   ]
  },
  {
   "cell_type": "code",
   "execution_count": null,
   "id": "02022eb7-e770-4527-bfd4-eb689372a5e3",
   "metadata": {},
   "outputs": [],
   "source": [
    "plausible_futures = rhodium.sample_lhs(simulation_model, 500)"
   ]
  },
  {
   "cell_type": "markdown",
   "id": "9ec530e5-32ad-4e0b-8158-4a3f17d2fe36",
   "metadata": {},
   "source": [
    "Now we perform the **vulnerability analysis**."
   ]
  },
  {
   "cell_type": "code",
   "execution_count": null,
   "id": "8e876422-57cc-4b33-9971-6a93711df2fd",
   "metadata": {},
   "outputs": [],
   "source": [
    "vulnerability_analysis = 1\n",
    "\n",
    "if vulnerability_analysis == 1:\n",
    "    results = rhodium.evaluate(simulation_model, rhodium.update(plausible_futures, policy))\n",
    "    # Optional: save output as pandas DataFrame for further manipulation\n",
    "    result_table = results.as_dataframe()\n",
    "    result_table.to_csv('vulnerability_analysis_results.csv', index_label='sample number')"
   ]
  },
  {
   "cell_type": "code",
   "execution_count": null,
   "id": "df3c8eda-5183-4e4c-a553-737922321c52",
   "metadata": {},
   "outputs": [],
   "source": [
    "# Load results: see how table contains both all parameters (the policy, then the uncertain sampled values), and all performance metrics.\n",
    "result_table = pd.read_csv('vulnerability_analysis_results.csv', index_col='sample number')\n",
    "print(result_table)"
   ]
  },
  {
   "cell_type": "code",
   "execution_count": null,
   "id": "5ff21216-2101-4fa7-9891-d1c06e9fade9",
   "metadata": {},
   "outputs": [],
   "source": [
    "# Define variable to explore and threshold\n",
    "metric_name = 'chester_rel'\n",
    "satisfaction_threshold = 0.90"
   ]
  },
  {
   "cell_type": "code",
   "execution_count": null,
   "id": "79c39813-2b26-44e0-b48d-cdbdf31af54c",
   "metadata": {},
   "outputs": [],
   "source": [
    "if vulnerability_analysis == 1:\n",
    "    classification = results.apply(\"'Success' if  \" + metric_name + \" > \" + str(satisfaction_threshold) + \" else 'Failure'\")\n",
    "    prim_results = rhodium.Prim(results, classification, include=simulation_model.uncertainties.keys(), coi=\"Success\")\n",
    "    box = prim_results.find_box()\n",
    "    box.show_details()"
   ]
  },
  {
   "cell_type": "code",
   "execution_count": null,
   "id": "48fea0bb-cbdc-4d53-bf7f-bc0305b0c9a2",
   "metadata": {},
   "outputs": [],
   "source": [
    "# Function to plot successes and failures\n",
    "def vulnerability_plots(rhodium_model, vul_results, uncertainty_1, uncertainty_2, performance_metric, threshold):\n",
    "    \"\"\"\n",
    "    Plotting successes and failures in 2D scatter plots\n",
    "    :param rhodium_model: the model, defined by the Rhodium library\n",
    "    :param vul_results: a pandas DataFrame containing all inputs and output values\n",
    "    :param uncertainty_1: String, the uncertain parameter to put on the x-axis\n",
    "    :param uncertainty_2: String, the uncertain parameter to put on the y-axis\n",
    "    :param performance_metric: String, the metric used to assess performance\n",
    "    :param threshold: float, the threshold that determines whether a future is a success or a failure\n",
    "    :return: figure\n",
    "    \"\"\"\n",
    "\n",
    "    # Whether we want to be above the threshold (the Rhodium response need to be maximized, dir=1)\n",
    "    # or below the threshold (the Rhodium response need to be minimized, dir=-1)\n",
    "    above_or_below = rhodium_model.responses[performance_metric].dir\n",
    "\n",
    "    # Define success and failure points\n",
    "    success_results = vul_results[above_or_below * vul_results[performance_metric] >= above_or_below * threshold]\n",
    "    failure_results = vul_results[above_or_below * vul_results[performance_metric] < above_or_below * threshold]\n",
    "\n",
    "    # Scatter plot of results\n",
    "    fig = plt.figure()\n",
    "    ax = fig.add_subplot(1, 1, 1)\n",
    "    ax.scatter(success_results[uncertainty_1], success_results[uncertainty_2], c='r', marker='o', label='Success')\n",
    "    ax.scatter(failure_results[uncertainty_1], failure_results[uncertainty_2], c='b', marker='+', label='Failure')\n",
    "\n",
    "    # Labels\n",
    "    ax.set_xlabel(uncertainty_1, size=14)\n",
    "    ax.set_ylabel(uncertainty_2, size=14)\n",
    "\n",
    "    # Set the limits to the plot\n",
    "    ax.set_xlim(rhodium_model.uncertainties[uncertainty_1].min_value,\n",
    "                rhodium_model.uncertainties[uncertainty_1].max_value)\n",
    "    ax.set_ylim(rhodium_model.uncertainties[uncertainty_2].min_value,\n",
    "                rhodium_model.uncertainties[uncertainty_2].max_value)\n",
    "\n",
    "    return fig"
   ]
  },
  {
   "cell_type": "code",
   "execution_count": null,
   "id": "cb8ab43f-9018-410e-be03-1f50bf2e8995",
   "metadata": {},
   "outputs": [],
   "source": [
    "# PLots!\n",
    "print('Red dots are successes, blue crosses are failures')\n",
    "for i in range(len(simulation_model.uncertainties)):\n",
    "    for j in np.arange(i+1, len(simulation_model.uncertainties), 1):\n",
    "        fig = vulnerability_plots(simulation_model, result_table, simulation_model.uncertainties[i].name,\n",
    "                                  simulation_model.uncertainties[int(j)].name, metric_name, satisfaction_threshold)"
   ]
  },
  {
   "cell_type": "markdown",
   "id": "dbf3a50b-b482-4fe5-8453-d0e54ab62a5b",
   "metadata": {},
   "source": [
    "**Question 3.** Interpret the results after running reliabilities for different actors and different reliability thresholds. In particular, what uncertainties matter most / don't matter for the different objectives?"
   ]
  },
  {
   "cell_type": "code",
   "execution_count": null,
   "id": "0ba94163-d74c-4032-b212-fc7544266108",
   "metadata": {},
   "outputs": [],
   "source": []
  }
 ],
 "metadata": {
  "kernelspec": {
   "display_name": "civx782",
   "language": "python",
   "name": "civx782"
  },
  "language_info": {
   "codemirror_mode": {
    "name": "ipython",
    "version": 3
   },
   "file_extension": ".py",
   "mimetype": "text/x-python",
   "name": "python",
   "nbconvert_exporter": "python",
   "pygments_lexer": "ipython3",
   "version": "3.12.3"
  }
 },
 "nbformat": 4,
 "nbformat_minor": 5
}
