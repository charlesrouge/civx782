{
 "cells": [
  {
   "cell_type": "markdown",
   "metadata": {
    "id": "Yt916O_HhkAy"
   },
   "source": [
    "# Part 1: Imports, data uploads and preparation.\n",
    "\n",
    "As is customary, let us first call the Python libraries needed here, and upload the needed data and code."
   ]
  },
  {
   "cell_type": "code",
   "execution_count": 2,
   "metadata": {
    "executionInfo": {
     "elapsed": 564,
     "status": "ok",
     "timestamp": 1712936927047,
     "user": {
      "displayName": "Charles Rougé",
      "userId": "02328605607346880259"
     },
     "user_tz": -60
    },
    "id": "hoEWhFzkXIIb"
   },
   "outputs": [],
   "source": [
    "from model import setup, balance_calcs, func_FDC, visuals\n",
    "import pandas as pd\n",
    "import numpy as np\n",
    "import matplotlib.pyplot as plt\n",
    "#import datetime"
   ]
  },
  {
   "cell_type": "markdown",
   "metadata": {
    "id": "WMIgClwijXD_"
   },
   "source": [
    "## Loading model and water balance for historical data\n",
    "\n",
    "In this tutorial we will compute performance, then compare it for the scenarios defined in Tutorial 3. First let's compute the historical water balance."
   ]
  },
  {
   "cell_type": "code",
   "execution_count": 4,
   "metadata": {
    "colab": {
     "base_uri": "https://localhost:8080/"
    },
    "executionInfo": {
     "elapsed": 3136,
     "status": "ok",
     "timestamp": 1712936952869,
     "user": {
      "displayName": "Charles Rougé",
      "userId": "02328605607346880259"
     },
     "user_tz": -60
    },
    "id": "OA_TBdm4rxcW",
    "outputId": "35a6129e-9086-444e-a7b9-271367b2dc63"
   },
   "outputs": [
    {
     "data": {
      "text/html": [
       "<div>\n",
       "<style scoped>\n",
       "    .dataframe tbody tr th:only-of-type {\n",
       "        vertical-align: middle;\n",
       "    }\n",
       "\n",
       "    .dataframe tbody tr th {\n",
       "        vertical-align: top;\n",
       "    }\n",
       "\n",
       "    .dataframe thead th {\n",
       "        text-align: right;\n",
       "    }\n",
       "</style>\n",
       "<table border=\"1\" class=\"dataframe\">\n",
       "  <thead>\n",
       "    <tr style=\"text-align: right;\">\n",
       "      <th></th>\n",
       "      <th>Total inflows (m3/s)</th>\n",
       "      <th>Baltimore demand (m3/s)</th>\n",
       "      <th>Chester demand (m3/s)</th>\n",
       "      <th>Nuclear plant demand (m3/s)</th>\n",
       "      <th>Environmental demand (m3/s)</th>\n",
       "    </tr>\n",
       "    <tr>\n",
       "      <th>Date</th>\n",
       "      <th></th>\n",
       "      <th></th>\n",
       "      <th></th>\n",
       "      <th></th>\n",
       "      <th></th>\n",
       "    </tr>\n",
       "  </thead>\n",
       "  <tbody>\n",
       "    <tr>\n",
       "      <th>1932-01-01</th>\n",
       "      <td>557.049006</td>\n",
       "      <td>13.139017</td>\n",
       "      <td>1.472476</td>\n",
       "      <td>0.622971</td>\n",
       "      <td>99.108963</td>\n",
       "    </tr>\n",
       "    <tr>\n",
       "      <th>1932-01-02</th>\n",
       "      <td>638.488257</td>\n",
       "      <td>13.139017</td>\n",
       "      <td>1.472476</td>\n",
       "      <td>0.622971</td>\n",
       "      <td>99.108963</td>\n",
       "    </tr>\n",
       "    <tr>\n",
       "      <th>1932-01-03</th>\n",
       "      <td>758.806538</td>\n",
       "      <td>13.139017</td>\n",
       "      <td>1.472476</td>\n",
       "      <td>0.622971</td>\n",
       "      <td>99.108963</td>\n",
       "    </tr>\n",
       "    <tr>\n",
       "      <th>1932-01-04</th>\n",
       "      <td>824.048553</td>\n",
       "      <td>13.139017</td>\n",
       "      <td>1.472476</td>\n",
       "      <td>0.622971</td>\n",
       "      <td>99.108963</td>\n",
       "    </tr>\n",
       "    <tr>\n",
       "      <th>1932-01-05</th>\n",
       "      <td>780.383975</td>\n",
       "      <td>13.139017</td>\n",
       "      <td>1.472476</td>\n",
       "      <td>0.622971</td>\n",
       "      <td>99.108963</td>\n",
       "    </tr>\n",
       "    <tr>\n",
       "      <th>...</th>\n",
       "      <td>...</td>\n",
       "      <td>...</td>\n",
       "      <td>...</td>\n",
       "      <td>...</td>\n",
       "      <td>...</td>\n",
       "    </tr>\n",
       "    <tr>\n",
       "      <th>2001-12-27</th>\n",
       "      <td>775.966547</td>\n",
       "      <td>13.139017</td>\n",
       "      <td>1.444159</td>\n",
       "      <td>0.651287</td>\n",
       "      <td>99.108963</td>\n",
       "    </tr>\n",
       "    <tr>\n",
       "      <th>2001-12-28</th>\n",
       "      <td>716.529486</td>\n",
       "      <td>13.139017</td>\n",
       "      <td>1.444159</td>\n",
       "      <td>0.651287</td>\n",
       "      <td>99.108963</td>\n",
       "    </tr>\n",
       "    <tr>\n",
       "      <th>2001-12-29</th>\n",
       "      <td>668.362530</td>\n",
       "      <td>13.139017</td>\n",
       "      <td>1.444159</td>\n",
       "      <td>0.651287</td>\n",
       "      <td>99.108963</td>\n",
       "    </tr>\n",
       "    <tr>\n",
       "      <th>2001-12-30</th>\n",
       "      <td>580.920108</td>\n",
       "      <td>13.139017</td>\n",
       "      <td>1.444159</td>\n",
       "      <td>0.651287</td>\n",
       "      <td>99.108963</td>\n",
       "    </tr>\n",
       "    <tr>\n",
       "      <th>2001-12-31</th>\n",
       "      <td>481.867778</td>\n",
       "      <td>13.139017</td>\n",
       "      <td>1.444159</td>\n",
       "      <td>0.651287</td>\n",
       "      <td>99.108963</td>\n",
       "    </tr>\n",
       "  </tbody>\n",
       "</table>\n",
       "<p>25568 rows × 5 columns</p>\n",
       "</div>"
      ],
      "text/plain": [
       "            Total inflows (m3/s)  Baltimore demand (m3/s)  \\\n",
       "Date                                                        \n",
       "1932-01-01            557.049006                13.139017   \n",
       "1932-01-02            638.488257                13.139017   \n",
       "1932-01-03            758.806538                13.139017   \n",
       "1932-01-04            824.048553                13.139017   \n",
       "1932-01-05            780.383975                13.139017   \n",
       "...                          ...                      ...   \n",
       "2001-12-27            775.966547                13.139017   \n",
       "2001-12-28            716.529486                13.139017   \n",
       "2001-12-29            668.362530                13.139017   \n",
       "2001-12-30            580.920108                13.139017   \n",
       "2001-12-31            481.867778                13.139017   \n",
       "\n",
       "            Chester demand (m3/s)  Nuclear plant demand (m3/s)  \\\n",
       "Date                                                             \n",
       "1932-01-01               1.472476                     0.622971   \n",
       "1932-01-02               1.472476                     0.622971   \n",
       "1932-01-03               1.472476                     0.622971   \n",
       "1932-01-04               1.472476                     0.622971   \n",
       "1932-01-05               1.472476                     0.622971   \n",
       "...                           ...                          ...   \n",
       "2001-12-27               1.444159                     0.651287   \n",
       "2001-12-28               1.444159                     0.651287   \n",
       "2001-12-29               1.444159                     0.651287   \n",
       "2001-12-30               1.444159                     0.651287   \n",
       "2001-12-31               1.444159                     0.651287   \n",
       "\n",
       "            Environmental demand (m3/s)  \n",
       "Date                                     \n",
       "1932-01-01                    99.108963  \n",
       "1932-01-02                    99.108963  \n",
       "1932-01-03                    99.108963  \n",
       "1932-01-04                    99.108963  \n",
       "1932-01-05                    99.108963  \n",
       "...                                 ...  \n",
       "2001-12-27                    99.108963  \n",
       "2001-12-28                    99.108963  \n",
       "2001-12-29                    99.108963  \n",
       "2001-12-30                    99.108963  \n",
       "2001-12-31                    99.108963  \n",
       "\n",
       "[25568 rows x 5 columns]"
      ]
     },
     "metadata": {},
     "output_type": "display_data"
    }
   ],
   "source": [
    "# Preparing the model\n",
    "reservoir_name = 'Conowingo'\n",
    "downstream_demand_names = ['Environmental']\n",
    "direct_demand_names = ['Baltimore', 'Chester', 'Nuclear plant']\n",
    "\n",
    "# Loading the model!\n",
    "conowingo = setup.define_reservoir(reservoir_name, downstream_demand_names, direct_demand_names)\n",
    "\n",
    "# Read flow and demand data. We keep this copy of the data for the simulation of different futures.\n",
    "flows_default = setup.extract_flows(reservoir=conowingo)\n",
    "display(flows_default)"
   ]
  },
  {
   "cell_type": "code",
   "execution_count": 5,
   "metadata": {
    "colab": {
     "base_uri": "https://localhost:8080/"
    },
    "executionInfo": {
     "elapsed": 7938,
     "status": "ok",
     "timestamp": 1712937043084,
     "user": {
      "displayName": "Charles Rougé",
      "userId": "02328605607346880259"
     },
     "user_tz": -60
    },
    "id": "smixVwQqAMn2",
    "outputId": "7af7e4d3-10d8-435e-e12c-9b3dcfab3df7"
   },
   "outputs": [
    {
     "data": {
      "text/html": [
       "<div>\n",
       "<style scoped>\n",
       "    .dataframe tbody tr th:only-of-type {\n",
       "        vertical-align: middle;\n",
       "    }\n",
       "\n",
       "    .dataframe tbody tr th {\n",
       "        vertical-align: top;\n",
       "    }\n",
       "\n",
       "    .dataframe thead th {\n",
       "        text-align: right;\n",
       "    }\n",
       "</style>\n",
       "<table border=\"1\" class=\"dataframe\">\n",
       "  <thead>\n",
       "    <tr style=\"text-align: right;\">\n",
       "      <th></th>\n",
       "      <th>Total inflows (m3/s)</th>\n",
       "      <th>Baltimore demand (m3/s)</th>\n",
       "      <th>Chester demand (m3/s)</th>\n",
       "      <th>Nuclear plant demand (m3/s)</th>\n",
       "      <th>Environmental demand (m3/s)</th>\n",
       "      <th>Withdrawals Baltimore (m3/s)</th>\n",
       "      <th>Withdrawals Chester (m3/s)</th>\n",
       "      <th>Withdrawals Nuclear plant (m3/s)</th>\n",
       "      <th>Outflows (m3/s)</th>\n",
       "      <th>Storage (m3)</th>\n",
       "    </tr>\n",
       "    <tr>\n",
       "      <th>Date</th>\n",
       "      <th></th>\n",
       "      <th></th>\n",
       "      <th></th>\n",
       "      <th></th>\n",
       "      <th></th>\n",
       "      <th></th>\n",
       "      <th></th>\n",
       "      <th></th>\n",
       "      <th></th>\n",
       "      <th></th>\n",
       "    </tr>\n",
       "  </thead>\n",
       "  <tbody>\n",
       "    <tr>\n",
       "      <th>1932-01-01</th>\n",
       "      <td>557.049006</td>\n",
       "      <td>13.139017</td>\n",
       "      <td>1.472476</td>\n",
       "      <td>0.622971</td>\n",
       "      <td>99.108963</td>\n",
       "      <td>13.139017</td>\n",
       "      <td>1.472476</td>\n",
       "      <td>0.622971</td>\n",
       "      <td>101.999728</td>\n",
       "      <td>380000000.0</td>\n",
       "    </tr>\n",
       "    <tr>\n",
       "      <th>1932-01-02</th>\n",
       "      <td>638.488257</td>\n",
       "      <td>13.139017</td>\n",
       "      <td>1.472476</td>\n",
       "      <td>0.622971</td>\n",
       "      <td>99.108963</td>\n",
       "      <td>13.139017</td>\n",
       "      <td>1.472476</td>\n",
       "      <td>0.622971</td>\n",
       "      <td>623.253793</td>\n",
       "      <td>380000000.0</td>\n",
       "    </tr>\n",
       "    <tr>\n",
       "      <th>1932-01-03</th>\n",
       "      <td>758.806538</td>\n",
       "      <td>13.139017</td>\n",
       "      <td>1.472476</td>\n",
       "      <td>0.622971</td>\n",
       "      <td>99.108963</td>\n",
       "      <td>13.139017</td>\n",
       "      <td>1.472476</td>\n",
       "      <td>0.622971</td>\n",
       "      <td>743.572075</td>\n",
       "      <td>380000000.0</td>\n",
       "    </tr>\n",
       "    <tr>\n",
       "      <th>1932-01-04</th>\n",
       "      <td>824.048553</td>\n",
       "      <td>13.139017</td>\n",
       "      <td>1.472476</td>\n",
       "      <td>0.622971</td>\n",
       "      <td>99.108963</td>\n",
       "      <td>13.139017</td>\n",
       "      <td>1.472476</td>\n",
       "      <td>0.622971</td>\n",
       "      <td>808.814089</td>\n",
       "      <td>380000000.0</td>\n",
       "    </tr>\n",
       "    <tr>\n",
       "      <th>1932-01-05</th>\n",
       "      <td>780.383975</td>\n",
       "      <td>13.139017</td>\n",
       "      <td>1.472476</td>\n",
       "      <td>0.622971</td>\n",
       "      <td>99.108963</td>\n",
       "      <td>13.139017</td>\n",
       "      <td>1.472476</td>\n",
       "      <td>0.622971</td>\n",
       "      <td>765.149512</td>\n",
       "      <td>380000000.0</td>\n",
       "    </tr>\n",
       "    <tr>\n",
       "      <th>...</th>\n",
       "      <td>...</td>\n",
       "      <td>...</td>\n",
       "      <td>...</td>\n",
       "      <td>...</td>\n",
       "      <td>...</td>\n",
       "      <td>...</td>\n",
       "      <td>...</td>\n",
       "      <td>...</td>\n",
       "      <td>...</td>\n",
       "      <td>...</td>\n",
       "    </tr>\n",
       "    <tr>\n",
       "      <th>2001-12-27</th>\n",
       "      <td>775.966547</td>\n",
       "      <td>13.139017</td>\n",
       "      <td>1.444159</td>\n",
       "      <td>0.651287</td>\n",
       "      <td>99.108963</td>\n",
       "      <td>13.139017</td>\n",
       "      <td>1.444159</td>\n",
       "      <td>0.651287</td>\n",
       "      <td>760.732084</td>\n",
       "      <td>380000000.0</td>\n",
       "    </tr>\n",
       "    <tr>\n",
       "      <th>2001-12-28</th>\n",
       "      <td>716.529486</td>\n",
       "      <td>13.139017</td>\n",
       "      <td>1.444159</td>\n",
       "      <td>0.651287</td>\n",
       "      <td>99.108963</td>\n",
       "      <td>13.139017</td>\n",
       "      <td>1.444159</td>\n",
       "      <td>0.651287</td>\n",
       "      <td>701.295023</td>\n",
       "      <td>380000000.0</td>\n",
       "    </tr>\n",
       "    <tr>\n",
       "      <th>2001-12-29</th>\n",
       "      <td>668.362530</td>\n",
       "      <td>13.139017</td>\n",
       "      <td>1.444159</td>\n",
       "      <td>0.651287</td>\n",
       "      <td>99.108963</td>\n",
       "      <td>13.139017</td>\n",
       "      <td>1.444159</td>\n",
       "      <td>0.651287</td>\n",
       "      <td>653.128067</td>\n",
       "      <td>380000000.0</td>\n",
       "    </tr>\n",
       "    <tr>\n",
       "      <th>2001-12-30</th>\n",
       "      <td>580.920108</td>\n",
       "      <td>13.139017</td>\n",
       "      <td>1.444159</td>\n",
       "      <td>0.651287</td>\n",
       "      <td>99.108963</td>\n",
       "      <td>13.139017</td>\n",
       "      <td>1.444159</td>\n",
       "      <td>0.651287</td>\n",
       "      <td>565.685644</td>\n",
       "      <td>380000000.0</td>\n",
       "    </tr>\n",
       "    <tr>\n",
       "      <th>2001-12-31</th>\n",
       "      <td>481.867778</td>\n",
       "      <td>13.139017</td>\n",
       "      <td>1.444159</td>\n",
       "      <td>0.651287</td>\n",
       "      <td>99.108963</td>\n",
       "      <td>13.139017</td>\n",
       "      <td>1.444159</td>\n",
       "      <td>0.651287</td>\n",
       "      <td>466.633315</td>\n",
       "      <td>380000000.0</td>\n",
       "    </tr>\n",
       "  </tbody>\n",
       "</table>\n",
       "<p>25568 rows × 10 columns</p>\n",
       "</div>"
      ],
      "text/plain": [
       "            Total inflows (m3/s)  Baltimore demand (m3/s)  \\\n",
       "Date                                                        \n",
       "1932-01-01            557.049006                13.139017   \n",
       "1932-01-02            638.488257                13.139017   \n",
       "1932-01-03            758.806538                13.139017   \n",
       "1932-01-04            824.048553                13.139017   \n",
       "1932-01-05            780.383975                13.139017   \n",
       "...                          ...                      ...   \n",
       "2001-12-27            775.966547                13.139017   \n",
       "2001-12-28            716.529486                13.139017   \n",
       "2001-12-29            668.362530                13.139017   \n",
       "2001-12-30            580.920108                13.139017   \n",
       "2001-12-31            481.867778                13.139017   \n",
       "\n",
       "            Chester demand (m3/s)  Nuclear plant demand (m3/s)  \\\n",
       "Date                                                             \n",
       "1932-01-01               1.472476                     0.622971   \n",
       "1932-01-02               1.472476                     0.622971   \n",
       "1932-01-03               1.472476                     0.622971   \n",
       "1932-01-04               1.472476                     0.622971   \n",
       "1932-01-05               1.472476                     0.622971   \n",
       "...                           ...                          ...   \n",
       "2001-12-27               1.444159                     0.651287   \n",
       "2001-12-28               1.444159                     0.651287   \n",
       "2001-12-29               1.444159                     0.651287   \n",
       "2001-12-30               1.444159                     0.651287   \n",
       "2001-12-31               1.444159                     0.651287   \n",
       "\n",
       "            Environmental demand (m3/s)  Withdrawals Baltimore (m3/s)  \\\n",
       "Date                                                                    \n",
       "1932-01-01                    99.108963                     13.139017   \n",
       "1932-01-02                    99.108963                     13.139017   \n",
       "1932-01-03                    99.108963                     13.139017   \n",
       "1932-01-04                    99.108963                     13.139017   \n",
       "1932-01-05                    99.108963                     13.139017   \n",
       "...                                 ...                           ...   \n",
       "2001-12-27                    99.108963                     13.139017   \n",
       "2001-12-28                    99.108963                     13.139017   \n",
       "2001-12-29                    99.108963                     13.139017   \n",
       "2001-12-30                    99.108963                     13.139017   \n",
       "2001-12-31                    99.108963                     13.139017   \n",
       "\n",
       "            Withdrawals Chester (m3/s)  Withdrawals Nuclear plant (m3/s)  \\\n",
       "Date                                                                       \n",
       "1932-01-01                    1.472476                          0.622971   \n",
       "1932-01-02                    1.472476                          0.622971   \n",
       "1932-01-03                    1.472476                          0.622971   \n",
       "1932-01-04                    1.472476                          0.622971   \n",
       "1932-01-05                    1.472476                          0.622971   \n",
       "...                                ...                               ...   \n",
       "2001-12-27                    1.444159                          0.651287   \n",
       "2001-12-28                    1.444159                          0.651287   \n",
       "2001-12-29                    1.444159                          0.651287   \n",
       "2001-12-30                    1.444159                          0.651287   \n",
       "2001-12-31                    1.444159                          0.651287   \n",
       "\n",
       "            Outflows (m3/s)  Storage (m3)  \n",
       "Date                                       \n",
       "1932-01-01       101.999728   380000000.0  \n",
       "1932-01-02       623.253793   380000000.0  \n",
       "1932-01-03       743.572075   380000000.0  \n",
       "1932-01-04       808.814089   380000000.0  \n",
       "1932-01-05       765.149512   380000000.0  \n",
       "...                     ...           ...  \n",
       "2001-12-27       760.732084   380000000.0  \n",
       "2001-12-28       701.295023   380000000.0  \n",
       "2001-12-29       653.128067   380000000.0  \n",
       "2001-12-30       565.685644   380000000.0  \n",
       "2001-12-31       466.633315   380000000.0  \n",
       "\n",
       "[25568 rows x 10 columns]"
      ]
     },
     "execution_count": 5,
     "metadata": {},
     "output_type": "execute_result"
    }
   ],
   "source": [
    "# First, make a copy of the flows to initialise the water balance\n",
    "historical_balance = flows_default.copy()  # Keep flows_default as an untouched copy\n",
    "\n",
    "# Computing the water balance for our standard operating policy (SOP)\n",
    "balance_calcs.sop_full(reservoir=conowingo, water_flows=historical_balance)"
   ]
  },
  {
   "cell_type": "markdown",
   "metadata": {
    "id": "H9-n677W4eom"
   },
   "source": [
    "# Part 2: performance metrics\n",
    "\n",
    "Management objectives are as follows:\n",
    "1) Produce hydropower\n",
    "2) Meet environmental flows\n",
    "3) Meet domestic and industrial demands\n",
    "4) Avoid excessive flooding that would require evacuating the downstream town of “Port Deposit” (15,000 m3/s)\n",
    "5) Maintain a water level compatible with recreation (hydraulic head over 106.5 ft, where 1ft = 0.3048 m) in June, July and August.\n",
    "\n",
    "First, we will explore objective (1), and we will then focus on the other objectives. For these objectives, we will compare the water flows / levels versus a threshold, and use the R-R-V indicators defined in the lecture (reliability / resilience / vulnerability).\n",
    "\n",
    "\n",
    "## 2.1 - Hydropower\n",
    "\n",
    "For Conowingo Dam, key parameters of the hydropower plant can be found in the **\"Reservoir characteristics\"** part of the spreadsheet."
   ]
  },
  {
   "cell_type": "code",
   "execution_count": 7,
   "metadata": {},
   "outputs": [],
   "source": [
    "# First we download the key data\n",
    "key_parameters = pd.read_excel('data/Conowingo_data.xlsx', sheet_name='Reservoir characteristics')\n",
    "\n",
    "# We define the hydropower station parameters\n",
    "installed_capacity = key_parameters.iloc[4, 1]\n",
    "nominal_head = key_parameters.iloc[3, 1]\n",
    "max_release = key_parameters.iloc[5, 1]\n",
    "\n",
    "# Variables\n",
    "rho = 1000 # Density of water, kg/m3\n",
    "g = 9.81 # Acceleration of gravity, m/s2"
   ]
  },
  {
   "cell_type": "markdown",
   "metadata": {},
   "source": [
    "From this we can use the equation given in the lecture, linking hydropower station parameters to power production, to deduce the combined efficiency of converting potential energy into kinetic energy (through the turbine) and of converting this kinetic energy to electricity."
   ]
  },
  {
   "cell_type": "code",
   "execution_count": 9,
   "metadata": {},
   "outputs": [
    {
     "name": "stdout",
     "output_type": "stream",
     "text": [
      "Turbines and plant combined efficiency is 0.853\n"
     ]
    }
   ],
   "source": [
    "# Deduce efficiency\n",
    "efficiency = installed_capacity*1E6 / (rho*g*nominal_head*max_release)\n",
    "print(\"Turbines and plant combined efficiency is \" + \"{:.3f}\".format(efficiency))"
   ]
  },
  {
   "cell_type": "markdown",
   "metadata": {},
   "source": [
    "With these parameters and the water balance, we can get time series of daily hydropower production."
   ]
  },
  {
   "cell_type": "code",
   "execution_count": 11,
   "metadata": {},
   "outputs": [
    {
     "data": {
      "text/plain": [
       "Text(0, 0.5, 'Daily hydropower production (GWh)')"
      ]
     },
     "execution_count": 11,
     "metadata": {},
     "output_type": "execute_result"
    },
    {
     "data": {
      "image/png": "[encoded data removed]",
      "text/plain": [
       "<Figure size 640x480 with 1 Axes>"
      ]
     },
     "metadata": {},
     "output_type": "display_data"
    }
   ],
   "source": [
    "# Get hydropower production time series\n",
    "\n",
    "n_steps = len(historical_balance)\n",
    "\n",
    "# Get release time series (capped by max release)\n",
    "release = np.minimum(historical_balance['Outflows (m3/s)'].values, np.ones(n_steps)*max_release)\n",
    "\n",
    "# Get hydraulic head time series\n",
    "hy_head = np.zeros(n_steps)\n",
    "for t in range(n_steps):\n",
    "  depth = conowingo.get_height(historical_balance.iloc[t, -1])\n",
    "  hy_head[t] = nominal_head - conowingo.total_lake_depth + depth\n",
    "\n",
    "# Deduce daily hydropower production time series (in MWh)\n",
    "hydropower_daily = pd.Series(index=historical_balance.index, data=rho*g*efficiency*np.multiply(hy_head, release)*24/1E6, name='Daily hydropower production (MWh)')\n",
    "\n",
    "plt.plot(hydropower_daily.index, hydropower_daily/1000)\n",
    "plt.xlabel('Year', size=14)\n",
    "plt.ylabel('Daily hydropower production (GWh)', size=14)"
   ]
  },
  {
   "cell_type": "markdown",
   "metadata": {},
   "source": [
    "This is not a very helpful visual, and aggregation to annual data will certainly be helpful."
   ]
  },
  {
   "cell_type": "code",
   "execution_count": 13,
   "metadata": {},
   "outputs": [
    {
     "name": "stdout",
     "output_type": "stream",
     "text": [
      "Annual average hydropower production at Conowingo is 2064 GWh\n"
     ]
    }
   ],
   "source": [
    "# Let us get annual hydropower production\n",
    "\n",
    "# First the headline number: average over 70 years (GWh)\n",
    "print('Annual average hydropower production at Conowingo is ' + \"{:.0f}\".format(hydropower_daily.sum() / 70 / 1000) + ' GWh')"
   ]
  },
  {
   "cell_type": "code",
   "execution_count": 14,
   "metadata": {},
   "outputs": [
    {
     "name": "stdout",
     "output_type": "stream",
     "text": [
      "Check we have the same average. \n",
      "Annual average hydropower production at Conowingo is 2064 GWh\n"
     ]
    }
   ],
   "source": [
    "# Now the time series\n",
    "hydropower_annual = hydropower_daily.resample('YE').sum()/1000\n",
    "hydropower_annual.name = 'Annual hydropower production (GWh)'\n",
    "\n",
    "print('Check we have the same average. \\nAnnual average hydropower production at Conowingo is ' + \"{:.0f}\".format(hydropower_annual.mean()) + ' GWh')"
   ]
  },
  {
   "cell_type": "code",
   "execution_count": 15,
   "metadata": {},
   "outputs": [
    {
     "data": {
      "text/plain": [
       "(1932.0, 2001.0)"
      ]
     },
     "execution_count": 15,
     "metadata": {},
     "output_type": "execute_result"
    },
    {
     "data": {
      "image/png": "[encoded data removed]",
      "text/plain": [
       "<Figure size 640x480 with 1 Axes>"
      ]
     },
     "metadata": {},
     "output_type": "display_data"
    }
   ],
   "source": [
    "# Let us plot it\n",
    "fig = plt.figure()\n",
    "ax = fig.add_subplot(1, 1, 1)\n",
    "ax.plot(hydropower_annual.index.year, hydropower_annual, c='b', label='No intake')\n",
    "ax.set_xlabel('Date', size=14)\n",
    "ax.set_ylabel('Annual power production (GWh)', size=14)\n",
    "\n",
    "# We set the boundaries of the x-axis\n",
    "ax.set_xlim(hydropower_annual.index.year[0], hydropower_annual.index.year[-1])"
   ]
  },
  {
   "cell_type": "code",
   "execution_count": 34,
   "metadata": {},
   "outputs": [
    {
     "data": {
      "image/png": "[encoded data removed]",
      "text/plain": [
       "<Figure size 1400x800 with 1 Axes>"
      ]
     },
     "metadata": {},
     "output_type": "display_data"
    }
   ],
   "source": [
    "# let us compare with annual average flows.\n",
    "fig = visuals.annual_average(daily_data=pd.Series(historical_balance['Total inflows (m3/s)']) * 365*86400/1E9, \n",
    "                             data_label='total inflow ($km^3$)')"
   ]
  },
  {
   "cell_type": "markdown",
   "metadata": {},
   "source": [
    "**Question 1. What can we say about the correlation between inflows and hydropower production?**\n",
    "\n",
    "\n",
    "## 2.2 - R-R-V indicators\n",
    "\n",
    "Let us now introduce a function to compute the R-R-V performance metrics introduced in the lecture.\n",
    "\n",
    "**Question 2. In the function below, do you recognise the forumlas given in the lecture? What are extra steps that need to be taken? And why do we measure vulnerability as percentage?**"
   ]
  },
  {
   "cell_type": "code",
   "execution_count": 42,
   "metadata": {
    "executionInfo": {
     "elapsed": 9,
     "status": "aborted",
     "timestamp": 1712936953207,
     "user": {
      "displayName": "Charles Rougé",
      "userId": "02328605607346880259"
     },
     "user_tz": -60
    },
    "id": "U1l9SaSY4mRN"
   },
   "outputs": [],
   "source": [
    "def rrv_indicators(time_series, dynamic_threshold, above_desirable, name, **kwargs):\n",
    "    \"\"\"\n",
    "    Compute the RRV indicators for a time series vs. a threshold. Arguments:\n",
    "        time_series: numpy vector\n",
    "        dynamic_threshold: numpy vectors of same length as `time_series`\n",
    "        above_desirable: boolean. If True we value staying at or above a threshold.\n",
    "        name: String, the name of the site\n",
    "        optional argument `vul_unit`: String, default as a percentage, to specify how vulnerability is evaluated\n",
    "    Returns a pandas DataFrame with several perf_metrics metrics.\n",
    "    \"\"\"\n",
    "\n",
    "    # Optional argument\n",
    "    vul_unit = kwargs.pop(\"vul_unit\", '%')\n",
    "\n",
    "    # Local variables\n",
    "    n_steps = len(time_series)\n",
    "    tolerance = 1E-6  # for rounding errors\n",
    "\n",
    "    # If above_desirable is false we need to change sign of all data now, so we compare a and b\n",
    "    a = (2 * above_desirable - 1) * time_series\n",
    "    b = (2 * above_desirable - 1) * dynamic_threshold\n",
    "    b = b - tolerance\n",
    "\n",
    "    # Initialise output\n",
    "    indicators = pd.DataFrame(columns=['Name', 'Reliability (0-1)', 'Resilience (-)', 'Vulnerability', 'Failure count'])\n",
    "    indicators.loc[0, 'Name'] = name\n",
    "\n",
    "    # Reliability\n",
    "    indicators.loc[0, 'Reliability (0-1)'] = 1 - np.sum(a < b) / n_steps\n",
    "\n",
    "    # We need to count failure events to compute resilience and vulnerability\n",
    "    event_count = 0\n",
    "    # We also need to have the maximal amplitude or magnitude of failure\n",
    "    magnitude = []\n",
    "    # We use a while loop to count events and their magnitude\n",
    "    t = 0\n",
    "    while t < n_steps:\n",
    "\n",
    "        if a[t] < b[t]:\n",
    "            # New event! we need to update the count of failure events\n",
    "            event_count = event_count + 1\n",
    "            # We also need to keep track of the maximum amplitude of failure\n",
    "            # By default failure is expressed in relative terms\n",
    "            if vul_unit == '%':\n",
    "                magnitude.append((b[t] - a[t]) / abs(b[t]))\n",
    "            else:\n",
    "                magnitude.append(b[t] - a[t])\n",
    "            # Now while event lasts\n",
    "            while a[t] < b[t]:\n",
    "                t = t+1\n",
    "                if t == n_steps:\n",
    "                    break\n",
    "                if vul_unit == '%':\n",
    "                    magnitude[-1] = max(magnitude[-1], (b[t] - a[t]) / abs(b[t]))\n",
    "                else:\n",
    "                    magnitude[-1] = max(magnitude[-1], b[t] - a[t])\n",
    "\n",
    "        # Time increment so while loop concludes\n",
    "        t = t+1\n",
    "\n",
    "    # Resilience\n",
    "    indicators.loc[0, 'Resilience (-)'] = event_count / (n_steps * (1 - indicators.loc[0, 'Reliability (0-1)']))\n",
    "\n",
    "    # Vulnerability (as a percentage)\n",
    "    if vul_unit == '%':\n",
    "        indicators.loc[0, 'Vulnerability'] = \"{:.0f}\".format(np.mean(magnitude) * 100) + '%'\n",
    "    else:\n",
    "        indicators.loc[0, 'Vulnerability'] = \"{:.2f}\".format(np.mean(magnitude)) + vul_unit\n",
    "\n",
    "    # Finally, exporting the failure count\n",
    "    indicators.loc[0, 'Failure count'] = event_count\n",
    "\n",
    "    return indicators"
   ]
  },
  {
   "cell_type": "code",
   "execution_count": 77,
   "metadata": {},
   "outputs": [
    {
     "name": "stdout",
     "output_type": "stream",
     "text": [
      "Performance metrics for demands are:\n",
      "\n"
     ]
    },
    {
     "data": {
      "text/html": [
       "<div>\n",
       "<style scoped>\n",
       "    .dataframe tbody tr th:only-of-type {\n",
       "        vertical-align: middle;\n",
       "    }\n",
       "\n",
       "    .dataframe tbody tr th {\n",
       "        vertical-align: top;\n",
       "    }\n",
       "\n",
       "    .dataframe thead th {\n",
       "        text-align: right;\n",
       "    }\n",
       "</style>\n",
       "<table border=\"1\" class=\"dataframe\">\n",
       "  <thead>\n",
       "    <tr style=\"text-align: right;\">\n",
       "      <th></th>\n",
       "      <th>Name</th>\n",
       "      <th>Reliability (0-1)</th>\n",
       "      <th>Resilience (-)</th>\n",
       "      <th>Vulnerability</th>\n",
       "      <th>Failure count</th>\n",
       "    </tr>\n",
       "  </thead>\n",
       "  <tbody>\n",
       "    <tr>\n",
       "      <th>0</th>\n",
       "      <td>Baltimore</td>\n",
       "      <td>0.993547</td>\n",
       "      <td>0.048485</td>\n",
       "      <td>100%</td>\n",
       "      <td>8</td>\n",
       "    </tr>\n",
       "    <tr>\n",
       "      <th>1</th>\n",
       "      <td>Chester</td>\n",
       "      <td>0.980327</td>\n",
       "      <td>0.023857</td>\n",
       "      <td>100%</td>\n",
       "      <td>12</td>\n",
       "    </tr>\n",
       "    <tr>\n",
       "      <th>2</th>\n",
       "      <td>Nuclear</td>\n",
       "      <td>0.974343</td>\n",
       "      <td>0.025915</td>\n",
       "      <td>100%</td>\n",
       "      <td>17</td>\n",
       "    </tr>\n",
       "    <tr>\n",
       "      <th>3</th>\n",
       "      <td>Env. flows</td>\n",
       "      <td>0.997614</td>\n",
       "      <td>0.098361</td>\n",
       "      <td>34%</td>\n",
       "      <td>6</td>\n",
       "    </tr>\n",
       "  </tbody>\n",
       "</table>\n",
       "</div>"
      ],
      "text/plain": [
       "         Name Reliability (0-1) Resilience (-) Vulnerability Failure count\n",
       "0   Baltimore          0.993547       0.048485          100%             8\n",
       "1     Chester          0.980327       0.023857          100%            12\n",
       "2     Nuclear          0.974343       0.025915          100%            17\n",
       "3  Env. flows          0.997614       0.098361           34%             6"
      ]
     },
     "metadata": {},
     "output_type": "display_data"
    }
   ],
   "source": [
    "# Application to all four Conowingo demands\n",
    "metrics = pd.concat([rrv_indicators(historical_balance['Withdrawals Baltimore (m3/s)'].to_numpy(), \n",
    "                                    historical_balance['Baltimore demand (m3/s)'].to_numpy(), True, 'Baltimore'),\n",
    "                     rrv_indicators(historical_balance['Withdrawals Chester (m3/s)'].to_numpy(), \n",
    "                                    historical_balance['Chester demand (m3/s)'].to_numpy(), True, 'Chester'),\n",
    "                     rrv_indicators(historical_balance['Withdrawals Nuclear plant (m3/s)'].to_numpy(), \n",
    "                                    historical_balance['Nuclear plant demand (m3/s)'].to_numpy(), True, 'Nuclear'),\n",
    "                     rrv_indicators(historical_balance['Outflows (m3/s)'].to_numpy(), \n",
    "                                    historical_balance['Environmental demand (m3/s)'].to_numpy(), True, 'Env. flows')],\n",
    "                     axis=0, ignore_index=True)\n",
    "\n",
    "print('Performance metrics for demands are:\\n')\n",
    "display(metrics)"
   ]
  },
  {
   "cell_type": "code",
   "execution_count": 79,
   "metadata": {
    "executionInfo": {
     "elapsed": 9,
     "status": "aborted",
     "timestamp": 1712936953207,
     "user": {
      "displayName": "Charles Rougé",
      "userId": "02328605607346880259"
     },
     "user_tz": -60
    },
    "id": "mlQNVU-zZnRs"
   },
   "outputs": [
    {
     "name": "stdout",
     "output_type": "stream",
     "text": [
      "Performance metrics including demands and flooding are:\n",
      "\n"
     ]
    },
    {
     "data": {
      "text/html": [
       "<div>\n",
       "<style scoped>\n",
       "    .dataframe tbody tr th:only-of-type {\n",
       "        vertical-align: middle;\n",
       "    }\n",
       "\n",
       "    .dataframe tbody tr th {\n",
       "        vertical-align: top;\n",
       "    }\n",
       "\n",
       "    .dataframe thead th {\n",
       "        text-align: right;\n",
       "    }\n",
       "</style>\n",
       "<table border=\"1\" class=\"dataframe\">\n",
       "  <thead>\n",
       "    <tr style=\"text-align: right;\">\n",
       "      <th></th>\n",
       "      <th>Name</th>\n",
       "      <th>Reliability (0-1)</th>\n",
       "      <th>Resilience (-)</th>\n",
       "      <th>Vulnerability</th>\n",
       "      <th>Failure count</th>\n",
       "    </tr>\n",
       "  </thead>\n",
       "  <tbody>\n",
       "    <tr>\n",
       "      <th>0</th>\n",
       "      <td>Baltimore</td>\n",
       "      <td>0.993547</td>\n",
       "      <td>0.048485</td>\n",
       "      <td>100%</td>\n",
       "      <td>8</td>\n",
       "    </tr>\n",
       "    <tr>\n",
       "      <th>1</th>\n",
       "      <td>Chester</td>\n",
       "      <td>0.980327</td>\n",
       "      <td>0.023857</td>\n",
       "      <td>100%</td>\n",
       "      <td>12</td>\n",
       "    </tr>\n",
       "    <tr>\n",
       "      <th>2</th>\n",
       "      <td>Nuclear</td>\n",
       "      <td>0.974343</td>\n",
       "      <td>0.025915</td>\n",
       "      <td>100%</td>\n",
       "      <td>17</td>\n",
       "    </tr>\n",
       "    <tr>\n",
       "      <th>3</th>\n",
       "      <td>Env. flows</td>\n",
       "      <td>0.997614</td>\n",
       "      <td>0.098361</td>\n",
       "      <td>34%</td>\n",
       "      <td>6</td>\n",
       "    </tr>\n",
       "    <tr>\n",
       "      <th>4</th>\n",
       "      <td>Flooding</td>\n",
       "      <td>0.999687</td>\n",
       "      <td>0.5</td>\n",
       "      <td>36%</td>\n",
       "      <td>4</td>\n",
       "    </tr>\n",
       "  </tbody>\n",
       "</table>\n",
       "</div>"
      ],
      "text/plain": [
       "         Name Reliability (0-1) Resilience (-) Vulnerability Failure count\n",
       "0   Baltimore          0.993547       0.048485          100%             8\n",
       "1     Chester          0.980327       0.023857          100%            12\n",
       "2     Nuclear          0.974343       0.025915          100%            17\n",
       "3  Env. flows          0.997614       0.098361           34%             6\n",
       "4    Flooding          0.999687            0.5           36%             4"
      ]
     },
     "metadata": {},
     "output_type": "display_data"
    }
   ],
   "source": [
    "# Same for flooding\n",
    "flooding_metrics = rrv_indicators(time_series=historical_balance['Outflows (m3/s)'].to_numpy(), \n",
    "                                  dynamic_threshold=15000*np.ones(len(historical_balance)), \n",
    "                                  above_desirable=False, \n",
    "                                  name='Flooding')\n",
    "\n",
    "metrics = pd.concat([metrics, flooding_metrics], axis=0, ignore_index=True)\n",
    "\n",
    "print('Performance metrics including demands and flooding are:\\n')\n",
    "display(metrics)"
   ]
  },
  {
   "cell_type": "markdown",
   "metadata": {},
   "source": [
    "**Question 3. Compute how long it takes a flood at the flooding threshold to completely fill Conowingo, and use this to comment on the reliability, resilience and vulnerability for the flooding objective. In particular, can we use different operating policies to avoid flooding the town downstream of Conowingo (Port Deposit)?**\n",
    "\n",
    "We have now computed metrics for objectives (1) to (4) under historical flows and the standard operating policy (SOP). We now need to evaluate the last objective, summer recreation. The key difference is that the three over seasons (75% of time) don't count towards reliability calculations. This necessitates extra leg work."
   ]
  },
  {
   "cell_type": "code",
   "execution_count": 82,
   "metadata": {
    "executionInfo": {
     "elapsed": 9,
     "status": "aborted",
     "timestamp": 1712936953207,
     "user": {
      "displayName": "Charles Rougé",
      "userId": "02328605607346880259"
     },
     "user_tz": -60
    },
    "id": "Il7qi92hbARW"
   },
   "outputs": [
    {
     "name": "stdout",
     "output_type": "stream",
     "text": [
      "Performance metrics including demands, flooding and recreation are:\n",
      "\n"
     ]
    },
    {
     "data": {
      "text/html": [
       "<div>\n",
       "<style scoped>\n",
       "    .dataframe tbody tr th:only-of-type {\n",
       "        vertical-align: middle;\n",
       "    }\n",
       "\n",
       "    .dataframe tbody tr th {\n",
       "        vertical-align: top;\n",
       "    }\n",
       "\n",
       "    .dataframe thead th {\n",
       "        text-align: right;\n",
       "    }\n",
       "</style>\n",
       "<table border=\"1\" class=\"dataframe\">\n",
       "  <thead>\n",
       "    <tr style=\"text-align: right;\">\n",
       "      <th></th>\n",
       "      <th>Name</th>\n",
       "      <th>Reliability (0-1)</th>\n",
       "      <th>Resilience (-)</th>\n",
       "      <th>Vulnerability</th>\n",
       "      <th>Failure count</th>\n",
       "    </tr>\n",
       "  </thead>\n",
       "  <tbody>\n",
       "    <tr>\n",
       "      <th>0</th>\n",
       "      <td>Baltimore</td>\n",
       "      <td>0.993547</td>\n",
       "      <td>0.048485</td>\n",
       "      <td>100%</td>\n",
       "      <td>8</td>\n",
       "    </tr>\n",
       "    <tr>\n",
       "      <th>1</th>\n",
       "      <td>Chester</td>\n",
       "      <td>0.980327</td>\n",
       "      <td>0.023857</td>\n",
       "      <td>100%</td>\n",
       "      <td>12</td>\n",
       "    </tr>\n",
       "    <tr>\n",
       "      <th>2</th>\n",
       "      <td>Nuclear</td>\n",
       "      <td>0.974343</td>\n",
       "      <td>0.025915</td>\n",
       "      <td>100%</td>\n",
       "      <td>17</td>\n",
       "    </tr>\n",
       "    <tr>\n",
       "      <th>3</th>\n",
       "      <td>Env. flows</td>\n",
       "      <td>0.997614</td>\n",
       "      <td>0.098361</td>\n",
       "      <td>34%</td>\n",
       "      <td>6</td>\n",
       "    </tr>\n",
       "    <tr>\n",
       "      <th>4</th>\n",
       "      <td>Flooding</td>\n",
       "      <td>0.999687</td>\n",
       "      <td>0.5</td>\n",
       "      <td>36%</td>\n",
       "      <td>4</td>\n",
       "    </tr>\n",
       "    <tr>\n",
       "      <th>5</th>\n",
       "      <td>Recreation</td>\n",
       "      <td>0.945342</td>\n",
       "      <td>0.048295</td>\n",
       "      <td>1.87m</td>\n",
       "      <td>17</td>\n",
       "    </tr>\n",
       "  </tbody>\n",
       "</table>\n",
       "</div>"
      ],
      "text/plain": [
       "         Name Reliability (0-1) Resilience (-) Vulnerability Failure count\n",
       "0   Baltimore          0.993547       0.048485          100%             8\n",
       "1     Chester          0.980327       0.023857          100%            12\n",
       "2     Nuclear          0.974343       0.025915          100%            17\n",
       "3  Env. flows          0.997614       0.098361           34%             6\n",
       "4    Flooding          0.999687            0.5           36%             4\n",
       "5  Recreation          0.945342       0.048295         1.87m            17"
      ]
     },
     "metadata": {},
     "output_type": "display_data"
    }
   ],
   "source": [
    "# Summer recreation (lake levels need to stay above a certain level in June, July and August)\n",
    "\n",
    "# We need time series of level objectives. We initialise at 0 requirement.\n",
    "level_objective = pd.Series(index=historical_balance.index, data=np.zeros(len(historical_balance)))\n",
    "\n",
    "# We set a level during summer months, to be compared with lake level (which coincide with hydraulic head)\n",
    "summer_requirement = 106.5*0.3048\n",
    "for month in np.arange(6, 9, 1):\n",
    "    level_objective[level_objective.index.month == month] = summer_requirement\n",
    "\n",
    "# Get hydraulic head time series, assuming linear relationship between depth and lake area\n",
    "hydraulic_head = np.zeros(len(historical_balance))\n",
    "for t in range(len(historical_balance)):\n",
    "    depth = conowingo.get_height(historical_balance.iloc[t, -1])\n",
    "    hydraulic_head[t] = conowingo.hydropower_plant.nominal_head - conowingo.total_lake_depth + depth\n",
    "\n",
    "# Get the indicators\n",
    "recreation_metrics = rrv_indicators(hydraulic_head, level_objective.to_numpy(), True, 'Recreation', vul_unit='m')\n",
    "\n",
    "# We need to account for the fact that this requirement is for three months only, which impacts reliability\n",
    "# Failure happens more often if measured in the shorter time window\n",
    "recreation_metrics.iloc[0, 1] = 1 - (1-recreation_metrics.iloc[0, 1]) * len(level_objective) / (70*(30+31+31))\n",
    "\n",
    "metrics = pd.concat([metrics, recreation_metrics], axis=0, ignore_index=True)\n",
    "print('Performance metrics including demands, flooding and recreation are:\\n')\n",
    "display(metrics)"
   ]
  },
  {
   "cell_type": "code",
   "execution_count": 84,
   "metadata": {
    "executionInfo": {
     "elapsed": 9,
     "status": "aborted",
     "timestamp": 1712936953207,
     "user": {
      "displayName": "Charles Rougé",
      "userId": "02328605607346880259"
     },
     "user_tz": -60
    },
    "id": "-RU7JJ6fene2"
   },
   "outputs": [
    {
     "data": {
      "text/html": [
       "<div>\n",
       "<style scoped>\n",
       "    .dataframe tbody tr th:only-of-type {\n",
       "        vertical-align: middle;\n",
       "    }\n",
       "\n",
       "    .dataframe tbody tr th {\n",
       "        vertical-align: top;\n",
       "    }\n",
       "\n",
       "    .dataframe thead th {\n",
       "        text-align: right;\n",
       "    }\n",
       "</style>\n",
       "<table border=\"1\" class=\"dataframe\">\n",
       "  <thead>\n",
       "    <tr style=\"text-align: right;\">\n",
       "      <th></th>\n",
       "      <th>Name</th>\n",
       "      <th>Reliability (0-1)</th>\n",
       "      <th>Resilience (-)</th>\n",
       "      <th>Vulnerability</th>\n",
       "      <th>Failure count</th>\n",
       "      <th>Volumetric reliability</th>\n",
       "    </tr>\n",
       "  </thead>\n",
       "  <tbody>\n",
       "    <tr>\n",
       "      <th>0</th>\n",
       "      <td>Baltimore</td>\n",
       "      <td>0.993547</td>\n",
       "      <td>0.048485</td>\n",
       "      <td>100%</td>\n",
       "      <td>8</td>\n",
       "      <td>0</td>\n",
       "    </tr>\n",
       "    <tr>\n",
       "      <th>1</th>\n",
       "      <td>Chester</td>\n",
       "      <td>0.980327</td>\n",
       "      <td>0.023857</td>\n",
       "      <td>100%</td>\n",
       "      <td>12</td>\n",
       "      <td>0</td>\n",
       "    </tr>\n",
       "    <tr>\n",
       "      <th>2</th>\n",
       "      <td>Nuclear</td>\n",
       "      <td>0.974343</td>\n",
       "      <td>0.025915</td>\n",
       "      <td>100%</td>\n",
       "      <td>17</td>\n",
       "      <td>0</td>\n",
       "    </tr>\n",
       "    <tr>\n",
       "      <th>3</th>\n",
       "      <td>Env. flows</td>\n",
       "      <td>0.997614</td>\n",
       "      <td>0.098361</td>\n",
       "      <td>34%</td>\n",
       "      <td>6</td>\n",
       "      <td>0</td>\n",
       "    </tr>\n",
       "    <tr>\n",
       "      <th>4</th>\n",
       "      <td>Flooding</td>\n",
       "      <td>0.999687</td>\n",
       "      <td>0.5</td>\n",
       "      <td>36%</td>\n",
       "      <td>4</td>\n",
       "      <td>N/A</td>\n",
       "    </tr>\n",
       "    <tr>\n",
       "      <th>5</th>\n",
       "      <td>Recreation</td>\n",
       "      <td>0.945342</td>\n",
       "      <td>0.048295</td>\n",
       "      <td>1.87m</td>\n",
       "      <td>17</td>\n",
       "      <td>N/A</td>\n",
       "    </tr>\n",
       "  </tbody>\n",
       "</table>\n",
       "</div>"
      ],
      "text/plain": [
       "         Name Reliability (0-1) Resilience (-) Vulnerability Failure count  \\\n",
       "0   Baltimore          0.993547       0.048485          100%             8   \n",
       "1     Chester          0.980327       0.023857          100%            12   \n",
       "2     Nuclear          0.974343       0.025915          100%            17   \n",
       "3  Env. flows          0.997614       0.098361           34%             6   \n",
       "4    Flooding          0.999687            0.5           36%             4   \n",
       "5  Recreation          0.945342       0.048295         1.87m            17   \n",
       "\n",
       "  Volumetric reliability  \n",
       "0                      0  \n",
       "1                      0  \n",
       "2                      0  \n",
       "3                      0  \n",
       "4                    N/A  \n",
       "5                    N/A  "
      ]
     },
     "metadata": {},
     "output_type": "display_data"
    }
   ],
   "source": [
    "# Add a new column, volumetric reliability\n",
    "metrics.insert(5, 'Volumetric reliability', [0, 0, 0, 0, 'N/A', 'N/A'])\n",
    "display(metrics)"
   ]
  },
  {
   "cell_type": "code",
   "execution_count": 88,
   "metadata": {
    "executionInfo": {
     "elapsed": 10,
     "status": "aborted",
     "timestamp": 1712936953208,
     "user": {
      "displayName": "Charles Rougé",
      "userId": "02328605607346880259"
     },
     "user_tz": -60
    },
    "id": "zA_7wOTCggaT"
   },
   "outputs": [
    {
     "data": {
      "text/html": [
       "<div>\n",
       "<style scoped>\n",
       "    .dataframe tbody tr th:only-of-type {\n",
       "        vertical-align: middle;\n",
       "    }\n",
       "\n",
       "    .dataframe tbody tr th {\n",
       "        vertical-align: top;\n",
       "    }\n",
       "\n",
       "    .dataframe thead th {\n",
       "        text-align: right;\n",
       "    }\n",
       "</style>\n",
       "<table border=\"1\" class=\"dataframe\">\n",
       "  <thead>\n",
       "    <tr style=\"text-align: right;\">\n",
       "      <th></th>\n",
       "      <th>Name</th>\n",
       "      <th>Reliability (0-1)</th>\n",
       "      <th>Resilience (-)</th>\n",
       "      <th>Vulnerability</th>\n",
       "      <th>Failure count</th>\n",
       "      <th>Volumetric reliability</th>\n",
       "    </tr>\n",
       "  </thead>\n",
       "  <tbody>\n",
       "    <tr>\n",
       "      <th>0</th>\n",
       "      <td>Baltimore</td>\n",
       "      <td>0.993547</td>\n",
       "      <td>0.048485</td>\n",
       "      <td>100%</td>\n",
       "      <td>8</td>\n",
       "      <td>0.993547</td>\n",
       "    </tr>\n",
       "    <tr>\n",
       "      <th>1</th>\n",
       "      <td>Chester</td>\n",
       "      <td>0.980327</td>\n",
       "      <td>0.023857</td>\n",
       "      <td>100%</td>\n",
       "      <td>12</td>\n",
       "      <td>0.980099</td>\n",
       "    </tr>\n",
       "    <tr>\n",
       "      <th>2</th>\n",
       "      <td>Nuclear</td>\n",
       "      <td>0.974343</td>\n",
       "      <td>0.025915</td>\n",
       "      <td>100%</td>\n",
       "      <td>17</td>\n",
       "      <td>0.972667</td>\n",
       "    </tr>\n",
       "    <tr>\n",
       "      <th>3</th>\n",
       "      <td>Env. flows</td>\n",
       "      <td>0.997614</td>\n",
       "      <td>0.098361</td>\n",
       "      <td>34%</td>\n",
       "      <td>6</td>\n",
       "      <td>0.999565</td>\n",
       "    </tr>\n",
       "    <tr>\n",
       "      <th>4</th>\n",
       "      <td>Flooding</td>\n",
       "      <td>0.999687</td>\n",
       "      <td>0.5</td>\n",
       "      <td>36%</td>\n",
       "      <td>4</td>\n",
       "      <td>N/A</td>\n",
       "    </tr>\n",
       "    <tr>\n",
       "      <th>5</th>\n",
       "      <td>Recreation</td>\n",
       "      <td>0.945342</td>\n",
       "      <td>0.048295</td>\n",
       "      <td>1.87m</td>\n",
       "      <td>17</td>\n",
       "      <td>N/A</td>\n",
       "    </tr>\n",
       "  </tbody>\n",
       "</table>\n",
       "</div>"
      ],
      "text/plain": [
       "         Name Reliability (0-1) Resilience (-) Vulnerability Failure count  \\\n",
       "0   Baltimore          0.993547       0.048485          100%             8   \n",
       "1     Chester          0.980327       0.023857          100%            12   \n",
       "2     Nuclear          0.974343       0.025915          100%            17   \n",
       "3  Env. flows          0.997614       0.098361           34%             6   \n",
       "4    Flooding          0.999687            0.5           36%             4   \n",
       "5  Recreation          0.945342       0.048295         1.87m            17   \n",
       "\n",
       "  Volumetric reliability  \n",
       "0               0.993547  \n",
       "1               0.980099  \n",
       "2               0.972667  \n",
       "3               0.999565  \n",
       "4                    N/A  \n",
       "5                    N/A  "
      ]
     },
     "metadata": {},
     "output_type": "display_data"
    }
   ],
   "source": [
    "# Volumetric reliability is only defined for the demands, and it relies on the grand total supply / demand\n",
    "totals = historical_balance.sum(axis=0)\n",
    "\n",
    "metrics.loc[0, 'Volumetric reliability'] = totals['Withdrawals Baltimore (m3/s)'] / totals['Baltimore demand (m3/s)']\n",
    "metrics.loc[1, 'Volumetric reliability'] = totals['Withdrawals Chester (m3/s)'] / totals['Chester demand (m3/s)']\n",
    "metrics.loc[2, 'Volumetric reliability'] = totals['Withdrawals Nuclear plant (m3/s)'] / totals['Nuclear plant demand (m3/s)']\n",
    "metrics.loc[3, 'Volumetric reliability'] = np.sum(np.minimum(historical_balance['Environmental demand (m3/s)'], \n",
    "                                                             historical_balance['Outflows (m3/s)'])) / totals['Environmental demand (m3/s)']\n",
    "\n",
    "display(metrics)"
   ]
  },
  {
   "cell_type": "markdown",
   "metadata": {},
   "source": [
    "**Question 4. Which objectives do you feel the chosen operating policy favours? Why?**"
   ]
  },
  {
   "cell_type": "markdown",
   "metadata": {},
   "source": [
    "# Prioritising current water uses with economic principles?\n",
    "\n",
    "Until now we assumed that users took the water if it was available. But now we are the regulator and we want to make sure storage is regulated to make sure the most valuable uses are rewarded, even if that means some users have to scale back on water withdrawals even as they could take more. \n",
    "\n",
    "Before negotiating with the different users we need to have an idea which uses would be prioritised in practice. We need to know, depending on head (h) in the reservoir, how a quantity of water Q that we decide to allocate for releases / withdrawals breaks down between users. All prices in USD. Our starting assumptions are:\n",
    "\n",
    "=> We prioritise ecological conservation and give water for meeting environmental flows a value of USD 10/m3.\n",
    "\n",
    "=> Baltimore and Chester both have alternative sources of water supply so we assume a water value for their uses that is linear at USD 3/m3. If there is a water shortage for them, we assume it will be equal in proportion for both cities.\n",
    "\n",
    "=> Average benefits from hydropower USD 60/MWh.\n",
    "\n",
    "=> Average benefits from nuclear power production USD 40/MWh.\n",
    "\n",
    "Hydropower is more valuable on average than nuclear power (per MWh), because turbines can be turned on or off almost instantly so hydropower can easily meet peak demand (more expensive) whereas nuclear power meets the base load."
   ]
  },
  {
   "cell_type": "markdown",
   "metadata": {},
   "source": [
    "#### Question 3\n",
    "Given the average annual power production from Peach Bottom is around 20,000 GWh, and that all of it needs cooling water, what’s the average value of a m3 in USD?"
   ]
  },
  {
   "cell_type": "code",
   "execution_count": null,
   "metadata": {},
   "outputs": [],
   "source": [
    "# If you have calculations you can use this to do them before looking up the answers."
   ]
  },
  {
   "cell_type": "markdown",
   "metadata": {},
   "source": [
    "#### Question 4\n",
    "How much water does it take to produce 1MWh of hydropower? What does it mean for the value of water for hydropower?"
   ]
  },
  {
   "cell_type": "code",
   "execution_count": null,
   "metadata": {},
   "outputs": [],
   "source": [
    "# If you have calculations you can use this to do them before looking up the answers."
   ]
  },
  {
   "cell_type": "markdown",
   "metadata": {},
   "source": [
    "#### Question 5 \n",
    "With this in mind, how can we prioritise uses if the lake is full on a given day? If the water level is 3 metres lower than full?"
   ]
  },
  {
   "cell_type": "markdown",
   "metadata": {},
   "source": [
    "#### Question 6\n",
    "How sensitive is this order to the assumptions made? Were all those assumptions driven by economics alone?"
   ]
  },
  {
   "cell_type": "markdown",
   "metadata": {},
   "source": [
    "#### Question 7\n",
    "Does this evaluation support releasing water for hydropower production when the reservoir is not full?\n",
    "\n",
    "#### Question 8\n",
    "If we had not valued ecological flows, what would be the consequences?\n",
    "\n",
    "#### Question 9\n",
    "Overall, do the failure indicators reflect how valuable respective uses are? If not, what could be done to improve that?"
   ]
  }
 ],
 "metadata": {
  "colab": {
   "provenance": []
  },
  "kernelspec": {
   "display_name": "civx782",
   "language": "python",
   "name": "civx782"
  },
  "language_info": {
   "codemirror_mode": {
    "name": "ipython",
    "version": 3
   },
   "file_extension": ".py",
   "mimetype": "text/x-python",
   "name": "python",
   "nbconvert_exporter": "python",
   "pygments_lexer": "ipython3",
   "version": "3.12.3"
  }
 },
 "nbformat": 4,
 "nbformat_minor": 4
}
