{
 "cells": [
  {
   "cell_type": "markdown",
   "metadata": {
    "id": "Yt916O_HhkAy"
   },
   "source": [
    "# Imports and data uploads\n",
    "\n",
    "As is customary, let us first call the Python libraries needed here, and upload the needed data and code."
   ]
  },
  {
   "cell_type": "code",
   "execution_count": null,
   "metadata": {
    "executionInfo": {
     "elapsed": 564,
     "status": "ok",
     "timestamp": 1712936927047,
     "user": {
      "displayName": "Charles Rougé",
      "userId": "02328605607346880259"
     },
     "user_tz": -60
    },
    "id": "hoEWhFzkXIIb"
   },
   "outputs": [],
   "source": [
    "from model import setup, balance_calcs, func_FDC, visuals\n",
    "import datetime\n",
    "import pandas as pd\n",
    "import math\n",
    "from scipy import special\n",
    "import matplotlib.pyplot as plt\n",
    "# import numpy as np"
   ]
  },
  {
   "cell_type": "markdown",
   "metadata": {
    "id": "WMIgClwijXD_"
   },
   "source": [
    "# Part 1: Model set up\n",
    "\n",
    "In this tutorial we will build on the model we developed in Tutorial 1. Rather than share all the code in the Notebook again, this time we'll use **auxiliary files** to do the heavy lifting."
   ]
  },
  {
   "cell_type": "code",
   "execution_count": null,
   "metadata": {
    "colab": {
     "base_uri": "https://localhost:8080/"
    },
    "executionInfo": {
     "elapsed": 3136,
     "status": "ok",
     "timestamp": 1712936952869,
     "user": {
      "displayName": "Charles Rougé",
      "userId": "02328605607346880259"
     },
     "user_tz": -60
    },
    "id": "OA_TBdm4rxcW",
    "outputId": "35a6129e-9086-444e-a7b9-271367b2dc63"
   },
   "outputs": [],
   "source": [
    "# Preparing the model\n",
    "reservoir_name = 'Conowingo'\n",
    "downstream_demand_names = ['Environmental']\n",
    "direct_demand_names = ['Baltimore', 'Chester', 'Nuclear plant']\n",
    "\n",
    "# Loading the model!\n",
    "conowingo = setup.define_reservoir(reservoir_name, downstream_demand_names, direct_demand_names)\n",
    "\n",
    "# Checking on the structure, e.g.:\n",
    "print('Demand downstream of the dam is ' + conowingo.demand_downstream[0].name + '.')\n",
    "print('Dead storage is ' + \"{:.1f}\".format(conowingo.dead_storage / 100**3) + ' hm3')"
   ]
  },
  {
   "cell_type": "code",
   "execution_count": null,
   "metadata": {
    "colab": {
     "base_uri": "https://localhost:8080/"
    },
    "executionInfo": {
     "elapsed": 3545,
     "status": "ok",
     "timestamp": 1712937024376,
     "user": {
      "displayName": "Charles Rougé",
      "userId": "02328605607346880259"
     },
     "user_tz": -60
    },
    "id": "if53mqKzAF8I",
    "outputId": "91dbf63f-9748-4d24-90ab-79a1c27d506e"
   },
   "outputs": [],
   "source": [
    "# Read flow and demand data. We keep this copy of the data for the simulation of different futures.\n",
    "flows_default = setup.extract_flows(reservoir=conowingo)\n",
    "print(flows_default)"
   ]
  },
  {
   "cell_type": "markdown",
   "metadata": {},
   "source": [
    "# Part 2: Historical water balance\n",
    "\n",
    "We now perform water balance analysis using historical flow data, still using functions written for last week's tutorial, now written as auxiliary code. \n",
    "This historical water balance will also enable us to compare with results under climate change."
   ]
  },
  {
   "cell_type": "code",
   "execution_count": null,
   "metadata": {
    "colab": {
     "base_uri": "https://localhost:8080/"
    },
    "executionInfo": {
     "elapsed": 7938,
     "status": "ok",
     "timestamp": 1712937043084,
     "user": {
      "displayName": "Charles Rougé",
      "userId": "02328605607346880259"
     },
     "user_tz": -60
    },
    "id": "smixVwQqAMn2",
    "outputId": "7af7e4d3-10d8-435e-e12c-9b3dcfab3df7"
   },
   "outputs": [],
   "source": [
    "# First, make a copy of the flows to initialise the water balance\n",
    "historical_balance = flows_default.copy()  # Keep flows_default as an untouched copy\n",
    "\n",
    "# Computing the water balance for our standard operating policy (SOP)\n",
    "balance_calcs.sop_full(reservoir=conowingo, water_flows=historical_balance)\n",
    "\n",
    "# Results check\n",
    "print(historical_balance.columns)\n",
    "print(\"{:.2f}\".format(historical_balance['Withdrawals Baltimore (m3/s)'].max()))"
   ]
  },
  {
   "cell_type": "markdown",
   "metadata": {},
   "source": [
    "## Having tools to plot results\n",
    "\n",
    "Now that we have our water balance, we can have the same visuals as before."
   ]
  },
  {
   "cell_type": "code",
   "execution_count": null,
   "metadata": {
    "colab": {
     "base_uri": "https://localhost:8080/",
     "height": 470
    },
    "executionInfo": {
     "elapsed": 917,
     "status": "ok",
     "timestamp": 1712937082573,
     "user": {
      "displayName": "Charles Rougé",
      "userId": "02328605607346880259"
     },
     "user_tz": -60
    },
    "id": "4LVg74oFAUBl",
    "outputId": "83dee571-c32e-4d27-8fc9-79a5eb269b5e"
   },
   "outputs": [],
   "source": [
    "# Storage over the whole period\n",
    "fig = visuals.storage_timeseries(reservoir=conowingo, \n",
    "                                 balance=historical_balance)"
   ]
  },
  {
   "cell_type": "code",
   "execution_count": null,
   "metadata": {
    "colab": {
     "base_uri": "https://localhost:8080/",
     "height": 470
    },
    "executionInfo": {
     "elapsed": 691,
     "status": "ok",
     "timestamp": 1712937125723,
     "user": {
      "displayName": "Charles Rougé",
      "userId": "02328605607346880259"
     },
     "user_tz": -60
    },
    "id": "rH4EKgRLAbFQ",
    "outputId": "c63d6814-4a79-427e-d197-704d928f9576"
   },
   "outputs": [],
   "source": [
    "# Storage in the dry period\n",
    "fig = visuals.storage_timeseries(reservoir=conowingo, \n",
    "                                 balance=historical_balance, \n",
    "                                 first_date=datetime.date(1962, 1, 1), \n",
    "                                 last_date=datetime.date(1968, 1, 1))"
   ]
  },
  {
   "cell_type": "code",
   "execution_count": null,
   "metadata": {
    "colab": {
     "base_uri": "https://localhost:8080/",
     "height": 454
    },
    "executionInfo": {
     "elapsed": 674,
     "status": "ok",
     "timestamp": 1712937289721,
     "user": {
      "displayName": "Charles Rougé",
      "userId": "02328605607346880259"
     },
     "user_tz": -60
    },
    "id": "yCr6HwLHA7t9",
    "outputId": "e89e3c77-d189-4262-e612-3c6158aa9e3b"
   },
   "outputs": [],
   "source": [
    "# Outflows\n",
    "fig = visuals.flow_timeseries(balance=historical_balance, \n",
    "                              flux_name='Outflows', \n",
    "                              first_date=datetime.date(1962, 1, 1), \n",
    "                              last_date=datetime.date(1968, 1, 1))"
   ]
  },
  {
   "cell_type": "code",
   "execution_count": null,
   "metadata": {
    "colab": {
     "base_uri": "https://localhost:8080/",
     "height": 454
    },
    "executionInfo": {
     "elapsed": 634,
     "status": "ok",
     "timestamp": 1712937215605,
     "user": {
      "displayName": "Charles Rougé",
      "userId": "02328605607346880259"
     },
     "user_tz": -60
    },
    "id": "-25Kg9gdAuYA",
    "outputId": "a24536be-bcf1-4e43-f887-59d84d153a53"
   },
   "outputs": [],
   "source": [
    "# And more, e.g., nuclear plant withdrawals\n",
    "fig = visuals.flow_timeseries(balance=historical_balance, \n",
    "                              flux_name='Withdrawals Nuclear plant', \n",
    "                              first_date=datetime.date(1960, 1, 1), \n",
    "                              last_date=datetime.date(1970, 1, 1))"
   ]
  },
  {
   "cell_type": "code",
   "execution_count": null,
   "metadata": {},
   "outputs": [],
   "source": [
    "# We can even plot monthly averages\n",
    "fig = visuals.monthly_averages(flows=pd.Series(historical_balance['Total inflows (m3/s)']))"
   ]
  },
  {
   "cell_type": "markdown",
   "metadata": {},
   "source": [
    "#  Part 3: A simple model to simulate a drier future\n",
    "\n",
    "Now we want to represent a drier future. For this, the simplest way is to multiply all flows by the same factor. Here we uniformly decrease all flows by 20%. This means there is 20% less water on average, but also that the standard deviation of flow decreases by 20% (ask yourself: is it consistent with what we see in terms of extreme water events across the world?)."
   ]
  },
  {
   "cell_type": "code",
   "execution_count": null,
   "metadata": {},
   "outputs": [],
   "source": [
    "# First, we define our uniform model for inflows and perform the water balance with it.\n",
    "def uniform_change_model(reservoir, flows_original, multiplier):\n",
    "    \"\"\"\n",
    "    This function computes the water balance given the desired streamflow multiplier.\n",
    "    Arguments:\n",
    "        - reservoir: a Reservoir object\n",
    "        - flows_original: the flows DataFrame from reading the data. This copy is kept unmodified.\n",
    "        - multiplier: float, a factor by which to multiply all flows.\n",
    "    \"\"\"\n",
    "\n",
    "    # Get a copy of the data so that there is an untouched original copy\n",
    "    water_balance = flows_original.copy()\n",
    "    water_balance['Total inflows (m3/s)'] = water_balance['Total inflows (m3/s)'] * multiplier\n",
    "\n",
    "    return water_balance"
   ]
  },
  {
   "cell_type": "code",
   "execution_count": null,
   "metadata": {},
   "outputs": [],
   "source": [
    "# Define consistent 20% flow reduction scenario\n",
    "drier_future = uniform_change_model(conowingo, flows_default, 0.8)\n",
    "\n",
    "# Perform water balance under standard operating policy (SOP)\n",
    "balance_calcs.sop_full(reservoir=conowingo, water_flows=drier_future)"
   ]
  },
  {
   "cell_type": "markdown",
   "metadata": {},
   "source": [
    "Now let's compare this drier future with historical data. First let's examine what that means for inflows, then for reservoir operations and performance.\n",
    "\n",
    "## 3.1 - Compare monthly average  flows"
   ]
  },
  {
   "cell_type": "code",
   "execution_count": null,
   "metadata": {},
   "outputs": [],
   "source": [
    "fig = visuals.compare_monthly_averages(reference=pd.Series(historical_balance['Total inflows (m3/s)']), \n",
    "                                       alternative=pd.Series(drier_future['Total inflows (m3/s)']), \n",
    "                                       labels=['Historical', 'Drier future'])"
   ]
  },
  {
   "cell_type": "markdown",
   "metadata": {},
   "source": [
    "## 3.2 -  Compare daily inflows"
   ]
  },
  {
   "cell_type": "code",
   "execution_count": null,
   "metadata": {},
   "outputs": [],
   "source": [
    "# Compare inflows especially in drier period 1962-1968\n",
    "fig = visuals.compare_flow_timeseries(reference=pd.Series(historical_balance['Total inflows (m3/s)']),\n",
    "                                      alternative=pd.Series(drier_future['Total inflows (m3/s)']),\n",
    "                                      labels=['Historical', 'Drier future'], \n",
    "                                      first_date=datetime.date(1962, 1, 1), \n",
    "                                      last_date=datetime.date(1963, 1, 1))"
   ]
  },
  {
   "cell_type": "markdown",
   "metadata": {},
   "source": [
    "## 3.3 -  Compare storage"
   ]
  },
  {
   "cell_type": "code",
   "execution_count": null,
   "metadata": {},
   "outputs": [],
   "source": [
    "fig = visuals.compare_storage_timeseries(reservoir=conowingo, \n",
    "                                         storage_1=pd.Series(historical_balance['Storage (m3)']),\n",
    "                                         storage_2=pd.Series(drier_future['Storage (m3)']), \n",
    "                                         labels=['Historical', 'Drier future'],\n",
    "                                         first_date=datetime.date(1962, 1, 1), \n",
    "                                         last_date=datetime.date(1970, 1, 1))"
   ]
  },
  {
   "cell_type": "markdown",
   "metadata": {},
   "source": [
    "# Part 4: Statistical Flow Generation (SFG) Model for dry futures\n",
    "\n",
    "As we move forward, our objective is to generate future flow scenarios that go beyond modelling just a change in the mean. For this we use a statistical model for flow generation (which we will call SFG for statistical flow generation), and we employ the SFG model to create another scenario. \n",
    "\n",
    "In this model, we can adjust three parameters: mean flow, standard deviation and a the first or fifth percentile of flows (to represent how changes can particularly affect the extremes). By modifying additional parameters, we aim to capture a more nuanced representation of future flow dynamics.\n",
    "\n",
    "In this part of this tutorial, we execute the water balance model for all the scenarios. This entails comparing storage and performance metrics. This analysis will provide insights into the system's behavior under different conditions.\n",
    "\n",
    "## 4.1 - Statistical Flow Generation Model setup"
   ]
  },
  {
   "cell_type": "code",
   "execution_count": null,
   "metadata": {},
   "outputs": [],
   "source": [
    "## Statistical Flow Generation (SFG) Model \n",
    "\n",
    "## Select the methodological case; the key streamflow characteristics\n",
    "# Mean Case: Mean, standard deviation and Low Percentile (first or fifth)\n",
    "\n",
    "# 1- Setup the model\n",
    "# Define low flow quantile: 1 or 5\n",
    "low_percentile = 1  \n",
    "   \n",
    "# 2 - Retrieve inflow (historical) data \n",
    "streamflow = flows_default.iloc[:, 0] \n",
    "\n",
    "# 3- Derive Flow Duration Curve (FDC) from historical data\n",
    "fdc_discharge, fdc_probability = func_FDC.compute_fdc(streamflow)  # Derive FDC\n",
    "\n",
    "# 4- Convert a 1D array to a 2D Numpy array for streamflow_statistics function \n",
    "streamflow_2d = fdc_discharge.reshape(len(fdc_discharge), 1)\n",
    "\n",
    "# 5- Derive streamflow statistics  of inflow (historical) data \n",
    "M1, V1, L1 = func_FDC.streamflow_statistics(streamflow_2d, low_percentile, 1, 1)  # for mean case\n",
    "\n",
    "# What are our flow statistics?\n",
    "print('Historical mean flow is ' + \"{:.0f}\".format(M1[0]) + ' m3/s.')\n",
    "print('Historical flow standard deviation is ' + \"{:.0f}\".format(V1[0]) + ' m3/s')\n",
    "print('Historical first percentile of flow is ' + \"{:.0f}\".format(L1[0]) + ' m3/s.')"
   ]
  },
  {
   "cell_type": "markdown",
   "metadata": {},
   "source": [
    "## 4.2 - Inflow model and water balance with SFG"
   ]
  },
  {
   "cell_type": "code",
   "execution_count": null,
   "metadata": {},
   "outputs": [],
   "source": [
    "def SFG_climate_change_model(reservoir, flows_original, multiplierSFG, low_quantile):\n",
    "    \"\"\"\n",
    "    This function computes the water balance given the desired \n",
    "    Arguments:\n",
    "        - reservoir: a Reservoir object\n",
    "        - flows_original: the flows DataFrame from reading the data. This copy is kept unmodified.\n",
    "        - multiplier: float, a factor by which to multiply all flows.\n",
    "    \"\"\"\n",
    "\n",
    "    # Get a copy of the data so that there is an untouched original copy\n",
    "    water_balance = flows_original.copy()\n",
    "    \n",
    "    # 1 - Retrieve inflow (historical) data and derive streamflow statistics\n",
    "    streamflow = water_balance['Total inflows (m3/s)'].to_numpy().reshape(len(water_balance), 1)\n",
    "    mean_base, std_base, low_base = func_FDC.streamflow_statistics(streamflow, low_quantile, num=1, case_to_derive=1)\n",
    "\n",
    "    # 2 - Derive Flow Duration Curve (FDC) from historical data\n",
    "    fdc_flows, fdc_probs = func_FDC.compute_fdc(streamflow)  # Derive FDC\n",
    "    \n",
    "    # 3 - derive FDC parameters for the defined scenario\n",
    "    E = math.exp(math.sqrt(2)*special.erfcinv(2*(1- low_quantile/100)))  # Calculate the coefficient of low percentile function\n",
    "    FDC_pars = func_FDC.kosugi_model(mean_base[0]*multiplierSFG[0], std_base[0]*multiplierSFG[1], low_base[0]*multiplierSFG[2], E); \n",
    "\n",
    "    # 4 - Return exceedance probability for each day\n",
    "    daily_probability = func_FDC.daily_exceedance(streamflow, fdc_probs);  \n",
    "\n",
    "    # 5 - Return the original sequence of the streamflow\n",
    "    Q_future = func_FDC.kosugi_fdc(FDC_pars, daily_probability)\n",
    "\n",
    "    # 6 - Create a DataFrame from the NumPy array with the same index as streamflow\n",
    "    SFG_flows = pd.DataFrame({'Total inflows (m3/s)': Q_future}, index=water_balance.index)\n",
    "    \n",
    "    water_balance['Total inflows (m3/s)'] = SFG_flows \n",
    "\n",
    "\n",
    "\n",
    "    return water_balance"
   ]
  },
  {
   "cell_type": "markdown",
   "metadata": {},
   "source": [
    "## 4.3 - Define a nuanced drier future flow scenario\n",
    "\n",
    "We want to define a scenario a 20% reduction in mean flow as before, but instead of this reduction being uniform on high and low flows, we want:\n",
    "* to represent that overall variability increases;\n",
    "* to represent that low flows might be more severely affected than average conditions.\n",
    "\n",
    "The SFG is meant to help us to define this scenario!"
   ]
  },
  {
   "cell_type": "code",
   "execution_count": null,
   "metadata": {},
   "outputs": [],
   "source": [
    "# Define multipler of streamflow statistics for SFG\n",
    "# Change in the mean, multiplier smaller than one for a drier future\n",
    "multiplier_mean = 0.8;\n",
    "# Change in variability, multiplier higher than one for increased variability\n",
    "multiplier_std = 1.5;\n",
    "# Change in the low flows, multiplier smaller than one for more severe dry conditions\n",
    "multiplier_lowflow = 0.6;\n",
    "\n",
    "multiplierSFG = [multiplier_mean, multiplier_std, multiplier_lowflow]\n",
    "\n",
    "# Executing the Model with historical flow data and a defined scenario \n",
    "drier_future_SFG = SFG_climate_change_model(conowingo, flows_default, multiplierSFG, low_percentile)\n",
    "\n",
    "# Computing the water balance for our standard operating policy (SOP)\n",
    "balance_calcs.sop_full(reservoir=conowingo, water_flows=drier_future_SFG)"
   ]
  },
  {
   "cell_type": "markdown",
   "metadata": {},
   "source": [
    "# Part 5: Let us compare all three scenarios\n",
    "\n",
    "## 5.1 - Compare flow duration curves\n",
    "\n",
    "A flow duration curve (FDC) plots the exceedance probability of different flow rates. This enables us to get a good idea of the flow regime, and to compare flow regimes under different climates."
   ]
  },
  {
   "cell_type": "code",
   "execution_count": null,
   "metadata": {},
   "outputs": [],
   "source": [
    "fig = visuals.compare_fdc(reference=pd.Series(historical_balance['Total inflows (m3/s)']), \n",
    "                          alternative=pd.Series(drier_future['Total inflows (m3/s)']), \n",
    "                          alternative_2=pd.Series(drier_future_SFG['Total inflows (m3/s)']), \n",
    "                          labels=['Historical', 'Drier future (uniform)', 'Drier future (SFG)'])"
   ]
  },
  {
   "cell_type": "markdown",
   "metadata": {},
   "source": [
    "## 5.2 - Compare monthly average flows"
   ]
  },
  {
   "cell_type": "code",
   "execution_count": null,
   "metadata": {},
   "outputs": [],
   "source": [
    "fig = visuals.compare_monthly_averages(reference=pd.Series(historical_balance['Total inflows (m3/s)']), \n",
    "                                       alternative=pd.Series(drier_future['Total inflows (m3/s)']), \n",
    "                                       alternative_2=pd.Series(drier_future_SFG['Total inflows (m3/s)']), \n",
    "                                       labels=['Historical', 'Drier future (uniform)', 'Drier future (SFG)'])"
   ]
  },
  {
   "cell_type": "markdown",
   "metadata": {},
   "source": [
    "## 5.3 - Compare daily flows"
   ]
  },
  {
   "cell_type": "code",
   "execution_count": null,
   "metadata": {},
   "outputs": [],
   "source": [
    "# Compare inflows, especially in drier period 1962-1968.\n",
    "fig = visuals.compare_flow_timeseries(reference=pd.Series(historical_balance['Total inflows (m3/s)']),\n",
    "                                      alternative=pd.Series(drier_future['Total inflows (m3/s)']),\n",
    "                                      alternative_2=pd.Series(drier_future_SFG['Total inflows (m3/s)']),\n",
    "                                      labels=['Historical', 'Drier future (uniform)', 'Drier future (SFG)'], \n",
    "                                      first_date=datetime.date(1962, 1, 1), \n",
    "                                      last_date=datetime.date(1963, 1, 1))"
   ]
  },
  {
   "cell_type": "markdown",
   "metadata": {},
   "source": [
    "## 5.4 - Compare storage"
   ]
  },
  {
   "cell_type": "code",
   "execution_count": null,
   "metadata": {},
   "outputs": [],
   "source": [
    "fig = visuals.compare_storage_timeseries(reservoir=conowingo, \n",
    "                                         storage_1=pd.Series(historical_balance['Storage (m3)']),\n",
    "                                         storage_2=pd.Series(drier_future['Storage (m3)']), \n",
    "                                         storage_3=pd.Series(drier_future_SFG['Storage (m3)']),\n",
    "                                         labels=['Historical', 'Drier future(uniform)', 'Drier future (SFG)'],\n",
    "                                         first_date=datetime.date(1962, 1, 1), \n",
    "                                         last_date=datetime.date(1970, 1, 1))"
   ]
  },
  {
   "cell_type": "markdown",
   "metadata": {},
   "source": [
    "## 5.5 - Taking stock \n",
    "\n",
    "Observe the difference made by a more explicit modelling of the possible changes, for the same average decrease in flows. \n",
    "1. How do the two proposed models affect flow duration curves?\n",
    "2. How are the differences between the two models represented for daily inflows?\n",
    "3. What are the consequences for storage of using either model?\n",
    "4. What drawbacks do you see for both methods for generating futures?\n",
    "5. Do you see an apparent contradiction between these methods for generating plausible future flows, and the lecture?\n",
    "\n",
    "For a deeper understanding of how climate changes are modelled, it is encouraged you try to answer these questions for yourself before looking up answers."
   ]
  },
  {
   "cell_type": "code",
   "execution_count": null,
   "metadata": {},
   "outputs": [],
   "source": []
  }
 ],
 "metadata": {
  "colab": {
   "provenance": []
  },
  "kernelspec": {
   "display_name": "Python 3 (ipykernel)",
   "language": "python",
   "name": "python3"
  },
  "language_info": {
   "codemirror_mode": {
    "name": "ipython",
    "version": 3
   },
   "file_extension": ".py",
   "mimetype": "text/x-python",
   "name": "python",
   "nbconvert_exporter": "python",
   "pygments_lexer": "ipython3",
   "version": "3.12.4"
  }
 },
 "nbformat": 4,
 "nbformat_minor": 4
}
