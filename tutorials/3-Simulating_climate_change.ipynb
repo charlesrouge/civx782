{
 "cells": [
  {
   "cell_type": "markdown",
   "metadata": {
    "id": "Yt916O_HhkAy"
   },
   "source": [
    "# Imports and data uploads\n",
    "\n",
    "As is customary, let us first call the Python libraries needed here, and upload the needed data and code."
   ]
  },
  {
   "cell_type": "code",
   "execution_count": 13,
   "metadata": {
    "executionInfo": {
     "elapsed": 564,
     "status": "ok",
     "timestamp": 1712936927047,
     "user": {
      "displayName": "Charles Rougé",
      "userId": "02328605607346880259"
     },
     "user_tz": -60
    },
    "id": "hoEWhFzkXIIb"
   },
   "outputs": [],
   "source": [
    "from model import setup, balance_calcs\n",
    "from visuals import storage_plots\n",
    "# import datetime\n",
    "# import pandas as pd\n",
    "# import numpy as np"
   ]
  },
  {
   "cell_type": "markdown",
   "metadata": {
    "id": "WMIgClwijXD_"
   },
   "source": [
    "# Preparing the set up.\n",
    "\n",
    "In this tutorial we will build on the model we developed in Tutorial 1. Rather than share all the code in the Notebook again, this time we'll use auxiliary files to do the heavy lifting."
   ]
  },
  {
   "cell_type": "code",
   "execution_count": 4,
   "metadata": {
    "colab": {
     "base_uri": "https://localhost:8080/"
    },
    "executionInfo": {
     "elapsed": 3136,
     "status": "ok",
     "timestamp": 1712936952869,
     "user": {
      "displayName": "Charles Rougé",
      "userId": "02328605607346880259"
     },
     "user_tz": -60
    },
    "id": "OA_TBdm4rxcW",
    "outputId": "35a6129e-9086-444e-a7b9-271367b2dc63"
   },
   "outputs": [
    {
     "name": "stdout",
     "output_type": "stream",
     "text": [
      "Demand downstream of the dam is Environmental.\n",
      "Dead storage is 171.0 hm3\n"
     ]
    }
   ],
   "source": [
    "# Preparing the model\n",
    "reservoir_name = 'Conowingo'\n",
    "downstream_demand_names = ['Environmental']\n",
    "direct_demand_names = ['Baltimore', 'Chester', 'Nuclear plant']\n",
    "\n",
    "# Loading the model!\n",
    "conowingo = setup.define_reservoir(reservoir_name, downstream_demand_names, direct_demand_names)\n",
    "\n",
    "# Checking on the structure, e.g.:\n",
    "print('Demand downstream of the dam is ' + conowingo.demand_downstream[0].name + '.')\n",
    "print('Dead storage is ' + \"{:.1f}\".format(conowingo.dead_storage / 100**3) + ' hm3')"
   ]
  },
  {
   "cell_type": "code",
   "execution_count": 5,
   "metadata": {
    "colab": {
     "base_uri": "https://localhost:8080/"
    },
    "executionInfo": {
     "elapsed": 3545,
     "status": "ok",
     "timestamp": 1712937024376,
     "user": {
      "displayName": "Charles Rougé",
      "userId": "02328605607346880259"
     },
     "user_tz": -60
    },
    "id": "if53mqKzAF8I",
    "outputId": "91dbf63f-9748-4d24-90ab-79a1c27d506e"
   },
   "outputs": [
    {
     "name": "stdout",
     "output_type": "stream",
     "text": [
      "            Total inflows (m3/s)  Baltimore demand (m3/s)  \\\n",
      "Date                                                        \n",
      "1932-01-01            557.049006                13.139017   \n",
      "1932-01-02            638.488257                13.139017   \n",
      "1932-01-03            758.806538                13.139017   \n",
      "1932-01-04            824.048553                13.139017   \n",
      "1932-01-05            780.383975                13.139017   \n",
      "...                          ...                      ...   \n",
      "2001-12-27            775.966547                13.139017   \n",
      "2001-12-28            716.529486                13.139017   \n",
      "2001-12-29            668.362530                13.139017   \n",
      "2001-12-30            580.920108                13.139017   \n",
      "2001-12-31            481.867778                13.139017   \n",
      "\n",
      "            Chester demand (m3/s)  Nuclear plant demand (m3/s)  \\\n",
      "Date                                                             \n",
      "1932-01-01               1.472476                     0.622971   \n",
      "1932-01-02               1.472476                     0.622971   \n",
      "1932-01-03               1.472476                     0.622971   \n",
      "1932-01-04               1.472476                     0.622971   \n",
      "1932-01-05               1.472476                     0.622971   \n",
      "...                           ...                          ...   \n",
      "2001-12-27               1.444159                     0.651287   \n",
      "2001-12-28               1.444159                     0.651287   \n",
      "2001-12-29               1.444159                     0.651287   \n",
      "2001-12-30               1.444159                     0.651287   \n",
      "2001-12-31               1.444159                     0.651287   \n",
      "\n",
      "            Environmental demand (m3/s)  \n",
      "Date                                     \n",
      "1932-01-01                    99.108963  \n",
      "1932-01-02                    99.108963  \n",
      "1932-01-03                    99.108963  \n",
      "1932-01-04                    99.108963  \n",
      "1932-01-05                    99.108963  \n",
      "...                                 ...  \n",
      "2001-12-27                    99.108963  \n",
      "2001-12-28                    99.108963  \n",
      "2001-12-29                    99.108963  \n",
      "2001-12-30                    99.108963  \n",
      "2001-12-31                    99.108963  \n",
      "\n",
      "[25568 rows x 5 columns]\n"
     ]
    }
   ],
   "source": [
    "# Read flow and demand data\n",
    "water_balance = setup.extract_flows(reservoir=conowingo)\n",
    "print(water_balance)"
   ]
  },
  {
   "cell_type": "code",
   "execution_count": 11,
   "metadata": {
    "colab": {
     "base_uri": "https://localhost:8080/"
    },
    "executionInfo": {
     "elapsed": 7938,
     "status": "ok",
     "timestamp": 1712937043084,
     "user": {
      "displayName": "Charles Rougé",
      "userId": "02328605607346880259"
     },
     "user_tz": -60
    },
    "id": "smixVwQqAMn2",
    "outputId": "7af7e4d3-10d8-435e-e12c-9b3dcfab3df7"
   },
   "outputs": [
    {
     "name": "stdout",
     "output_type": "stream",
     "text": [
      "Index(['Total inflows (m3/s)', 'Baltimore demand (m3/s)',\n",
      "       'Chester demand (m3/s)', 'Nuclear plant demand (m3/s)',\n",
      "       'Environmental demand (m3/s)', 'Withdrawals Baltimore (m3/s)',\n",
      "       'Withdrawals Chester (m3/s)', 'Withdrawals Nuclear plant (m3/s)',\n",
      "       'Outflows (m3/s)', 'Storage (m3)'],\n",
      "      dtype='object')\n",
      "13.14\n"
     ]
    }
   ],
   "source": [
    "# Computing the water balance for our standard operating policy (SOP)\n",
    "balance_calcs.sop_full(reservoir=conowingo, water_flows=water_balance)\n",
    "print(water_balance.columns)\n",
    "print(\"{:.2f}\".format(water_balance['Withdrawals Baltimore (m3/s)'].max()))"
   ]
  },
  {
   "cell_type": "markdown",
   "metadata": {},
   "source": [
    "## Having tools to plot results\n",
    "\n",
    "Now that we have our water balance, we can have the same visuals as before."
   ]
  },
  {
   "cell_type": "code",
   "execution_count": 8,
   "metadata": {
    "colab": {
     "base_uri": "https://localhost:8080/",
     "height": 470
    },
    "executionInfo": {
     "elapsed": 917,
     "status": "ok",
     "timestamp": 1712937082573,
     "user": {
      "displayName": "Charles Rougé",
      "userId": "02328605607346880259"
     },
     "user_tz": -60
    },
    "id": "4LVg74oFAUBl",
    "outputId": "83dee571-c32e-4d27-8fc9-79a5eb269b5e"
   },
   "outputs": [
    {
     "ename": "NameError",
     "evalue": "name 'visuals' is not defined",
     "output_type": "error",
     "traceback": [
      "\u001b[1;31m---------------------------------------------------------------------------\u001b[0m",
      "\u001b[1;31mNameError\u001b[0m                                 Traceback (most recent call last)",
      "Cell \u001b[1;32mIn[8], line 2\u001b[0m\n\u001b[0;32m      1\u001b[0m \u001b[38;5;66;03m# Storage over the whole period\u001b[39;00m\n\u001b[1;32m----> 2\u001b[0m fig \u001b[38;5;241m=\u001b[39m visuals\u001b[38;5;241m.\u001b[39mplot_storage(conowingo, water_balance)\n",
      "\u001b[1;31mNameError\u001b[0m: name 'visuals' is not defined"
     ]
    }
   ],
   "source": [
    "# Storage over the whole period\n",
    "fig = storage_plots.timeseries(conowingo, water_balance)"
   ]
  },
  {
   "cell_type": "code",
   "execution_count": null,
   "metadata": {
    "colab": {
     "base_uri": "https://localhost:8080/",
     "height": 470
    },
    "executionInfo": {
     "elapsed": 691,
     "status": "ok",
     "timestamp": 1712937125723,
     "user": {
      "displayName": "Charles Rougé",
      "userId": "02328605607346880259"
     },
     "user_tz": -60
    },
    "id": "rH4EKgRLAbFQ",
    "outputId": "c63d6814-4a79-427e-d197-704d928f9576"
   },
   "outputs": [],
   "source": [
    "# Storage in the dry period\n",
    "fig = visuals.plot_storage(conowingo, water_balance, first_date=datetime.date(1962, 1, 1), last_date=datetime.date(1968, 1, 1))"
   ]
  },
  {
   "cell_type": "code",
   "execution_count": null,
   "metadata": {
    "colab": {
     "base_uri": "https://localhost:8080/",
     "height": 454
    },
    "executionInfo": {
     "elapsed": 674,
     "status": "ok",
     "timestamp": 1712937289721,
     "user": {
      "displayName": "Charles Rougé",
      "userId": "02328605607346880259"
     },
     "user_tz": -60
    },
    "id": "yCr6HwLHA7t9",
    "outputId": "e89e3c77-d189-4262-e612-3c6158aa9e3b"
   },
   "outputs": [],
   "source": [
    "# Outflows\n",
    "fig = visuals.plot_flux(water_balance, 'Outflows', first_date=datetime.date(1962, 1, 1), last_date=datetime.date(1968, 1, 1))"
   ]
  },
  {
   "cell_type": "code",
   "execution_count": null,
   "metadata": {
    "colab": {
     "base_uri": "https://localhost:8080/",
     "height": 454
    },
    "executionInfo": {
     "elapsed": 634,
     "status": "ok",
     "timestamp": 1712937215605,
     "user": {
      "displayName": "Charles Rougé",
      "userId": "02328605607346880259"
     },
     "user_tz": -60
    },
    "id": "-25Kg9gdAuYA",
    "outputId": "a24536be-bcf1-4e43-f887-59d84d153a53"
   },
   "outputs": [],
   "source": [
    "# And more, e.g., nuclear plant withdrawals\n",
    "fig = visuals.plot_flux(water_balance, 'Withdrawals Nuclear plant', first_date=datetime.date(1960, 1, 1), last_date=datetime.date(1970, 1, 1))"
   ]
  },
  {
   "cell_type": "code",
   "execution_count": null,
   "metadata": {
    "executionInfo": {
     "elapsed": 9,
     "status": "aborted",
     "timestamp": 1712936953206,
     "user": {
      "displayName": "Charles Rougé",
      "userId": "02328605607346880259"
     },
     "user_tz": -60
    },
    "id": "HnbPh7Aettda"
   },
   "outputs": [],
   "source": [
    "# A method to compute daily hydropower production has been added to the Reservoir class. Let's try it out!\n",
    "daily_hydropower = conowingo.daily_production(water_balance)\n",
    "# As in tutorial one we can use that to compute average annual production\n",
    "print('Annual average hydropower production at Conowingo is ' + \"{:.0f}\".format(daily_hydropower.sum() / 70 / 1000) + ' GWh.')"
   ]
  },
  {
   "cell_type": "code",
   "execution_count": null,
   "metadata": {
    "executionInfo": {
     "elapsed": 9,
     "status": "aborted",
     "timestamp": 1712936953206,
     "user": {
      "displayName": "Charles Rougé",
      "userId": "02328605607346880259"
     },
     "user_tz": -60
    },
    "id": "7QC4U4-FvQqK"
   },
   "outputs": [],
   "source": [
    "# We can also plot annual hydropower production, like this.\n",
    "fig = visuals.plot_annual_hydropower(conowingo, water_balance)"
   ]
  },
  {
   "cell_type": "markdown",
   "metadata": {
    "id": "H9-n677W4eom"
   },
   "source": [
    "# Performance indicators\n",
    "\n",
    "Management objectives are as follows:\n",
    "1) Produce hydropower\n",
    "2) Meet environmental flows\n",
    "3) Meet domestic and industrial demands\n",
    "4) Avoid excessive flooding that would require evacuating the downstream town of “Port Deposit” (15,000 m3/s)\n",
    "5) Maintain a water level compatible with recreation (hydraulic head over 106.5 ft, where 1ft = 0.3048 m) in June, July and August.\n",
    "\n",
    "We explored objective (1) in Tutorial 1, and we will now focus on the other objectives.\n",
    "\n",
    "For these objectives, we will compare the water flows / levels versus a threshold, and use the R-R-V indicators defined in the lecture. See the function below.\n"
   ]
  },
  {
   "cell_type": "code",
   "execution_count": null,
   "metadata": {
    "executionInfo": {
     "elapsed": 9,
     "status": "aborted",
     "timestamp": 1712936953207,
     "user": {
      "displayName": "Charles Rougé",
      "userId": "02328605607346880259"
     },
     "user_tz": -60
    },
    "id": "U1l9SaSY4mRN"
   },
   "outputs": [],
   "source": [
    "# Function for performance indicators vs. dynamic threshold.\n",
    "\n",
    "def rrv_indicators(time_series, dynamic_threshold, above_desirable, name, **kwargs):\n",
    "    \"\"\"\n",
    "    Compute the RRV indicators for a time series vs. a threshold. Arguments:\n",
    "        time_series: numpy vector\n",
    "        dynamic_threshold: numpy vectors of same length as `time_series`\n",
    "        above_desirable: boolean. If True we value staying at or above a threshold.\n",
    "        name: String, the name of the site\n",
    "        optional argument `vul_unit`: String, default as a percentage, to specify how vulnerability is evaluated\n",
    "    Returns a pandas DataFrame with several performance metrics.\n",
    "    \"\"\"\n",
    "\n",
    "    # Optional argument\n",
    "    vul_unit = kwargs.pop(\"vul_unit\", '%')\n",
    "    print(vul_unit)\n",
    "\n",
    "    # Local variables\n",
    "    n_steps = len(time_series)\n",
    "    tolerance = 1E-6  # for rounding errors\n",
    "\n",
    "    # If above_desirable is false we need to change sign of all data now, so we compare a and b\n",
    "    a = (2 * above_desirable - 1) * time_series\n",
    "    b = (2 * above_desirable - 1) * dynamic_threshold\n",
    "    b = b - tolerance\n",
    "\n",
    "    # Initialise output\n",
    "    indicators = pd.DataFrame(columns=['Name', 'Reliability (0-1)', 'Resilience (-)', 'Vulnerability', 'Failure count'])\n",
    "    indicators.loc[0, 'Name'] = name\n",
    "\n",
    "    # Reliability\n",
    "    indicators.loc[0, 'Reliability (0-1)'] = 1 - np.sum(a < b) / n_steps\n",
    "\n",
    "    # We need to count failure events to compute resilience and vulnerability\n",
    "    event_count = 0\n",
    "    # We also need to have the maximal amplitude or magnitude of failure\n",
    "    magnitude = []\n",
    "    # We use a while loop to count events and their magnitude\n",
    "    t = 0\n",
    "    while t < n_steps:\n",
    "\n",
    "        if a[t] < b[t]:\n",
    "            # New event! we need to update the count of failure events\n",
    "            event_count = event_count + 1\n",
    "            # We also need to keep track of the maximum amplitude of failure\n",
    "            # By default failure is expressed in relative terms\n",
    "            if vul_unit == '%':\n",
    "                magnitude.append((b[t] - a[t]) / abs(b[t]))\n",
    "            else:\n",
    "                magnitude.append(b[t] - a[t])\n",
    "            # Now while event lasts\n",
    "            while a[t] < b[t]:\n",
    "                t = t+1\n",
    "                if t == n_steps:\n",
    "                    break\n",
    "                if vul_unit == '%':\n",
    "                    magnitude[-1] = max(magnitude[-1], (b[t] - a[t]) / abs(b[t]))\n",
    "                else:\n",
    "                    magnitude[-1] = max(magnitude[-1], b[t] - a[t])\n",
    "\n",
    "        # Time increment so while loop concludes\n",
    "        t = t+1\n",
    "\n",
    "    # Resilience\n",
    "    indicators.loc[0, 'Resilience (-)'] = event_count / (n_steps * (1 - indicators.loc[0, 'Reliability (0-1)']))\n",
    "\n",
    "    # Vulnerability (as a percentage)\n",
    "    if vul_unit == '%':\n",
    "        indicators.loc[0, 'Vulnerability'] = \"{:.0f}\".format(np.mean(magnitude) * 100) + '%'\n",
    "    else:\n",
    "        indicators.loc[0, 'Vulnerability'] = \"{:.2f}\".format(np.mean(magnitude)) + vul_unit\n",
    "\n",
    "    # Finally, exporting the failure count\n",
    "    indicators.loc[0, 'Failure count'] = event_count\n",
    "\n",
    "    return indicators\n",
    " "
   ]
  },
  {
   "cell_type": "code",
   "execution_count": null,
   "metadata": {},
   "outputs": [],
   "source": [
    "# Application to demands\n",
    "metrics = pd.concat([rrv_indicators(water_balance['Withdrawals Baltimore (m3/s)'].to_numpy(), \n",
    "                                    water_balance['Baltimore demand (m3/s)'].to_numpy(), True, 'Baltimore'),\n",
    "                     rrv_indicators(water_balance['Withdrawals Chester (m3/s)'].to_numpy(), \n",
    "                                    water_balance['Chester demand (m3/s)'].to_numpy(), True, 'Chester'),\n",
    "                     rrv_indicators(water_balance['Withdrawals Nuclear plant (m3/s)'].to_numpy(), \n",
    "                                    water_balance['Nuclear plant demand (m3/s)'].to_numpy(), True, 'Nuclear'),\n",
    "                     rrv_indicators(water_balance['Outflows (m3/s)'].to_numpy(), \n",
    "                                    water_balance['Environmental demand (m3/s)'].to_numpy(), True, 'Env. flows')],\n",
    "                     axis=0, ignore_index=True)\n",
    "\n",
    "print('Performance metrics for demands are:\\n')\n",
    "print(metrics)\n",
    "print('\\n')"
   ]
  },
  {
   "cell_type": "code",
   "execution_count": null,
   "metadata": {
    "executionInfo": {
     "elapsed": 9,
     "status": "aborted",
     "timestamp": 1712936953207,
     "user": {
      "displayName": "Charles Rougé",
      "userId": "02328605607346880259"
     },
     "user_tz": -60
    },
    "id": "mlQNVU-zZnRs"
   },
   "outputs": [],
   "source": [
    "# Same for flooding\n",
    "flooding_metrics = rrv_indicators(water_balance['Outflows (m3/s)'].to_numpy(), 15000*np.ones(len(water_balance)), False, 'Flooding')\n",
    "\n",
    "metrics = pd.concat([metrics, flooding_metrics], axis=0, ignore_index=True)\n",
    "\n",
    "print('Performance metrics including demands and flooding are:\\n')\n",
    "print(metrics)\n",
    "print('\\n')"
   ]
  },
  {
   "cell_type": "markdown",
   "metadata": {},
   "source": [
    "#### Question 1\n",
    "Comment on the reliability, resilience and vulnerability for the flooding objective. In particular, can we use different operating policies to avoid flooding the town downstream of Conowingo (Port Deposit)?"
   ]
  },
  {
   "cell_type": "code",
   "execution_count": null,
   "metadata": {
    "executionInfo": {
     "elapsed": 9,
     "status": "aborted",
     "timestamp": 1712936953207,
     "user": {
      "displayName": "Charles Rougé",
      "userId": "02328605607346880259"
     },
     "user_tz": -60
    },
    "id": "Il7qi92hbARW"
   },
   "outputs": [],
   "source": [
    "# Summer recreation (lake levels need to stay above a certain level in June, July and August)\n",
    "\n",
    "# We need time series of level objectives. We initialise at 0 requirement.\n",
    "level_objective = pd.Series(index=water_balance.index, data=np.zeros(len(water_balance)))\n",
    "\n",
    "# We set a level during summer months, to be compared with lake level (which coincide with hydraulic head)\n",
    "summer_requirement = 106.5*0.3048\n",
    "for month in np.arange(6, 9, 1):\n",
    "    level_objective[level_objective.index.month == month] = summer_requirement\n",
    "\n",
    "# Get hydraulic head time series, assuming linear relationship between depth and lake area\n",
    "hydraulic_head = np.zeros(len(water_balance))\n",
    "for t in range(len(water_balance)):\n",
    "    depth = conowingo.get_depth(water_balance.iloc[t, -1])\n",
    "    hydraulic_head[t] = conowingo.hydropower_plant.nominal_head - conowingo.total_lake_depth + depth\n",
    "\n",
    "# Get the indicators\n",
    "recreation_metrics = rrv_indicators(hydraulic_head, level_objective.to_numpy(), True, 'Recreation', vul_unit='m')\n",
    "\n",
    "# We need to account for the fact that this requirement is for three months only, which impacts reliability\n",
    "# Failure happens more often if measured in the shorter time window\n",
    "recreation_metrics.iloc[0, 1] = 1 - (1-recreation_metrics.iloc[0, 1]) * len(level_objective) / (70*(30+31+31))\n",
    "\n",
    "metrics = pd.concat([metrics, recreation_metrics], axis=0, ignore_index=True)\n",
    "print('Performance metrics including demands, flooding and recreation are:\\n')\n",
    "print(metrics)\n",
    "print('\\n')"
   ]
  },
  {
   "cell_type": "code",
   "execution_count": null,
   "metadata": {
    "executionInfo": {
     "elapsed": 9,
     "status": "aborted",
     "timestamp": 1712936953207,
     "user": {
      "displayName": "Charles Rougé",
      "userId": "02328605607346880259"
     },
     "user_tz": -60
    },
    "id": "-RU7JJ6fene2"
   },
   "outputs": [],
   "source": [
    "# Add a new column, volumetric reliability\n",
    "metrics.insert(5, 'Volumetric reliability', [0, 0, 0, 0, 'N/A', 'N/A'])\n",
    "print(metrics)"
   ]
  },
  {
   "cell_type": "code",
   "execution_count": null,
   "metadata": {
    "executionInfo": {
     "elapsed": 10,
     "status": "aborted",
     "timestamp": 1712936953208,
     "user": {
      "displayName": "Charles Rougé",
      "userId": "02328605607346880259"
     },
     "user_tz": -60
    },
    "id": "zA_7wOTCggaT"
   },
   "outputs": [],
   "source": [
    "# Volumetric reliability is only defined for the demands, and it relies on the grand total supply / demand\n",
    "totals = water_balance.sum(axis=0)\n",
    "\n",
    "metrics.loc[0, 'Volumetric reliability'] = totals['Withdrawals Baltimore (m3/s)'] / totals['Baltimore demand (m3/s)']\n",
    "metrics.loc[1, 'Volumetric reliability'] = totals['Withdrawals Chester (m3/s)'] / totals['Chester demand (m3/s)']\n",
    "metrics.loc[2, 'Volumetric reliability'] = totals['Withdrawals Nuclear plant (m3/s)'] / totals['Nuclear plant demand (m3/s)']\n",
    "metrics.loc[3, 'Volumetric reliability'] = np.sum(np.minimum(water_balance['Environmental demand (m3/s)'], water_balance['Outflows (m3/s)'])) / totals['Environmental demand (m3/s)']\n",
    "\n",
    "print(metrics)\n"
   ]
  },
  {
   "cell_type": "markdown",
   "metadata": {},
   "source": [
    "#### Question 2\n",
    "Which objectives do you feel the chosen operating policy favours? Why?"
   ]
  },
  {
   "cell_type": "markdown",
   "metadata": {},
   "source": [
    "# Prioritising current water uses with economic principles?\n",
    "\n",
    "Until now we assumed that users took the water if it was available. But now we are the regulator and we want to make sure storage is regulated to make sure the most valuable uses are rewarded, even if that means some users have to scale back on water withdrawals even as they could take more. \n",
    "\n",
    "Before negotiating with the different users we need to have an idea which uses would be prioritised in practice. We need to know, depending on head (h) in the reservoir, how a quantity of water Q that we decide to allocate for releases / withdrawals breaks down between users. All prices in USD. Our starting assumptions are:\n",
    "\n",
    "=> We prioritise ecological conservation and give water for meeting environmental flows a value of USD 10/m3.\n",
    "\n",
    "=> Baltimore and Chester both have alternative sources of water supply so we assume a water value for their uses that is linear at USD 3/m3. If there is a water shortage for them, we assume it will be equal in proportion for both cities.\n",
    "\n",
    "=> Average benefits from hydropower USD 60/MWh.\n",
    "\n",
    "=> Average benefits from nuclear power production USD 40/MWh.\n",
    "\n",
    "Hydropower is more valuable on average than nuclear power (per MWh), because turbines can be turned on or off almost instantly so hydropower can easily meet peak demand (more expensive) whereas nuclear power meets the base load."
   ]
  },
  {
   "cell_type": "markdown",
   "metadata": {},
   "source": [
    "#### Question 3\n",
    "Given the average annual power production from Peach Bottom is around 20,000 GWh, and that all of it needs cooling water, what’s the average value of a m3 in USD?"
   ]
  },
  {
   "cell_type": "code",
   "execution_count": null,
   "metadata": {},
   "outputs": [],
   "source": [
    "# If you have calculations you can use this to do them before looking up the answers."
   ]
  },
  {
   "cell_type": "markdown",
   "metadata": {},
   "source": [
    "#### Question 4\n",
    "How much water does it take to produce 1MWh of hydropower? What does it mean for the value of water for hydropower?"
   ]
  },
  {
   "cell_type": "code",
   "execution_count": null,
   "metadata": {},
   "outputs": [],
   "source": [
    "# If you have calculations you can use this to do them before looking up the answers."
   ]
  },
  {
   "cell_type": "markdown",
   "metadata": {},
   "source": [
    "#### Question 5 \n",
    "With this in mind, how can we prioritise uses if the lake is full on a given day? If the water level is 3 metres lower than full?"
   ]
  },
  {
   "cell_type": "markdown",
   "metadata": {},
   "source": [
    "#### Question 6\n",
    "How sensitive is this order to the assumptions made? Were all those assumptions driven by economics alone?"
   ]
  },
  {
   "cell_type": "markdown",
   "metadata": {},
   "source": [
    "#### Question 7\n",
    "Does this evaluation support releasing water for hydropower production when the reservoir is not full?\n",
    "\n",
    "#### Question 8\n",
    "If we had not valued ecological flows, what would be the consequences?\n",
    "\n",
    "#### Question 9\n",
    "Overall, do the failure indicators reflect how valuable respective uses are? If not, what could be done to improve that?"
   ]
  }
 ],
 "metadata": {
  "colab": {
   "provenance": []
  },
  "kernelspec": {
   "display_name": "Python 3 (ipykernel)",
   "language": "python",
   "name": "python3"
  },
  "language_info": {
   "codemirror_mode": {
    "name": "ipython",
    "version": 3
   },
   "file_extension": ".py",
   "mimetype": "text/x-python",
   "name": "python",
   "nbconvert_exporter": "python",
   "pygments_lexer": "ipython3",
   "version": "3.12.4"
  }
 },
 "nbformat": 4,
 "nbformat_minor": 4
}
