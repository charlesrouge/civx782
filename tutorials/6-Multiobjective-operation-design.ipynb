{
 "cells": [
  {
   "cell_type": "markdown",
   "id": "d5e3ae06",
   "metadata": {},
   "source": [
    "# Imports\n",
    "\n",
    "Let us first call the Python libraries needed here, and upload the needed data and code."
   ]
  },
  {
   "cell_type": "code",
   "execution_count": null,
   "id": "df53f00a",
   "metadata": {},
   "outputs": [],
   "source": [
    "# In case: install missing package(s)\n",
    "# !pip install rhodium \n",
    "\n",
    "# Imports\n",
    "from model import setup, balance_calcs, performance\n",
    "import rhodium\n",
    "import copy\n",
    "import pandas as pd\n",
    "import numpy as np\n",
    "import matplotlib.pyplot as plt"
   ]
  },
  {
   "cell_type": "markdown",
   "id": "9f8a6ea7",
   "metadata": {},
   "source": [
    "# Introduction\n",
    "\n",
    "In this part we will use what we learned from the lake problem to run NSGA-2 with our Conowingo Dam case. Learning to apply a software tool demonstrated in a situation A to the situation B we are interested in is a key engineering skill in today’s world.\n",
    "\n",
    "The goal here is not to carry out a sophisticated trade-off analysis for the Conowingo Dam, but rather to make sure we know how to run an MOEA with the model we are building. This is why we are focusing on a simple case.\n",
    "\n",
    "We want to have a policy that restricts withdrawals from the City of Baltimore by a given fraction below a given lake level. We assume that a desalination plant planned to ensure continuous supply. Decision variables are:\n",
    "\n",
    "1. The fraction reduction in withdrawals from Baltimore (“reduction”, on a 0-1 range)\n",
    "2. The level at which this happens (“reduction_level”)\n",
    "\n",
    "In this tutorial, let us keep objectives simple and simply have two:\n",
    "\n",
    "1. Baltimore volumetric reliability (so different values of “reduction” are reflected differently)\n",
    "2. Reliability of Peach Bottom nuclear plant (we know that’s the same as volumetric reliability: at the nuclear plant when there’s a shortage it’s because the water level is below the intake: then the shortage is 100%)."
   ]
  },
  {
   "cell_type": "markdown",
   "id": "8952c351",
   "metadata": {},
   "source": [
    "# Preparation\n",
    "\n",
    "In this tutorial we will build on the model we developed in the first two tutorials. Compared with tutorial 2:\n",
    "* We put new functions to compute reliability and RRV indicators into `model.py`\n",
    "* We replaced pandas DataFrame with numpy arrays inside the main loop of the water balance method to reduce computing time. This will be important for optimization.\n",
    "* We have a new function that takes the data (Reservoir and flows) as an implicit argument, and relates the decisions to "
   ]
  },
  {
   "cell_type": "code",
   "execution_count": null,
   "id": "0df79961",
   "metadata": {},
   "outputs": [],
   "source": [
    "# Preparing the model\n",
    "reservoir_name = 'Conowingo'\n",
    "downstream_demand_names = ['Environmental']\n",
    "direct_demand_names = ['Baltimore', 'Chester', 'Nuclear plant']\n",
    "\n",
    "# Loading the model!\n",
    "conowingo_default = setup.define_reservoir(reservoir_name, downstream_demand_names, direct_demand_names)\n",
    "\n",
    "# Read flow and demand data. We keep this copy of the data for the simulation of different futures.\n",
    "flows_default = setup.extract_flows(reservoir=conowingo)"
   ]
  },
  {
   "cell_type": "markdown",
   "id": "b551fbfa",
   "metadata": {},
   "source": [
    "Now we define the planning problem by relating performance to design decisions. Note that here we only simulate the system for 6 years (the driest period) to make it shorter during the tutorial."
   ]
  },
  {
   "cell_type": "code",
   "execution_count": null,
   "id": "2adf06de",
   "metadata": {},
   "outputs": [],
   "source": [
    "def planning_problem(reduction, reduction_depth):\n",
    "    \"\"\"\n",
    "    This function computes desired performance metrics for the decisions given in arguments.\n",
    "\n",
    "    Arguments:\n",
    "    reduction: float on [0, 1] range, the reduction in Baltimore water use \n",
    "    reduction_depth: Vector of the depth (one value per month, in m) the amount of water the reservoir can get lower before the restriction kicks in.\n",
    "                This is a regulation.\n",
    "\n",
    "    Note that the Reservoir class object and flows pandas DataFrame that are copied are implicit arguments here.\n",
    "\n",
    "    Outputs are the Baltimore volumetric reliabilities and nuclear plant reliability.\n",
    "\n",
    "    Note we are focusing on the few dry years in the 1960s to make runtime shorter.\n",
    "    \"\"\"\n",
    "\n",
    "    # Get copies of the data so that there is an untouched original copy\n",
    "    time_mask = (flows_default.index.year > 1961) & (flows_default.index.year < 1968)\n",
    "    water_flows = flows_default.iloc[time_mask, :].copy()\n",
    "    reservoir = copy.deepcopy(conowingo_default)\n",
    "\n",
    "    # Local variable: number of time steps\n",
    "    t_total = len(water_flows)\n",
    "\n",
    "    # Local variable: number of seconds in a day\n",
    "    n_sec = 86400\n",
    "\n",
    "    # For computing efficiency: convert flows to numpy arrays outside of time loop\n",
    "\n",
    "    # Inflows (in m3)\n",
    "    inflows = water_flows['Total inflows (m3/s)'].to_numpy() * n_sec\n",
    "\n",
    "    # Initialise downstream demand (in m3 and in numpy array format)\n",
    "    downstream_demands = balance_calcs.downstream_demand_init(reservoir, water_flows, n_sec)\n",
    "\n",
    "    # Initialise at-site demands (in m3 and in numpy array format)\n",
    "    at_site_demands = balance_calcs.local_demand_init(reservoir, water_flows, n_sec)\n",
    "\n",
    "    # Initialise month numbers\n",
    "    month = water_flows.index.month\n",
    "\n",
    "    # Initialise outputs\n",
    "    # Storage needs to account for initial storage\n",
    "    storage = np.zeros(t_total + 1)\n",
    "    storage[0] = reservoir.initial_storage\n",
    "    # Initialise at-site withdrawals and release as water balance components\n",
    "    withdrawals = np.zeros((t_total, len(reservoir.demand_on_site)))\n",
    "    release = np.zeros(t_total)\n",
    "\n",
    "    # Main loop\n",
    "    for t in range(t_total):\n",
    "\n",
    "        # Reduction if initial storage below threshold\n",
    "        # Compute height of water after environmental flows satisfied\n",
    "        height = reservoir.get_height(storage[t] + inflows[t] - downstream_demands[t]) \n",
    "        # Define withdrawals from reservoir and modify them as needed\n",
    "        to_withdraw = at_site_demands[t, :]\n",
    "        if height + reduction_depth[month[t] - 1] < reservoir.total_lake_depth:\n",
    "            to_withdraw[0] = to_withdraw[0] * (1-reduction)\n",
    "\n",
    "        # One-step water balance including reduction\n",
    "        wb_out = balance_calcs.sop_single_step(reservoir, storage[t], inflows[t], to_withdraw, downstream_demands[t])\n",
    "        storage[t+1] = wb_out[0]\n",
    "        release[t] = wb_out[1]\n",
    "        withdrawals[t, :] = wb_out[2]\n",
    "\n",
    "    # Insert data into water balance (mind the flow rates conversions back into m3/s)\n",
    "    for i in range(withdrawals.shape[1]):\n",
    "        water_flows['Withdrawals ' + reservoir.demand_on_site[i].name + ' (m3/s)'] = withdrawals[:, i] / n_sec\n",
    "    water_flows['Release (m3/s)'] = release / n_sec\n",
    "    water_flows['Storage (m3)'] = storage[1:]\n",
    "\n",
    "    # We compute performance indicators\n",
    "    # Baltimore volumetric reliability\n",
    "    baltimore_vol_rel = water_flows.sum(axis=0)['Withdrawals Baltimore (m3/s)'] / water_flows.sum(axis=0)['Baltimore demand (m3/s)']\n",
    "    # Nuclear plant reliability\n",
    "    nuclear_rel = performance.reliability(water_flows['Withdrawals Nuclear plant (m3/s)'], water_flows['Nuclear plant demand (m3/s)'], True)\n",
    "\n",
    "    return baltimore_vol_rel, nuclear_rel"
   ]
  },
  {
   "cell_type": "code",
   "execution_count": null,
   "id": "fa7c2572",
   "metadata": {},
   "outputs": [],
   "source": [
    "# Note what happens when we call the function\n",
    "default_perf = planning_problem(0, np.zeros(12))\n",
    "print('Without intervention, in 1962-1967 Baltimore volumetric reliability is ' + \"{:.2f}\".format(default_perf[0]))\n",
    "print('and the nuclear plant reliability is ' + \"{:.2f}\".format(default_perf[1]))"
   ]
  },
  {
   "cell_type": "code",
   "execution_count": null,
   "id": "0c99a3a7",
   "metadata": {},
   "outputs": [],
   "source": [
    "# Let us now define the model for the Rhodium library\n",
    "conowingo_model = rhodium.Model(planning_problem)\n",
    "\n",
    "conowingo_model.parameters = [rhodium.Parameter('reduction'),\n",
    "                              rhodium.Parameter('reduction_depth')]\n",
    "\n",
    "conowingo_model.responses = [rhodium.Response('baltimore_vol_rel', rhodium.Response.MAXIMIZE),\n",
    "                             rhodium.Response('nuclear_rel', rhodium.Response.MAXIMIZE)]\n",
    "\n",
    "conowingo_model.levers = [rhodium.RealLever('reduction', 0.0, 1.0),\n",
    "                          rhodium.RealLever('reduction_depth', 0.0, conowingo_default.demand_on_site[0].intake_depth, length=12)]"
   ]
  },
  {
   "cell_type": "code",
   "execution_count": null,
   "id": "cb277027",
   "metadata": {},
   "outputs": [],
   "source": [
    "# Optimize\n",
    "output = rhodium.optimize(conowingo_model, 'NSGAII', 2000)\n",
    "print(\"Found\", len(output), \"optimal policies!\")"
   ]
  },
  {
   "cell_type": "code",
   "execution_count": null,
   "id": "5a4549fb",
   "metadata": {},
   "outputs": [],
   "source": [
    "print(output)"
   ]
  },
  {
   "cell_type": "code",
   "execution_count": null,
   "id": "8703f7a1",
   "metadata": {},
   "outputs": [],
   "source": [
    "# Figures that look fancy in one place sometimes are not so easy to reproduce somewhere else.\n",
    "# But as long as the errors don't prevent the plotting.\n",
    "fig = rhodium.parallel_coordinates(conowingo_model, output, c='nuclear_rel')"
   ]
  },
  {
   "cell_type": "code",
   "execution_count": null,
   "id": "5bfd3b4e",
   "metadata": {},
   "outputs": [],
   "source": [
    "# We can save the output in DataFrame format\n",
    "output_df = output.as_dataframe()\n",
    "output_df['Large plant'] = (output_df['reduction'] > 0.5)\n",
    "print(output_df)\n",
    "\n",
    "# Then we can use pandas tools to plot parallel coordinates\n",
    "fig = plt.figure()\n",
    "ax = fig.add_subplot(1, 1, 1)\n",
    "ax = pd.plotting.parallel_coordinates(output_df, 'Large plant')"
   ]
  },
  {
   "cell_type": "code",
   "execution_count": null,
   "id": "bd46d1f6",
   "metadata": {},
   "outputs": [],
   "source": [
    "# Sometimes there are high values of reduction_depth, so we can also zoom on the [0,1] portion of the y-axis.\n",
    "ax.set_ylim(0,1)\n",
    "ax.legend(loc='lower right')\n",
    "fig"
   ]
  },
  {
   "cell_type": "markdown",
   "id": "73ae0247",
   "metadata": {},
   "source": [
    "What do we learn?\n",
    "\n",
    "* We trade-off up to 5% volumetric reliability to Baltimore for less than 0.5% reliability to the nuclear plant. \n",
    "\n",
    "* We see the solutions that benefit most 1) Baltimore (reduction close to 0), and 2) Peach Bottom nuclear plant (100% reduction for a full reservoir: Baltimore does not take water out of Conowingo dam anymore unless there is excess water: the reservoir is full and all other demands are met).\n",
    "\n",
    "* The Pareto Front covers the whole range between the extremes solutions.\n",
    "\n",
    "* With the exception of extreme solutions, most solutions have restrictions that kick in when the reservoir level gets lower than the maximal level by less than 1m. This is logical given the depth of the Peach Bottom intake: if the reductions only kick in when water level is right above the intake this might have little effect on levels getting lower.\n",
    "\n",
    "* Broadly, the greater the reduction, the better for Peach Bottom and the worse for Baltimore.\n"
   ]
  }
 ],
 "metadata": {
  "kernelspec": {
   "display_name": "civx782",
   "language": "python",
   "name": "civx782"
  },
  "language_info": {
   "codemirror_mode": {
    "name": "ipython",
    "version": 3
   },
   "file_extension": ".py",
   "mimetype": "text/x-python",
   "name": "python",
   "nbconvert_exporter": "python",
   "pygments_lexer": "ipython3",
   "version": "3.12.3"
  }
 },
 "nbformat": 4,
 "nbformat_minor": 5
}
