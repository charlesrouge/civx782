{
 "cells": [
  {
   "cell_type": "markdown",
   "metadata": {
    "id": "Yt916O_HhkAy"
   },
   "source": [
    "# Part 1: Imports, data uploads and preparation.\n",
    "\n",
    "As is customary, let us first call the Python libraries needed here, and upload the needed data and code."
   ]
  },
  {
   "cell_type": "code",
   "execution_count": null,
   "metadata": {
    "executionInfo": {
     "elapsed": 564,
     "status": "ok",
     "timestamp": 1712936927047,
     "user": {
      "displayName": "Charles Rougé",
      "userId": "02328605607346880259"
     },
     "user_tz": -60
    },
    "id": "hoEWhFzkXIIb"
   },
   "outputs": [],
   "source": [
    "from model import setup, balance_calcs, dynamic_programming, visuals, performance\n",
    "import pandas as pd\n",
    "import numpy as np\n",
    "import datetime"
   ]
  },
  {
   "cell_type": "markdown",
   "metadata": {
    "id": "WMIgClwijXD_"
   },
   "source": [
    "## Loading model and water balance for historical data\n",
    "\n",
    "In this tutorial we will compute performance, then compare it for the scenarios defined in Tutorial 3. First let's compute the historical water balance."
   ]
  },
  {
   "cell_type": "code",
   "execution_count": null,
   "metadata": {
    "colab": {
     "base_uri": "https://localhost:8080/"
    },
    "executionInfo": {
     "elapsed": 3136,
     "status": "ok",
     "timestamp": 1712936952869,
     "user": {
      "displayName": "Charles Rougé",
      "userId": "02328605607346880259"
     },
     "user_tz": -60
    },
    "id": "OA_TBdm4rxcW",
    "outputId": "35a6129e-9086-444e-a7b9-271367b2dc63"
   },
   "outputs": [],
   "source": [
    "# Preparing the model\n",
    "reservoir_name = 'Conowingo'\n",
    "downstream_demand_names = ['Environmental']\n",
    "direct_demand_names = ['Baltimore', 'Chester', 'Nuclear plant']\n",
    "\n",
    "# Loading the model!\n",
    "conowingo = setup.define_reservoir(reservoir_name, downstream_demand_names, direct_demand_names)\n",
    "\n",
    "# Read flow and demand data. We keep this copy of the data for the simulation of different futures.\n",
    "flows_default = setup.extract_flows(reservoir=conowingo)\n",
    "display(flows_default.head())"
   ]
  },
  {
   "cell_type": "code",
   "execution_count": null,
   "metadata": {
    "colab": {
     "base_uri": "https://localhost:8080/"
    },
    "executionInfo": {
     "elapsed": 7938,
     "status": "ok",
     "timestamp": 1712937043084,
     "user": {
      "displayName": "Charles Rougé",
      "userId": "02328605607346880259"
     },
     "user_tz": -60
    },
    "id": "smixVwQqAMn2",
    "outputId": "7af7e4d3-10d8-435e-e12c-9b3dcfab3df7"
   },
   "outputs": [],
   "source": [
    "# First, make a copy of the flows to initialise the water balance\n",
    "sop_balance = flows_default.copy()  # Keep flows_default as an untouched copy\n",
    "\n",
    "# Computing the water balance for our standard operating policy (SOP)\n",
    "balance_calcs.sop_full(reservoir=conowingo, water_flows=sop_balance)"
   ]
  },
  {
   "cell_type": "code",
   "execution_count": null,
   "metadata": {},
   "outputs": [],
   "source": [
    "# Let us create a time series of hydropower releases\n",
    "sop_hp_release = np.minimum(sop_balance['Release (m3/s)'].values, np.ones(len(sop_balance))*conowingo.hydropower_plant.max_release)\n",
    "\n",
    "# We plot hydropower releases vs. total releases. What do we see?\n",
    "fig = visuals.compare_flow_timeseries(reference=pd.Series(sop_balance['Release (m3/s)']),\n",
    "                                      alternative=pd.Series(sop_hp_release, index=sop_balance.index),\n",
    "                                      labels=['Total release', 'Hydropower release'], \n",
    "                                      first_date=datetime.date(1990, 1, 1), \n",
    "                                      last_date=datetime.date(1991, 1, 1))"
   ]
  },
  {
   "cell_type": "markdown",
   "metadata": {},
   "source": [
    "**Question 1. What is the extra release? What does that mean for hydropower production under SOP?**\n",
    "  \n",
    "\n",
    "# Part 2: Optimizing hydropower production\n",
    "\n",
    "Now we try to maximise hydropower production. Let us use a dynamic program to achieve this!\n",
    "\n",
    "Dynamic programming has two phases. \n",
    "\n",
    "First, a backward optimization phase where we go backwards to decompose the problem of finding a release decision over many days into a sequence of single-day decisions. This backward phase yields release decisions for discretised states for every day. \n",
    "\n",
    "Second, we use this table of release decisions to find the actual sequence of decisions going forward.\n",
    "\n",
    "## 2.1 - Dynamic programming\n",
    "\n",
    "Let us start with the first step, after declaring some key parameters."
   ]
  },
  {
   "cell_type": "code",
   "execution_count": null,
   "metadata": {},
   "outputs": [],
   "source": [
    "# Start date of analysis\n",
    "first_year = 1989\n",
    "# Number of discretised storage value\n",
    "nb_storage_points = 11\n",
    "# Number of release decisions to investigate at each storage value and time step\n",
    "nb_decisions = 10"
   ]
  },
  {
   "cell_type": "markdown",
   "metadata": {},
   "source": [
    "**Question 2. Referring to the code in the `model/dynamic_programming.py` document: what are key steps of the backward optimization algorithm? How long do we run it for? According to you, what would happen if we increased that duration?**"
   ]
  },
  {
   "cell_type": "code",
   "execution_count": null,
   "metadata": {},
   "outputs": [],
   "source": [
    "# First we use the backward function to go backward from the final time step to the initial time step.\n",
    "tables = dynamic_programming.backward_hp_max(reservoir=conowingo, \n",
    "                                             water_flows=flows_default, \n",
    "                                             first_year=first_year, \n",
    "                                             nb_states=nb_storage_points, \n",
    "                                             nb_decisions=nb_decisions)"
   ]
  },
  {
   "cell_type": "code",
   "execution_count": null,
   "metadata": {},
   "outputs": [],
   "source": [
    "# Let us save the tables to have a look (optional)\n",
    "pd.DataFrame(tables[0]).to_csv('release.csv')\n",
    "pd.DataFrame(tables[1]).to_csv('value.csv')"
   ]
  },
  {
   "cell_type": "markdown",
   "metadata": {},
   "source": [
    "**Question 3. Let us open the CSV files in Excel. What do we see?**\n",
    "\n",
    "**Question 4. Still referring to code in `model/dynamic_programming.py`, do you understand why we need the forward phase below as a separate phase from the backward optimization?**"
   ]
  },
  {
   "cell_type": "code",
   "execution_count": null,
   "metadata": {},
   "outputs": [],
   "source": [
    "# Forward phase\n",
    "hp_max_balance = dynamic_programming.forward_loop(reservoir=conowingo, \n",
    "                                                  water_flows=flows_default, \n",
    "                                                  year_beg=first_year, \n",
    "                                                  release_table=tables[0])\n",
    "\n",
    "display(hp_max_balance.head())"
   ]
  },
  {
   "cell_type": "markdown",
   "metadata": {},
   "source": [
    "## 2.2 - Evaluation of optimal policy\n",
    "\n",
    "Here we look at what the hydropower-maximising policy does and what its consequences are, compared with SOP.\n",
    "\n",
    "**Question 5. In practice and based on the figures and metrics below, what are the operational consequences of the policy? Its impact on performance?**"
   ]
  },
  {
   "cell_type": "code",
   "execution_count": null,
   "metadata": {},
   "outputs": [],
   "source": [
    "# Comparing releases\n",
    "fig = visuals.compare_flow_timeseries(reference=pd.Series(sop_balance['Release (m3/s)']),\n",
    "                                      alternative=pd.Series(hp_max_balance['Release (m3/s)']),\n",
    "                                      labels=['SOP', 'Max hydropower'], \n",
    "                                      first_date=datetime.date(first_year, 1, 1), \n",
    "                                      last_date=datetime.date(first_year+1, 12, 31))"
   ]
  },
  {
   "cell_type": "code",
   "execution_count": null,
   "metadata": {},
   "outputs": [],
   "source": [
    "# Comparing storage\n",
    "fig = visuals.compare_storage_timeseries(reservoir=conowingo, \n",
    "                                         storage_1=pd.Series(sop_balance['Storage (m3)']),\n",
    "                                         storage_2=pd.Series(hp_max_balance['Storage (m3)']),\n",
    "                                         labels=['SOP', 'Max hydropower'], \n",
    "                                         first_date=datetime.date(first_year, 1, 1), \n",
    "                                         last_date=datetime.date(first_year+1, 12, 31))"
   ]
  },
  {
   "cell_type": "code",
   "execution_count": null,
   "metadata": {},
   "outputs": [],
   "source": [
    "# Performance metrics for SOP\n",
    "metrics_ref = performance.all_metrics(conowingo, sop_balance.loc[datetime.date(first_year, 1, 1):datetime.date(first_year+1, 12, 31), :])\n",
    "display(metrics_ref)"
   ]
  },
  {
   "cell_type": "code",
   "execution_count": null,
   "metadata": {},
   "outputs": [],
   "source": [
    "# Performance metrics for the hydropower maximizing policy\n",
    "metrics_hp_max = performance.all_metrics(conowingo, hp_max_balance.loc[datetime.date(first_year, 1, 1):datetime.date(first_year+1, 12, 31), :])\n",
    "display(metrics_hp_max)"
   ]
  },
  {
   "cell_type": "code",
   "execution_count": null,
   "metadata": {},
   "outputs": [],
   "source": [
    "# Hydropower production under SOP\n",
    "daily_hp_ref = conowingo.daily_production(sop_balance)\n",
    "hp_annual_ref = daily_hp_ref.resample('YE').sum()/1000\n",
    "hp_ref = hp_annual_ref[hp_annual_ref.index.year==first_year].iloc[0] + hp_annual_ref[hp_annual_ref.index.year==first_year+1].iloc[0]\n",
    "print('With SOP, ' + str(first_year) + '-' + str(first_year+1) + ' total production is ' + \"{:.0f}\".format(hp_ref) + ' GWh.')\n",
    "\n",
    "# Maximised hydropower production\n",
    "hp_maximised_daily = conowingo.daily_production(hp_max_balance)\n",
    "hp_annual_max = hp_maximised_daily.resample('YE').sum()/1000\n",
    "hp_maxi = hp_annual_max[hp_annual_max.index.year==first_year].iloc[0] + hp_annual_max[hp_annual_max.index.year==first_year+1].iloc[0]\n",
    "print('After hydropower maximisation, ' + str(first_year) + '-' + str(first_year+1) + ' total production is ' + \"{:.0f}\".format(hp_maxi) + ' GWh.')\n",
    "\n",
    "# Increase\n",
    "print('This is a ' + \"{:.2f}\".format(100*(hp_maxi-hp_ref)/hp_ref) + '% increase with optimization.')"
   ]
  },
  {
   "cell_type": "markdown",
   "metadata": {},
   "source": [
    "# Part 3: Another optimization\n",
    "\n",
    "Can we mitigate this tradeoff by constraining that the hydropower maximisation should not empty the reservoir in ways that disrupt water supply. The first user to see its water supply cut when water levels get lower is the nuclear plant.\n",
    "\n",
    "\n",
    "## 3-1. Dynamic programming setup and execution."
   ]
  },
  {
   "cell_type": "code",
   "execution_count": null,
   "metadata": {},
   "outputs": [],
   "source": [
    "# Success condition: enough water. This corresponds to the demand with the shallowest intake being met (i.e., the Nuclear plant))\n",
    "# Associated volume\n",
    "threshold_volume = conowingo.volume_from_height(conowingo.total_lake_depth - conowingo.demand_on_site[2].intake_depth)\n",
    "print(threshold_volume)"
   ]
  },
  {
   "cell_type": "code",
   "execution_count": null,
   "metadata": {},
   "outputs": [],
   "source": [
    "# First we use the backward function to go backward from the final time step to the initial time step.\n",
    "tables_2 = dynamic_programming.backward_hp_max(reservoir=conowingo, \n",
    "                                             water_flows=flows_default, \n",
    "                                             first_year=first_year, \n",
    "                                             nb_states=nb_storage_points, \n",
    "                                             nb_decisions=nb_decisions,\n",
    "                                             threshold_volume=threshold_volume)\n",
    "\n",
    "# Forward phase\n",
    "hp_constrained_balance = dynamic_programming.forward_loop(reservoir=conowingo, \n",
    "                                                  water_flows=flows_default, \n",
    "                                                  year_beg=first_year, \n",
    "                                                  release_table=tables_2[0])\n",
    "\n",
    "display(hp_constrained_balance)"
   ]
  },
  {
   "cell_type": "markdown",
   "metadata": {},
   "source": [
    "## 3.2 - Policy evaluation\n",
    "\n",
    "**Question 6. Based on the figures and metrics below, what is the impact on addint constraints, both on policy and on performance?**"
   ]
  },
  {
   "cell_type": "code",
   "execution_count": null,
   "metadata": {},
   "outputs": [],
   "source": [
    "# Storage\n",
    "fig = visuals.compare_storage_timeseries(reservoir=conowingo, \n",
    "                                         storage_1=pd.Series(sop_balance['Storage (m3)']),\n",
    "                                         storage_2=pd.Series(hp_max_balance['Storage (m3)']),\n",
    "                                         storage_3=pd.Series(hp_constrained_balance['Storage (m3)']),\n",
    "                                         labels=['SOP', 'Max hydropower', 'With constraints'], \n",
    "                                         first_date=datetime.date(first_year, 1, 1), \n",
    "                                         last_date=datetime.date(first_year+1, 12, 31))"
   ]
  },
  {
   "cell_type": "code",
   "execution_count": null,
   "metadata": {},
   "outputs": [],
   "source": [
    "# But what happens? Let's zoom in!\n",
    "fig = visuals.compare_storage_timeseries(reservoir=conowingo, \n",
    "                                         storage_1=pd.Series(sop_balance['Storage (m3)']),\n",
    "                                         storage_2=pd.Series(hp_max_balance['Storage (m3)']),\n",
    "                                         storage_3=pd.Series(hp_constrained_balance['Storage (m3)']),\n",
    "                                         labels=['SOP', 'Max hydropower', 'With constraints'], \n",
    "                                         first_date=datetime.date(first_year, 5, 1), \n",
    "                                         last_date=datetime.date(first_year, 6, 1))"
   ]
  },
  {
   "cell_type": "code",
   "execution_count": null,
   "metadata": {},
   "outputs": [],
   "source": [
    "# Do we get better performance by adding constraints? let's see.\n",
    "metrics_constrained = performance.all_metrics(conowingo, hp_constrained_balance.loc[datetime.date(first_year, 1, 1):datetime.date(first_year+1, 12, 31), :])\n",
    "display(metrics_constrained)"
   ]
  },
  {
   "cell_type": "code",
   "execution_count": null,
   "metadata": {},
   "outputs": [],
   "source": [
    "# Maximised hydropower production under constraints\n",
    "hp_constrained_daily = conowingo.daily_production(hp_constrained_balance)\n",
    "hp_annual_constrained = hp_constrained_daily.resample('YE').sum()/1000\n",
    "hp_constrained = hp_annual_constrained[hp_annual_constrained.index.year==first_year].iloc[0] + \\\n",
    "                 hp_annual_constrained[hp_annual_constrained.index.year==first_year+1].iloc[0]\n",
    "print('After hydropower maximisation, ' + str(first_year) + '-' + str(first_year+1) + ' total production is ' + \"{:.0f}\".format(hp_constrained) + ' GWh.')\n",
    "\n",
    "# Increase\n",
    "print('This is a ' + \"{:.2f}\".format(100*(hp_constrained-hp_ref)/hp_ref) + '% increase with optimization.')"
   ]
  },
  {
   "cell_type": "markdown",
   "metadata": {},
   "source": [
    "# Part 4: Impact of reservoir size\n",
    "\n",
    "We have seen that for a reservoir that is small compared with the inflows and uses (i.e., can be filled and emptied in a few days), improvements on SOP to maximise hydropower production are only marginal. But would that be the case with a much larger reservoir?\n",
    "\n",
    "## 4.1 - Designing a \"larger\" reservoir\n",
    "\n",
    "For this we will actually reduce all inflows and demands, including hydropower (i.e., reduce maximum release and installed capacity). This way the storage will look larger compared with its uses. We divide all by 10."
   ]
  },
  {
   "cell_type": "code",
   "execution_count": null,
   "metadata": {},
   "outputs": [],
   "source": [
    "# New flows\n",
    "rescaled_flows = flows_default.copy()\n",
    "rescaled_flows = rescaled_flows / 10\n",
    "\n",
    "# New hydropower use\n",
    "res_2 = conowingo\n",
    "res_2.hydropower_plant.installed_capacity = conowingo.hydropower_plant.installed_capacity / 10\n",
    "res_2.hydropower_plant.max_release = conowingo.hydropower_plant.max_release / 10"
   ]
  },
  {
   "cell_type": "markdown",
   "metadata": {},
   "source": [
    "## 4.2 - Computing policies in this rescaled setting\n",
    "\n",
    "Let us compute the three policies that we have examined until now: SOP, and policies maximizing hydropower, without or with constraints."
   ]
  },
  {
   "cell_type": "code",
   "execution_count": null,
   "metadata": {},
   "outputs": [],
   "source": [
    "# Computing the water balance for our standard operating policy (SOP)\n",
    "sop_rescaled = rescaled_flows.copy()\n",
    "balance_calcs.sop_full(reservoir=conowingo, water_flows=sop_rescaled)"
   ]
  },
  {
   "cell_type": "code",
   "execution_count": null,
   "metadata": {},
   "outputs": [],
   "source": [
    "# Hydropower maximization, no constraints\n",
    "\n",
    "# First we use the backward function to go backward from the final time step to the initial time step.\n",
    "tables = dynamic_programming.backward_hp_max(reservoir=res_2, \n",
    "                                             water_flows=rescaled_flows, \n",
    "                                             first_year=first_year, \n",
    "                                             nb_states=nb_storage_points, \n",
    "                                             nb_decisions=nb_decisions)\n",
    "\n",
    "# Forward phase\n",
    "hp_max_rescaled = dynamic_programming.forward_loop(reservoir=res_2, \n",
    "                                                   water_flows=rescaled_flows, \n",
    "                                                   year_beg=first_year, \n",
    "                                                   release_table=tables[0])\n",
    "\n",
    "display(hp_max_rescaled.head())"
   ]
  },
  {
   "cell_type": "code",
   "execution_count": null,
   "metadata": {},
   "outputs": [],
   "source": [
    "# Hydropower maximization, constrained\n",
    "\n",
    "# First we use the backward function to go backward from the final time step to the initial time step.\n",
    "tables = dynamic_programming.backward_hp_max(reservoir=res_2, \n",
    "                                               water_flows=rescaled_flows, \n",
    "                                               first_year=first_year, \n",
    "                                               nb_states=nb_storage_points, \n",
    "                                               nb_decisions=nb_decisions,\n",
    "                                               threshold_volume=threshold_volume)\n",
    "\n",
    "# Forward phase\n",
    "hp_constrained_rescaled = dynamic_programming.forward_loop(reservoir=res_2, \n",
    "                                                           water_flows=rescaled_flows, \n",
    "                                                           year_beg=first_year, \n",
    "                                                           release_table=tables[0])\n",
    "\n",
    "display(hp_constrained_rescaled.head())"
   ]
  },
  {
   "cell_type": "markdown",
   "metadata": {},
   "source": [
    "## 4.3 Evaluation\n",
    "\n",
    "**Question 7. How does storage size influence the benefits of optimization?**"
   ]
  },
  {
   "cell_type": "code",
   "execution_count": null,
   "metadata": {},
   "outputs": [],
   "source": [
    "fig = visuals.compare_storage_timeseries(reservoir=res_2, \n",
    "                                         storage_1=pd.Series(sop_rescaled['Storage (m3)']),\n",
    "                                         storage_2=pd.Series(hp_max_rescaled['Storage (m3)']),\n",
    "                                         storage_3=pd.Series(hp_constrained_rescaled['Storage (m3)']),\n",
    "                                         labels=['SOP release', 'Release for max hydropower', 'With constraints'], \n",
    "                                         first_date=datetime.date(first_year, 1, 1), \n",
    "                                         last_date=datetime.date(first_year+1, 12, 31))"
   ]
  },
  {
   "cell_type": "code",
   "execution_count": null,
   "metadata": {},
   "outputs": [],
   "source": [
    "m2_sop = performance.all_metrics(res_2, sop_rescaled.loc[datetime.date(first_year, 1, 1):datetime.date(first_year+1, 12, 31), :])\n",
    "display(m2_sop)"
   ]
  },
  {
   "cell_type": "code",
   "execution_count": null,
   "metadata": {},
   "outputs": [],
   "source": [
    "m2_hpmax = performance.all_metrics(res_2, hp_max_rescaled.loc[datetime.date(first_year, 1, 1):datetime.date(first_year+1, 12, 31), :])\n",
    "display(m2_hpmax)"
   ]
  },
  {
   "cell_type": "code",
   "execution_count": null,
   "metadata": {},
   "outputs": [],
   "source": [
    "m2_constrained = performance.all_metrics(res_2, hp_constrained_rescaled.loc[datetime.date(first_year, 1, 1):datetime.date(first_year+1, 12, 31), :])\n",
    "display(m2_constrained)"
   ]
  },
  {
   "cell_type": "code",
   "execution_count": null,
   "metadata": {},
   "outputs": [],
   "source": [
    "# Hydropower production under SOP\n",
    "daily_hp_ref = res_2.daily_production(sop_rescaled)\n",
    "hp_annual_ref = daily_hp_ref.resample('YE').sum()/1000\n",
    "hp_ref = hp_annual_ref[hp_annual_ref.index.year==first_year].iloc[0] + hp_annual_ref[hp_annual_ref.index.year==first_year+1].iloc[0]\n",
    "print('With SOP, ' + str(first_year) + '-' + str(first_year+1) + ' total production is ' + \"{:.0f}\".format(hp_ref) + ' GWh.\\n')\n",
    "\n",
    "# Maximised hydropower production\n",
    "hp_maximised_daily = res_2.daily_production(hp_max_rescaled)\n",
    "hp_annual_max = hp_maximised_daily.resample('YE').sum()/1000\n",
    "hp_maxi = hp_annual_max[hp_annual_max.index.year==first_year].iloc[0] + hp_annual_max[hp_annual_max.index.year==first_year+1].iloc[0]\n",
    "print('After hydropower maximisation, ' + str(first_year) + '-' + str(first_year+1) + ' total production is ' + \"{:.0f}\".format(hp_maxi) + ' GWh.')\n",
    "# Increase\n",
    "print('This is a ' + \"{:.2f}\".format(100*(hp_maxi-hp_ref)/hp_ref) + '% increase with optimization.\\n')\n",
    "\n",
    "# Maximised hydropower production under constraints\n",
    "hp_constrained_daily = res_2.daily_production(hp_constrained_rescaled)\n",
    "hp_annual_constrained = hp_constrained_daily.resample('YE').sum()/1000\n",
    "hp_constrained = hp_annual_constrained[hp_annual_constrained.index.year==first_year].iloc[0] + \\\n",
    "                 hp_annual_constrained[hp_annual_constrained.index.year==first_year+1].iloc[0]\n",
    "print('After hydropower maximisation, ' + str(first_year) + '-' + str(first_year+1) + ' total production is ' + \"{:.0f}\".format(hp_constrained) + ' GWh.')\n",
    "# Increase\n",
    "print('This is a ' + \"{:.2f}\".format(100*(hp_constrained-hp_ref)/hp_ref) + '% increase with optimization.')"
   ]
  },
  {
   "cell_type": "markdown",
   "metadata": {},
   "source": [
    "Last but not least, you can clean up the CSV files before logging off (especially if working on home machine)."
   ]
  },
  {
   "cell_type": "code",
   "execution_count": null,
   "metadata": {},
   "outputs": [],
   "source": []
  }
 ],
 "metadata": {
  "colab": {
   "provenance": []
  },
  "kernelspec": {
   "display_name": "civx782",
   "language": "python",
   "name": "civx782"
  },
  "language_info": {
   "codemirror_mode": {
    "name": "ipython",
    "version": 3
   },
   "file_extension": ".py",
   "mimetype": "text/x-python",
   "name": "python",
   "nbconvert_exporter": "python",
   "pygments_lexer": "ipython3",
   "version": "3.12.3"
  }
 },
 "nbformat": 4,
 "nbformat_minor": 4
}
